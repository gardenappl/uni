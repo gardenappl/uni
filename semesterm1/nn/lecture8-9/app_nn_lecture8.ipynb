{
  "nbformat": 4,
  "nbformat_minor": 0,
  "metadata": {
    "colab": {
      "provenance": []
    },
    "kernelspec": {
      "name": "python3",
      "display_name": "Python 3"
    },
    "language_info": {
      "name": "python"
    }
  },
  "cells": [
    {
      "cell_type": "code",
      "execution_count": null,
      "metadata": {
        "colab": {
          "base_uri": "https://localhost:8080/"
        },
        "id": "c5QIGl7l7vbv",
        "outputId": "5cd14799-a2e2-43f3-f36d-6ea84d5723ac"
      },
      "outputs": [
        {
          "output_type": "stream",
          "name": "stdout",
          "text": [
            "  % Total    % Received % Xferd  Average Speed   Time    Time     Time  Current\n",
            "                                 Dload  Upload   Total   Spent    Left  Speed\n",
            "  0     0    0     0    0     0      0      0 --:--:-- --:--:-- --:--:--     0\n",
            "  0     0    0     0    0     0      0      0 --:--:-- --:--:-- --:--:--     0\n",
            "100  152M  100  152M    0     0  22.0M      0  0:00:06  0:00:06 --:--:-- 36.2M\n"
          ]
        }
      ],
      "source": [
        "!curl -L https://github.com/gardenappl/uni/blob/main/semesterm1/nn/lecture7/fonts.zip?raw=true -o fonts.zip"
      ]
    },
    {
      "cell_type": "code",
      "source": [
        "!rm *.csv\n",
        "!unzip fonts.zip"
      ],
      "metadata": {
        "colab": {
          "base_uri": "https://localhost:8080/"
        },
        "id": "bYF6ecuN-efx",
        "outputId": "d9c3d1ed-0c37-4b89-beb9-dea7a0952268"
      },
      "execution_count": null,
      "outputs": [
        {
          "output_type": "stream",
          "name": "stdout",
          "text": [
            "rm: cannot remove '*.csv': No such file or directory\n",
            "Archive:  fonts.zip\n",
            "  inflating: AGENCY.csv              \n",
            "  inflating: ARIAL.csv               \n",
            "  inflating: BAITI.csv               \n",
            "  inflating: BANKGOTHIC.csv          \n",
            "  inflating: BASKERVILLE.csv         \n",
            "  inflating: BAUHAUS.csv             \n",
            "  inflating: BELL.csv                \n",
            "  inflating: BERLIN.csv              \n",
            "  inflating: BERNARD.csv             \n",
            "  inflating: BITSTREAMVERA.csv       \n",
            "  inflating: BLACKADDER.csv          \n",
            "  inflating: BODONI.csv              \n",
            "  inflating: BOOK.csv                \n",
            "  inflating: BOOKMAN.csv             \n",
            "  inflating: BRADLEY.csv             \n",
            "  inflating: BRITANNIC.csv           \n",
            "  inflating: BROADWAY.csv            \n",
            "  inflating: BRUSH.csv               \n",
            "  inflating: BUXTON.csv              \n",
            "  inflating: CAARD.csv               \n",
            "  inflating: CALIBRI.csv             \n",
            "  inflating: CALIFORNIAN.csv         \n",
            "  inflating: CALISTO.csv             \n",
            "  inflating: CAMBRIA.csv             \n",
            "  inflating: CANDARA.csv             \n",
            "  inflating: CASTELLAR.csv           \n",
            "  inflating: CENTAUR.csv             \n",
            "  inflating: CENTURY.csv             \n",
            "  inflating: CHILLER.csv             \n",
            "  inflating: CITYBLUEPRINT.csv       \n",
            "  inflating: COMIC.csv               \n",
            "  inflating: COMMERCIALSCRIPT.csv    \n",
            "  inflating: COMPLEX.csv             \n",
            "  inflating: CONSOLAS.csv            \n",
            "  inflating: CONSTANTIA.csv          \n",
            "  inflating: COOPER.csv              \n",
            "  inflating: COPPERPLATE.csv         \n",
            "  inflating: CORBEL.csv              \n",
            "  inflating: COUNTRYBLUEPRINT.csv    \n",
            "  inflating: COURIER.csv             \n",
            "  inflating: CREDITCARD.csv          \n",
            "  inflating: CURLZ.csv               \n",
            "  inflating: DUTCH801.csv            \n",
            "  inflating: E13B.csv                \n",
            "  inflating: EBRIMA.csv              \n",
            "  inflating: EDWARDIAN.csv           \n",
            "  inflating: ELEPHANT.csv            \n",
            "  inflating: ENGLISH.csv             \n",
            "  inflating: ENGRAVERS.csv           \n",
            "  inflating: ERAS.csv                \n",
            "  inflating: EUROROMAN.csv           \n",
            "  inflating: FELIX TITLING.csv       \n",
            "  inflating: FOOTLIGHT.csv           \n",
            "  inflating: FORTE.csv               \n",
            "  inflating: FRANKLIN.csv            \n",
            "  inflating: FREESTYLE.csv           \n",
            "  inflating: FRENCH.csv              \n",
            "  inflating: GABRIOLA.csv            \n",
            "  inflating: GADUGI.csv              \n",
            "  inflating: GARAMOND.csv            \n",
            "  inflating: GEORGIA.csv             \n",
            "  inflating: GIGI.csv                \n",
            "  inflating: GILL.csv                \n",
            "  inflating: GLOUCESTER.csv          \n",
            "  inflating: GOTHICE.csv             \n",
            "  inflating: GOUDY.csv               \n",
            "  inflating: GUNPLAY.csv             \n",
            "  inflating: HAETTENSCHWEILER.csv    \n",
            "  inflating: HANDPRINT.csv           \n",
            "  inflating: HARLOW.csv              \n",
            "  inflating: HARRINGTON.csv          \n",
            "  inflating: HIGH TOWER.csv          \n",
            "  inflating: HIMALAYA.csv            \n",
            "  inflating: IMPACT.csv              \n",
            "  inflating: IMPRINT.csv             \n",
            "  inflating: INFORMAL.csv            \n",
            "  inflating: ISOC.csv                \n",
            "  inflating: ITALIC.csv              \n",
            "  inflating: JAVANESE.csv            \n",
            "  inflating: JOKERMAN.csv            \n",
            "  inflating: JUICE.csv               \n",
            "  inflating: KRISTEN.csv             \n",
            "  inflating: KUNSTLER.csv            \n",
            "  inflating: LEELAWADEE.csv          \n",
            "  inflating: LUCIDA.csv              \n",
            "  inflating: MAGNETO.csv             \n",
            "  inflating: MAIANDRA.csv            \n",
            "  inflating: MATURA.csv              \n",
            "  inflating: MINGLIU.csv             \n",
            "  inflating: MISTRAL.csv             \n",
            "  inflating: MODERN.csv              \n",
            "  inflating: MONEY.csv               \n",
            "  inflating: MONOSPAC821.csv         \n",
            "  inflating: MONOTXT.csv             \n",
            "  inflating: MONOTYPE.csv            \n",
            "  inflating: MV_BOLI.csv             \n",
            "  inflating: MYANMAR.csv             \n",
            "  inflating: NIAGARA.csv             \n",
            "  inflating: NINA.csv                \n",
            "  inflating: NIRMALA.csv             \n",
            "  inflating: NUMERICS.csv            \n",
            "  inflating: OCRA.csv                \n",
            "  inflating: OCRB.csv                \n",
            "  inflating: ONYX.csv                \n",
            "  inflating: PALACE.csv              \n",
            "  inflating: PALATINO.csv            \n",
            "  inflating: PANROMAN.csv            \n",
            "  inflating: PAPYRUS.csv             \n",
            "  inflating: PERPETUA.csv            \n",
            "  inflating: PHAGSPA.csv             \n",
            "  inflating: PLAYBILL.csv            \n",
            "  inflating: PMINGLIU-EXTB.csv       \n",
            "  inflating: PRISTINA.csv            \n",
            "  inflating: PROXY.csv               \n",
            "  inflating: QUICKTYPE.csv           \n",
            "  inflating: RAGE.csv                \n",
            "  inflating: RAVIE.csv               \n",
            "  inflating: REFERENCE.csv           \n",
            "  inflating: RICHARD.csv             \n",
            "  inflating: ROCKWELL.csv            \n",
            "  inflating: ROMAN.csv               \n",
            "  inflating: ROMANTIC.csv            \n",
            "  inflating: SANSSERIF.csv           \n",
            "  inflating: SCRIPT.csv              \n",
            "  inflating: SCRIPTB.csv             \n",
            "  inflating: SEGOE.csv               \n",
            "  inflating: SERIF.csv               \n",
            "  inflating: SHOWCARD.csv            \n",
            "  inflating: SIMPLEX.csv             \n",
            "  inflating: SITKA.csv               \n",
            "  inflating: SKETCHFLOW.csv          \n",
            "  inflating: SNAP.csv                \n",
            "  inflating: STENCIL.csv             \n",
            "  inflating: STYLUS.csv              \n",
            "  inflating: SUPERFRENCH.csv         \n",
            "  inflating: SWIS721.csv             \n",
            "  inflating: SYLFAEN.csv             \n",
            "  inflating: TAHOMA.csv              \n",
            "  inflating: TAI.csv                 \n",
            "  inflating: TECHNIC.csv             \n",
            "  inflating: TEMPUS.csv              \n",
            "  inflating: TIMES.csv               \n",
            "  inflating: TREBUCHET.csv           \n",
            "  inflating: TW.csv                  \n",
            "  inflating: TXT.csv                 \n",
            "  inflating: VERDANA.csv             \n",
            "  inflating: VIN.csv                 \n",
            "  inflating: VINER.csv               \n",
            "  inflating: VINETA.csv              \n",
            "  inflating: VIVALDI.csv             \n",
            "  inflating: VLADIMIR.csv            \n",
            "  inflating: WIDE.csv                \n",
            "  inflating: YI BAITI.csv            \n"
          ]
        }
      ]
    },
    {
      "cell_type": "markdown",
      "source": [
        "Приберемо optical character recognition, це не є шрифтом."
      ],
      "metadata": {
        "id": "8cE7zkaaMfKN"
      }
    },
    {
      "cell_type": "code",
      "source": [
        "!rm OCR*.csv"
      ],
      "metadata": {
        "id": "Wf-5xy3T-yUx"
      },
      "execution_count": null,
      "outputs": []
    },
    {
      "cell_type": "code",
      "source": [
        "import glob\n",
        "import pandas as pd\n",
        "files = glob.glob(\"*.csv\")\n",
        "df = pd.concat([pd.read_csv(f) for f in files])\n",
        "print(df)"
      ],
      "metadata": {
        "colab": {
          "base_uri": "https://localhost:8080/"
        },
        "id": "6s29OGN2-2NJ",
        "outputId": "bdeedc10-cbc5-4971-c365-de792544a274"
      },
      "execution_count": null,
      "outputs": [
        {
          "output_type": "stream",
          "name": "stdout",
          "text": [
            "         font fontVariant  m_label  strength  italic  orientation  m_top  \\\n",
            "0       CAARD    CAARD-LN     8776       0.4       0          0.0     47   \n",
            "1       CAARD    CAARD-LN     8729       0.4       0          0.0     52   \n",
            "2       CAARD    CAARD-LN     8722       0.4       0          0.0     55   \n",
            "3       CAARD    CAARD-LN     8482       0.4       0          0.0     34   \n",
            "4       CAARD    CAARD-LN     8364       0.4       0          0.0     32   \n",
            "..        ...         ...      ...       ...     ...          ...    ...   \n",
            "907  ELEPHANT    ELEPHANT       37       0.7       1          0.0     35   \n",
            "908  ELEPHANT    ELEPHANT       36       0.7       1          0.0     33   \n",
            "909  ELEPHANT    ELEPHANT       35       0.7       1          0.0     37   \n",
            "910  ELEPHANT    ELEPHANT       34       0.7       1          0.0     36   \n",
            "911  ELEPHANT    ELEPHANT       33       0.7       1          0.0     37   \n",
            "\n",
            "     m_left  originalH  originalW  ...  r19c10  r19c11  r19c12  r19c13  \\\n",
            "0        20         22         27  ...      24      24     118     255   \n",
            "1        21          6          7  ...     255     255     255     255   \n",
            "2        20          7         27  ...     255     255     255     255   \n",
            "3        20         11         16  ...     255     255     255     192   \n",
            "4        20         49         31  ...     255     255     255     255   \n",
            "..      ...        ...        ...  ...     ...     ...     ...     ...   \n",
            "907      25         54         62  ...       1       1      50      67   \n",
            "908      22         60         48  ...       1       1       1       1   \n",
            "909      26         49         46  ...       1       1       1       1   \n",
            "910      30         23         26  ...     255     153      11       1   \n",
            "911      25         49         29  ...       1       1       1       1   \n",
            "\n",
            "     r19c14  r19c15  r19c16  r19c17  r19c18  r19c19  \n",
            "0       255     255     255     204      13       1  \n",
            "1       255     255     255      37       1       1  \n",
            "2       255     255     255     255     133       1  \n",
            "3         1       1     192     255     255     255  \n",
            "4       255     202     175     255     225      84  \n",
            "..      ...     ...     ...     ...     ...     ...  \n",
            "907      67      32       1       1       1       1  \n",
            "908       1       1       1       1       1       1  \n",
            "909       1       1       1       1       1       1  \n",
            "910       1       1       1       1       1       1  \n",
            "911       1       1       1       1       1       1  \n",
            "\n",
            "[674138 rows x 412 columns]\n"
          ]
        }
      ]
    },
    {
      "cell_type": "code",
      "source": [
        "df.head()"
      ],
      "metadata": {
        "colab": {
          "base_uri": "https://localhost:8080/",
          "height": 300
        },
        "id": "Y8r11GIj_X0i",
        "outputId": "dc6c61d7-7369-4723-f4eb-3078d281dfe8"
      },
      "execution_count": null,
      "outputs": [
        {
          "output_type": "execute_result",
          "data": {
            "text/plain": [
              "    font fontVariant  m_label  strength  italic  orientation  m_top  m_left  \\\n",
              "0  CAARD    CAARD-LN     8776       0.4       0          0.0     47      20   \n",
              "1  CAARD    CAARD-LN     8729       0.4       0          0.0     52      21   \n",
              "2  CAARD    CAARD-LN     8722       0.4       0          0.0     55      20   \n",
              "3  CAARD    CAARD-LN     8482       0.4       0          0.0     34      20   \n",
              "4  CAARD    CAARD-LN     8364       0.4       0          0.0     32      20   \n",
              "\n",
              "   originalH  originalW  ...  r19c10  r19c11  r19c12  r19c13  r19c14  r19c15  \\\n",
              "0         22         27  ...      24      24     118     255     255     255   \n",
              "1          6          7  ...     255     255     255     255     255     255   \n",
              "2          7         27  ...     255     255     255     255     255     255   \n",
              "3         11         16  ...     255     255     255     192       1       1   \n",
              "4         49         31  ...     255     255     255     255     255     202   \n",
              "\n",
              "   r19c16  r19c17  r19c18  r19c19  \n",
              "0     255     204      13       1  \n",
              "1     255      37       1       1  \n",
              "2     255     255     133       1  \n",
              "3     192     255     255     255  \n",
              "4     175     255     225      84  \n",
              "\n",
              "[5 rows x 412 columns]"
            ],
            "text/html": [
              "\n",
              "  <div id=\"df-a90a014b-02cb-4581-9eb4-5197ad927546\">\n",
              "    <div class=\"colab-df-container\">\n",
              "      <div>\n",
              "<style scoped>\n",
              "    .dataframe tbody tr th:only-of-type {\n",
              "        vertical-align: middle;\n",
              "    }\n",
              "\n",
              "    .dataframe tbody tr th {\n",
              "        vertical-align: top;\n",
              "    }\n",
              "\n",
              "    .dataframe thead th {\n",
              "        text-align: right;\n",
              "    }\n",
              "</style>\n",
              "<table border=\"1\" class=\"dataframe\">\n",
              "  <thead>\n",
              "    <tr style=\"text-align: right;\">\n",
              "      <th></th>\n",
              "      <th>font</th>\n",
              "      <th>fontVariant</th>\n",
              "      <th>m_label</th>\n",
              "      <th>strength</th>\n",
              "      <th>italic</th>\n",
              "      <th>orientation</th>\n",
              "      <th>m_top</th>\n",
              "      <th>m_left</th>\n",
              "      <th>originalH</th>\n",
              "      <th>originalW</th>\n",
              "      <th>...</th>\n",
              "      <th>r19c10</th>\n",
              "      <th>r19c11</th>\n",
              "      <th>r19c12</th>\n",
              "      <th>r19c13</th>\n",
              "      <th>r19c14</th>\n",
              "      <th>r19c15</th>\n",
              "      <th>r19c16</th>\n",
              "      <th>r19c17</th>\n",
              "      <th>r19c18</th>\n",
              "      <th>r19c19</th>\n",
              "    </tr>\n",
              "  </thead>\n",
              "  <tbody>\n",
              "    <tr>\n",
              "      <th>0</th>\n",
              "      <td>CAARD</td>\n",
              "      <td>CAARD-LN</td>\n",
              "      <td>8776</td>\n",
              "      <td>0.4</td>\n",
              "      <td>0</td>\n",
              "      <td>0.0</td>\n",
              "      <td>47</td>\n",
              "      <td>20</td>\n",
              "      <td>22</td>\n",
              "      <td>27</td>\n",
              "      <td>...</td>\n",
              "      <td>24</td>\n",
              "      <td>24</td>\n",
              "      <td>118</td>\n",
              "      <td>255</td>\n",
              "      <td>255</td>\n",
              "      <td>255</td>\n",
              "      <td>255</td>\n",
              "      <td>204</td>\n",
              "      <td>13</td>\n",
              "      <td>1</td>\n",
              "    </tr>\n",
              "    <tr>\n",
              "      <th>1</th>\n",
              "      <td>CAARD</td>\n",
              "      <td>CAARD-LN</td>\n",
              "      <td>8729</td>\n",
              "      <td>0.4</td>\n",
              "      <td>0</td>\n",
              "      <td>0.0</td>\n",
              "      <td>52</td>\n",
              "      <td>21</td>\n",
              "      <td>6</td>\n",
              "      <td>7</td>\n",
              "      <td>...</td>\n",
              "      <td>255</td>\n",
              "      <td>255</td>\n",
              "      <td>255</td>\n",
              "      <td>255</td>\n",
              "      <td>255</td>\n",
              "      <td>255</td>\n",
              "      <td>255</td>\n",
              "      <td>37</td>\n",
              "      <td>1</td>\n",
              "      <td>1</td>\n",
              "    </tr>\n",
              "    <tr>\n",
              "      <th>2</th>\n",
              "      <td>CAARD</td>\n",
              "      <td>CAARD-LN</td>\n",
              "      <td>8722</td>\n",
              "      <td>0.4</td>\n",
              "      <td>0</td>\n",
              "      <td>0.0</td>\n",
              "      <td>55</td>\n",
              "      <td>20</td>\n",
              "      <td>7</td>\n",
              "      <td>27</td>\n",
              "      <td>...</td>\n",
              "      <td>255</td>\n",
              "      <td>255</td>\n",
              "      <td>255</td>\n",
              "      <td>255</td>\n",
              "      <td>255</td>\n",
              "      <td>255</td>\n",
              "      <td>255</td>\n",
              "      <td>255</td>\n",
              "      <td>133</td>\n",
              "      <td>1</td>\n",
              "    </tr>\n",
              "    <tr>\n",
              "      <th>3</th>\n",
              "      <td>CAARD</td>\n",
              "      <td>CAARD-LN</td>\n",
              "      <td>8482</td>\n",
              "      <td>0.4</td>\n",
              "      <td>0</td>\n",
              "      <td>0.0</td>\n",
              "      <td>34</td>\n",
              "      <td>20</td>\n",
              "      <td>11</td>\n",
              "      <td>16</td>\n",
              "      <td>...</td>\n",
              "      <td>255</td>\n",
              "      <td>255</td>\n",
              "      <td>255</td>\n",
              "      <td>192</td>\n",
              "      <td>1</td>\n",
              "      <td>1</td>\n",
              "      <td>192</td>\n",
              "      <td>255</td>\n",
              "      <td>255</td>\n",
              "      <td>255</td>\n",
              "    </tr>\n",
              "    <tr>\n",
              "      <th>4</th>\n",
              "      <td>CAARD</td>\n",
              "      <td>CAARD-LN</td>\n",
              "      <td>8364</td>\n",
              "      <td>0.4</td>\n",
              "      <td>0</td>\n",
              "      <td>0.0</td>\n",
              "      <td>32</td>\n",
              "      <td>20</td>\n",
              "      <td>49</td>\n",
              "      <td>31</td>\n",
              "      <td>...</td>\n",
              "      <td>255</td>\n",
              "      <td>255</td>\n",
              "      <td>255</td>\n",
              "      <td>255</td>\n",
              "      <td>255</td>\n",
              "      <td>202</td>\n",
              "      <td>175</td>\n",
              "      <td>255</td>\n",
              "      <td>225</td>\n",
              "      <td>84</td>\n",
              "    </tr>\n",
              "  </tbody>\n",
              "</table>\n",
              "<p>5 rows × 412 columns</p>\n",
              "</div>\n",
              "      <button class=\"colab-df-convert\" onclick=\"convertToInteractive('df-a90a014b-02cb-4581-9eb4-5197ad927546')\"\n",
              "              title=\"Convert this dataframe to an interactive table.\"\n",
              "              style=\"display:none;\">\n",
              "        \n",
              "  <svg xmlns=\"http://www.w3.org/2000/svg\" height=\"24px\"viewBox=\"0 0 24 24\"\n",
              "       width=\"24px\">\n",
              "    <path d=\"M0 0h24v24H0V0z\" fill=\"none\"/>\n",
              "    <path d=\"M18.56 5.44l.94 2.06.94-2.06 2.06-.94-2.06-.94-.94-2.06-.94 2.06-2.06.94zm-11 1L8.5 8.5l.94-2.06 2.06-.94-2.06-.94L8.5 2.5l-.94 2.06-2.06.94zm10 10l.94 2.06.94-2.06 2.06-.94-2.06-.94-.94-2.06-.94 2.06-2.06.94z\"/><path d=\"M17.41 7.96l-1.37-1.37c-.4-.4-.92-.59-1.43-.59-.52 0-1.04.2-1.43.59L10.3 9.45l-7.72 7.72c-.78.78-.78 2.05 0 2.83L4 21.41c.39.39.9.59 1.41.59.51 0 1.02-.2 1.41-.59l7.78-7.78 2.81-2.81c.8-.78.8-2.07 0-2.86zM5.41 20L4 18.59l7.72-7.72 1.47 1.35L5.41 20z\"/>\n",
              "  </svg>\n",
              "      </button>\n",
              "      \n",
              "  <style>\n",
              "    .colab-df-container {\n",
              "      display:flex;\n",
              "      flex-wrap:wrap;\n",
              "      gap: 12px;\n",
              "    }\n",
              "\n",
              "    .colab-df-convert {\n",
              "      background-color: #E8F0FE;\n",
              "      border: none;\n",
              "      border-radius: 50%;\n",
              "      cursor: pointer;\n",
              "      display: none;\n",
              "      fill: #1967D2;\n",
              "      height: 32px;\n",
              "      padding: 0 0 0 0;\n",
              "      width: 32px;\n",
              "    }\n",
              "\n",
              "    .colab-df-convert:hover {\n",
              "      background-color: #E2EBFA;\n",
              "      box-shadow: 0px 1px 2px rgba(60, 64, 67, 0.3), 0px 1px 3px 1px rgba(60, 64, 67, 0.15);\n",
              "      fill: #174EA6;\n",
              "    }\n",
              "\n",
              "    [theme=dark] .colab-df-convert {\n",
              "      background-color: #3B4455;\n",
              "      fill: #D2E3FC;\n",
              "    }\n",
              "\n",
              "    [theme=dark] .colab-df-convert:hover {\n",
              "      background-color: #434B5C;\n",
              "      box-shadow: 0px 1px 3px 1px rgba(0, 0, 0, 0.15);\n",
              "      filter: drop-shadow(0px 1px 2px rgba(0, 0, 0, 0.3));\n",
              "      fill: #FFFFFF;\n",
              "    }\n",
              "  </style>\n",
              "\n",
              "      <script>\n",
              "        const buttonEl =\n",
              "          document.querySelector('#df-a90a014b-02cb-4581-9eb4-5197ad927546 button.colab-df-convert');\n",
              "        buttonEl.style.display =\n",
              "          google.colab.kernel.accessAllowed ? 'block' : 'none';\n",
              "\n",
              "        async function convertToInteractive(key) {\n",
              "          const element = document.querySelector('#df-a90a014b-02cb-4581-9eb4-5197ad927546');\n",
              "          const dataTable =\n",
              "            await google.colab.kernel.invokeFunction('convertToInteractive',\n",
              "                                                     [key], {});\n",
              "          if (!dataTable) return;\n",
              "\n",
              "          const docLinkHtml = 'Like what you see? Visit the ' +\n",
              "            '<a target=\"_blank\" href=https://colab.research.google.com/notebooks/data_table.ipynb>data table notebook</a>'\n",
              "            + ' to learn more about interactive tables.';\n",
              "          element.innerHTML = '';\n",
              "          dataTable['output_type'] = 'display_data';\n",
              "          await google.colab.output.renderOutput(dataTable, element);\n",
              "          const docLink = document.createElement('div');\n",
              "          docLink.innerHTML = docLinkHtml;\n",
              "          element.appendChild(docLink);\n",
              "        }\n",
              "      </script>\n",
              "    </div>\n",
              "  </div>\n",
              "  "
            ]
          },
          "metadata": {},
          "execution_count": 5
        }
      ]
    },
    {
      "cell_type": "code",
      "source": [
        "((df['h'] != 20) & (df['h'] != 20)).any()"
      ],
      "metadata": {
        "colab": {
          "base_uri": "https://localhost:8080/"
        },
        "id": "QWwIZJQO_dcj",
        "outputId": "0be3e1c9-db21-481a-b2a6-70bdd08ff49a"
      },
      "execution_count": null,
      "outputs": [
        {
          "output_type": "execute_result",
          "data": {
            "text/plain": [
              "False"
            ]
          },
          "metadata": {},
          "execution_count": 6
        }
      ]
    },
    {
      "cell_type": "code",
      "source": [
        "grouped_font = df.groupby('font')"
      ],
      "metadata": {
        "id": "ossedIJf_jln"
      },
      "execution_count": null,
      "outputs": []
    },
    {
      "cell_type": "code",
      "source": [
        "pd.set_option('display.max_rows', 200)"
      ],
      "metadata": {
        "id": "C4SeGLZGA-kc"
      },
      "execution_count": null,
      "outputs": []
    },
    {
      "cell_type": "code",
      "source": [
        "grouped_font['m_label'].nunique()"
      ],
      "metadata": {
        "colab": {
          "base_uri": "https://localhost:8080/"
        },
        "id": "6JYWcAk-AVeA",
        "outputId": "63f1d663-cfc3-47bc-c7b5-c81600a80134"
      },
      "execution_count": null,
      "outputs": [
        {
          "output_type": "execute_result",
          "data": {
            "text/plain": [
              "font\n",
              "AGENCY               251\n",
              "ARIAL               3098\n",
              "BAITI                412\n",
              "BANKGOTHIC           280\n",
              "BASKERVILLE          239\n",
              "BAUHAUS              238\n",
              "BELL                 239\n",
              "BERLIN               252\n",
              "BERNARD              239\n",
              "BITSTREAMVERA         85\n",
              "BLACKADDER           238\n",
              "BODONI               256\n",
              "BOOK                 667\n",
              "BOOKMAN              668\n",
              "BRADLEY              245\n",
              "BRITANNIC            238\n",
              "BROADWAY             239\n",
              "BRUSH                239\n",
              "BUXTON               583\n",
              "CAARD                212\n",
              "CALIBRI             2384\n",
              "CALIFORNIAN          251\n",
              "CALISTO              249\n",
              "CAMBRIA             3208\n",
              "CANDARA              756\n",
              "CASTELLAR            264\n",
              "CENTAUR              239\n",
              "CENTURY              669\n",
              "CHILLER              238\n",
              "CITYBLUEPRINT        466\n",
              "COMIC                597\n",
              "COMMERCIALSCRIPT     280\n",
              "COMPLEX              410\n",
              "CONSOLAS            2285\n",
              "CONSTANTIA           755\n",
              "COOPER               239\n",
              "COPPERPLATE          239\n",
              "CORBEL               756\n",
              "COUNTRYBLUEPRINT     460\n",
              "COURIER             3143\n",
              "CREDITCARD            10\n",
              "CURLZ                245\n",
              "DUTCH801             280\n",
              "E13B                  18\n",
              "EBRIMA              1723\n",
              "EDWARDIAN            244\n",
              "ELEPHANT             229\n",
              "ENGLISH              242\n",
              "ENGRAVERS            239\n",
              "ERAS                 244\n",
              "EUROROMAN            466\n",
              "FELIX TITLING        246\n",
              "FOOTLIGHT            239\n",
              "FORTE                245\n",
              "FRANKLIN             664\n",
              "FREESTYLE            239\n",
              "FRENCH               246\n",
              "GABRIOLA             878\n",
              "GADUGI              1041\n",
              "GARAMOND             648\n",
              "GEORGIA              613\n",
              "GIGI                 245\n",
              "GILL                 292\n",
              "GLOUCESTER           239\n",
              "GOTHICE              306\n",
              "GOUDY                251\n",
              "GUNPLAY              259\n",
              "HAETTENSCHWEILER     653\n",
              "HANDPRINT             10\n",
              "HARLOW               238\n",
              "HARRINGTON           234\n",
              "HIGH TOWER           251\n",
              "HIMALAYA             461\n",
              "IMPACT               679\n",
              "IMPRINT              239\n",
              "INFORMAL             256\n",
              "ISOC                 605\n",
              "ITALIC               320\n",
              "JAVANESE             319\n",
              "JOKERMAN             247\n",
              "JUICE                284\n",
              "KRISTEN              252\n",
              "KUNSTLER             244\n",
              "LEELAWADEE           689\n",
              "LUCIDA              1730\n",
              "MAGNETO              251\n",
              "MAIANDRA             255\n",
              "MATURA               239\n",
              "MINGLIU              206\n",
              "MISTRAL              653\n",
              "MODERN               239\n",
              "MONEY                 35\n",
              "MONOSPAC821          280\n",
              "MONOTXT              318\n",
              "MONOTYPE             666\n",
              "MV_BOLI              280\n",
              "MYANMAR              453\n",
              "NIAGARA              251\n",
              "NINA                 570\n",
              "NIRMALA             1174\n",
              "NUMERICS              10\n",
              "ONYX                 236\n",
              "PALACE               239\n",
              "PALATINO            1050\n",
              "PANROMAN             459\n",
              "PAPYRUS              239\n",
              "PERPETUA             259\n",
              "PHAGSPA              587\n",
              "PLAYBILL             238\n",
              "PMINGLIU-EXTB        206\n",
              "PRISTINA             243\n",
              "PROXY                198\n",
              "QUICKTYPE            244\n",
              "RAGE                 244\n",
              "RAVIE                251\n",
              "REFERENCE           1163\n",
              "RICHARD              239\n",
              "ROCKWELL             295\n",
              "ROMAN                329\n",
              "ROMANTIC             460\n",
              "SANSSERIF            460\n",
              "SCRIPT               279\n",
              "SCRIPTB              245\n",
              "SEGOE               5827\n",
              "SERIF               3324\n",
              "SHOWCARD             251\n",
              "SIMPLEX              365\n",
              "SITKA                754\n",
              "SKETCHFLOW           394\n",
              "SNAP                 284\n",
              "STENCIL              260\n",
              "STYLUS               280\n",
              "SUPERFRENCH          431\n",
              "SWIS721              280\n",
              "SYLFAEN              796\n",
              "TAHOMA              3323\n",
              "TAI                  400\n",
              "TECHNIC              460\n",
              "TEMPUS               245\n",
              "TIMES               3087\n",
              "TREBUCHET            689\n",
              "TW                   291\n",
              "TXT                  327\n",
              "VERDANA              891\n",
              "VIN                   33\n",
              "VINER                245\n",
              "VINETA               280\n",
              "VIVALDI              238\n",
              "VLADIMIR             244\n",
              "WIDE                 237\n",
              "YI BAITI            1529\n",
              "Name: m_label, dtype: int64"
            ]
          },
          "metadata": {},
          "execution_count": 9
        }
      ]
    },
    {
      "cell_type": "code",
      "source": [
        "unique_fonts = grouped_font.filter(lambda sf: sf['m_label'].nunique() < 100)"
      ],
      "metadata": {
        "id": "NiOy7AkBAYxs"
      },
      "execution_count": null,
      "outputs": []
    },
    {
      "cell_type": "code",
      "source": [
        "unique_fonts.groupby('font').count()"
      ],
      "metadata": {
        "colab": {
          "base_uri": "https://localhost:8080/",
          "height": 394
        },
        "id": "b8MqhIt3BJUP",
        "outputId": "16a42d12-9426-4c37-d433-06102c473ee1"
      },
      "execution_count": null,
      "outputs": [
        {
          "output_type": "execute_result",
          "data": {
            "text/plain": [
              "               fontVariant  m_label  strength  italic  orientation  m_top  \\\n",
              "font                                                                        \n",
              "BITSTREAMVERA         2296     2296      2296    2296         2296   2296   \n",
              "CREDITCARD           29449    29449     29449   29449        29449  29449   \n",
              "E13B                 24070    24070     24070   24070        24070  24070   \n",
              "HANDPRINT            70000    70000     70000   70000        70000  70000   \n",
              "MONEY                 7553     7553      7553    7553         7553   7553   \n",
              "NUMERICS             13704    13704     13704   13704        13704  13704   \n",
              "VIN                   1005     1005      1005    1005         1005   1005   \n",
              "\n",
              "               m_left  originalH  originalW      h  ...  r19c10  r19c11  \\\n",
              "font                                                ...                   \n",
              "BITSTREAMVERA    2296       2296       2296   2296  ...    2296    2296   \n",
              "CREDITCARD      29449      29449      29449  29449  ...   29449   29449   \n",
              "E13B            24070      24070      24070  24070  ...   24070   24070   \n",
              "HANDPRINT       70000      70000      70000  70000  ...   70000   70000   \n",
              "MONEY            7553       7553       7553   7553  ...    7553    7553   \n",
              "NUMERICS        13704      13704      13704  13704  ...   13704   13704   \n",
              "VIN              1005       1005       1005   1005  ...    1005    1005   \n",
              "\n",
              "               r19c12  r19c13  r19c14  r19c15  r19c16  r19c17  r19c18  r19c19  \n",
              "font                                                                           \n",
              "BITSTREAMVERA    2296    2296    2296    2296    2296    2296    2296    2296  \n",
              "CREDITCARD      29449   29449   29449   29449   29449   29449   29449   29449  \n",
              "E13B            24070   24070   24070   24070   24070   24070   24070   24070  \n",
              "HANDPRINT       70000   70000   70000   70000   70000   70000   70000   70000  \n",
              "MONEY            7553    7553    7553    7553    7553    7553    7553    7553  \n",
              "NUMERICS        13704   13704   13704   13704   13704   13704   13704   13704  \n",
              "VIN              1005    1005    1005    1005    1005    1005    1005    1005  \n",
              "\n",
              "[7 rows x 411 columns]"
            ],
            "text/html": [
              "\n",
              "  <div id=\"df-20dbddf2-34ba-4fb4-b38a-f19c23ed56a5\">\n",
              "    <div class=\"colab-df-container\">\n",
              "      <div>\n",
              "<style scoped>\n",
              "    .dataframe tbody tr th:only-of-type {\n",
              "        vertical-align: middle;\n",
              "    }\n",
              "\n",
              "    .dataframe tbody tr th {\n",
              "        vertical-align: top;\n",
              "    }\n",
              "\n",
              "    .dataframe thead th {\n",
              "        text-align: right;\n",
              "    }\n",
              "</style>\n",
              "<table border=\"1\" class=\"dataframe\">\n",
              "  <thead>\n",
              "    <tr style=\"text-align: right;\">\n",
              "      <th></th>\n",
              "      <th>fontVariant</th>\n",
              "      <th>m_label</th>\n",
              "      <th>strength</th>\n",
              "      <th>italic</th>\n",
              "      <th>orientation</th>\n",
              "      <th>m_top</th>\n",
              "      <th>m_left</th>\n",
              "      <th>originalH</th>\n",
              "      <th>originalW</th>\n",
              "      <th>h</th>\n",
              "      <th>...</th>\n",
              "      <th>r19c10</th>\n",
              "      <th>r19c11</th>\n",
              "      <th>r19c12</th>\n",
              "      <th>r19c13</th>\n",
              "      <th>r19c14</th>\n",
              "      <th>r19c15</th>\n",
              "      <th>r19c16</th>\n",
              "      <th>r19c17</th>\n",
              "      <th>r19c18</th>\n",
              "      <th>r19c19</th>\n",
              "    </tr>\n",
              "    <tr>\n",
              "      <th>font</th>\n",
              "      <th></th>\n",
              "      <th></th>\n",
              "      <th></th>\n",
              "      <th></th>\n",
              "      <th></th>\n",
              "      <th></th>\n",
              "      <th></th>\n",
              "      <th></th>\n",
              "      <th></th>\n",
              "      <th></th>\n",
              "      <th></th>\n",
              "      <th></th>\n",
              "      <th></th>\n",
              "      <th></th>\n",
              "      <th></th>\n",
              "      <th></th>\n",
              "      <th></th>\n",
              "      <th></th>\n",
              "      <th></th>\n",
              "      <th></th>\n",
              "      <th></th>\n",
              "    </tr>\n",
              "  </thead>\n",
              "  <tbody>\n",
              "    <tr>\n",
              "      <th>BITSTREAMVERA</th>\n",
              "      <td>2296</td>\n",
              "      <td>2296</td>\n",
              "      <td>2296</td>\n",
              "      <td>2296</td>\n",
              "      <td>2296</td>\n",
              "      <td>2296</td>\n",
              "      <td>2296</td>\n",
              "      <td>2296</td>\n",
              "      <td>2296</td>\n",
              "      <td>2296</td>\n",
              "      <td>...</td>\n",
              "      <td>2296</td>\n",
              "      <td>2296</td>\n",
              "      <td>2296</td>\n",
              "      <td>2296</td>\n",
              "      <td>2296</td>\n",
              "      <td>2296</td>\n",
              "      <td>2296</td>\n",
              "      <td>2296</td>\n",
              "      <td>2296</td>\n",
              "      <td>2296</td>\n",
              "    </tr>\n",
              "    <tr>\n",
              "      <th>CREDITCARD</th>\n",
              "      <td>29449</td>\n",
              "      <td>29449</td>\n",
              "      <td>29449</td>\n",
              "      <td>29449</td>\n",
              "      <td>29449</td>\n",
              "      <td>29449</td>\n",
              "      <td>29449</td>\n",
              "      <td>29449</td>\n",
              "      <td>29449</td>\n",
              "      <td>29449</td>\n",
              "      <td>...</td>\n",
              "      <td>29449</td>\n",
              "      <td>29449</td>\n",
              "      <td>29449</td>\n",
              "      <td>29449</td>\n",
              "      <td>29449</td>\n",
              "      <td>29449</td>\n",
              "      <td>29449</td>\n",
              "      <td>29449</td>\n",
              "      <td>29449</td>\n",
              "      <td>29449</td>\n",
              "    </tr>\n",
              "    <tr>\n",
              "      <th>E13B</th>\n",
              "      <td>24070</td>\n",
              "      <td>24070</td>\n",
              "      <td>24070</td>\n",
              "      <td>24070</td>\n",
              "      <td>24070</td>\n",
              "      <td>24070</td>\n",
              "      <td>24070</td>\n",
              "      <td>24070</td>\n",
              "      <td>24070</td>\n",
              "      <td>24070</td>\n",
              "      <td>...</td>\n",
              "      <td>24070</td>\n",
              "      <td>24070</td>\n",
              "      <td>24070</td>\n",
              "      <td>24070</td>\n",
              "      <td>24070</td>\n",
              "      <td>24070</td>\n",
              "      <td>24070</td>\n",
              "      <td>24070</td>\n",
              "      <td>24070</td>\n",
              "      <td>24070</td>\n",
              "    </tr>\n",
              "    <tr>\n",
              "      <th>HANDPRINT</th>\n",
              "      <td>70000</td>\n",
              "      <td>70000</td>\n",
              "      <td>70000</td>\n",
              "      <td>70000</td>\n",
              "      <td>70000</td>\n",
              "      <td>70000</td>\n",
              "      <td>70000</td>\n",
              "      <td>70000</td>\n",
              "      <td>70000</td>\n",
              "      <td>70000</td>\n",
              "      <td>...</td>\n",
              "      <td>70000</td>\n",
              "      <td>70000</td>\n",
              "      <td>70000</td>\n",
              "      <td>70000</td>\n",
              "      <td>70000</td>\n",
              "      <td>70000</td>\n",
              "      <td>70000</td>\n",
              "      <td>70000</td>\n",
              "      <td>70000</td>\n",
              "      <td>70000</td>\n",
              "    </tr>\n",
              "    <tr>\n",
              "      <th>MONEY</th>\n",
              "      <td>7553</td>\n",
              "      <td>7553</td>\n",
              "      <td>7553</td>\n",
              "      <td>7553</td>\n",
              "      <td>7553</td>\n",
              "      <td>7553</td>\n",
              "      <td>7553</td>\n",
              "      <td>7553</td>\n",
              "      <td>7553</td>\n",
              "      <td>7553</td>\n",
              "      <td>...</td>\n",
              "      <td>7553</td>\n",
              "      <td>7553</td>\n",
              "      <td>7553</td>\n",
              "      <td>7553</td>\n",
              "      <td>7553</td>\n",
              "      <td>7553</td>\n",
              "      <td>7553</td>\n",
              "      <td>7553</td>\n",
              "      <td>7553</td>\n",
              "      <td>7553</td>\n",
              "    </tr>\n",
              "    <tr>\n",
              "      <th>NUMERICS</th>\n",
              "      <td>13704</td>\n",
              "      <td>13704</td>\n",
              "      <td>13704</td>\n",
              "      <td>13704</td>\n",
              "      <td>13704</td>\n",
              "      <td>13704</td>\n",
              "      <td>13704</td>\n",
              "      <td>13704</td>\n",
              "      <td>13704</td>\n",
              "      <td>13704</td>\n",
              "      <td>...</td>\n",
              "      <td>13704</td>\n",
              "      <td>13704</td>\n",
              "      <td>13704</td>\n",
              "      <td>13704</td>\n",
              "      <td>13704</td>\n",
              "      <td>13704</td>\n",
              "      <td>13704</td>\n",
              "      <td>13704</td>\n",
              "      <td>13704</td>\n",
              "      <td>13704</td>\n",
              "    </tr>\n",
              "    <tr>\n",
              "      <th>VIN</th>\n",
              "      <td>1005</td>\n",
              "      <td>1005</td>\n",
              "      <td>1005</td>\n",
              "      <td>1005</td>\n",
              "      <td>1005</td>\n",
              "      <td>1005</td>\n",
              "      <td>1005</td>\n",
              "      <td>1005</td>\n",
              "      <td>1005</td>\n",
              "      <td>1005</td>\n",
              "      <td>...</td>\n",
              "      <td>1005</td>\n",
              "      <td>1005</td>\n",
              "      <td>1005</td>\n",
              "      <td>1005</td>\n",
              "      <td>1005</td>\n",
              "      <td>1005</td>\n",
              "      <td>1005</td>\n",
              "      <td>1005</td>\n",
              "      <td>1005</td>\n",
              "      <td>1005</td>\n",
              "    </tr>\n",
              "  </tbody>\n",
              "</table>\n",
              "<p>7 rows × 411 columns</p>\n",
              "</div>\n",
              "      <button class=\"colab-df-convert\" onclick=\"convertToInteractive('df-20dbddf2-34ba-4fb4-b38a-f19c23ed56a5')\"\n",
              "              title=\"Convert this dataframe to an interactive table.\"\n",
              "              style=\"display:none;\">\n",
              "        \n",
              "  <svg xmlns=\"http://www.w3.org/2000/svg\" height=\"24px\"viewBox=\"0 0 24 24\"\n",
              "       width=\"24px\">\n",
              "    <path d=\"M0 0h24v24H0V0z\" fill=\"none\"/>\n",
              "    <path d=\"M18.56 5.44l.94 2.06.94-2.06 2.06-.94-2.06-.94-.94-2.06-.94 2.06-2.06.94zm-11 1L8.5 8.5l.94-2.06 2.06-.94-2.06-.94L8.5 2.5l-.94 2.06-2.06.94zm10 10l.94 2.06.94-2.06 2.06-.94-2.06-.94-.94-2.06-.94 2.06-2.06.94z\"/><path d=\"M17.41 7.96l-1.37-1.37c-.4-.4-.92-.59-1.43-.59-.52 0-1.04.2-1.43.59L10.3 9.45l-7.72 7.72c-.78.78-.78 2.05 0 2.83L4 21.41c.39.39.9.59 1.41.59.51 0 1.02-.2 1.41-.59l7.78-7.78 2.81-2.81c.8-.78.8-2.07 0-2.86zM5.41 20L4 18.59l7.72-7.72 1.47 1.35L5.41 20z\"/>\n",
              "  </svg>\n",
              "      </button>\n",
              "      \n",
              "  <style>\n",
              "    .colab-df-container {\n",
              "      display:flex;\n",
              "      flex-wrap:wrap;\n",
              "      gap: 12px;\n",
              "    }\n",
              "\n",
              "    .colab-df-convert {\n",
              "      background-color: #E8F0FE;\n",
              "      border: none;\n",
              "      border-radius: 50%;\n",
              "      cursor: pointer;\n",
              "      display: none;\n",
              "      fill: #1967D2;\n",
              "      height: 32px;\n",
              "      padding: 0 0 0 0;\n",
              "      width: 32px;\n",
              "    }\n",
              "\n",
              "    .colab-df-convert:hover {\n",
              "      background-color: #E2EBFA;\n",
              "      box-shadow: 0px 1px 2px rgba(60, 64, 67, 0.3), 0px 1px 3px 1px rgba(60, 64, 67, 0.15);\n",
              "      fill: #174EA6;\n",
              "    }\n",
              "\n",
              "    [theme=dark] .colab-df-convert {\n",
              "      background-color: #3B4455;\n",
              "      fill: #D2E3FC;\n",
              "    }\n",
              "\n",
              "    [theme=dark] .colab-df-convert:hover {\n",
              "      background-color: #434B5C;\n",
              "      box-shadow: 0px 1px 3px 1px rgba(0, 0, 0, 0.15);\n",
              "      filter: drop-shadow(0px 1px 2px rgba(0, 0, 0, 0.3));\n",
              "      fill: #FFFFFF;\n",
              "    }\n",
              "  </style>\n",
              "\n",
              "      <script>\n",
              "        const buttonEl =\n",
              "          document.querySelector('#df-20dbddf2-34ba-4fb4-b38a-f19c23ed56a5 button.colab-df-convert');\n",
              "        buttonEl.style.display =\n",
              "          google.colab.kernel.accessAllowed ? 'block' : 'none';\n",
              "\n",
              "        async function convertToInteractive(key) {\n",
              "          const element = document.querySelector('#df-20dbddf2-34ba-4fb4-b38a-f19c23ed56a5');\n",
              "          const dataTable =\n",
              "            await google.colab.kernel.invokeFunction('convertToInteractive',\n",
              "                                                     [key], {});\n",
              "          if (!dataTable) return;\n",
              "\n",
              "          const docLinkHtml = 'Like what you see? Visit the ' +\n",
              "            '<a target=\"_blank\" href=https://colab.research.google.com/notebooks/data_table.ipynb>data table notebook</a>'\n",
              "            + ' to learn more about interactive tables.';\n",
              "          element.innerHTML = '';\n",
              "          dataTable['output_type'] = 'display_data';\n",
              "          await google.colab.output.renderOutput(dataTable, element);\n",
              "          const docLink = document.createElement('div');\n",
              "          docLink.innerHTML = docLinkHtml;\n",
              "          element.appendChild(docLink);\n",
              "        }\n",
              "      </script>\n",
              "    </div>\n",
              "  </div>\n",
              "  "
            ]
          },
          "metadata": {},
          "execution_count": 11
        }
      ]
    },
    {
      "cell_type": "code",
      "source": [
        "normal_fonts = grouped_font.filter(lambda sf: sf['m_label'].nunique() > 100)"
      ],
      "metadata": {
        "id": "bhGIXwgnCLKo"
      },
      "execution_count": null,
      "outputs": []
    },
    {
      "cell_type": "code",
      "source": [
        "del unique_fonts"
      ],
      "metadata": {
        "id": "0OIhp3bkE7Tc"
      },
      "execution_count": null,
      "outputs": []
    },
    {
      "cell_type": "code",
      "source": [
        "normal_fonts['font'].nunique()"
      ],
      "metadata": {
        "colab": {
          "base_uri": "https://localhost:8080/"
        },
        "id": "6whG-UYoF8JF",
        "outputId": "9b27b936-96bd-440c-b7fb-29653aff4a26"
      },
      "execution_count": null,
      "outputs": [
        {
          "output_type": "execute_result",
          "data": {
            "text/plain": [
              "144"
            ]
          },
          "metadata": {},
          "execution_count": 14
        }
      ]
    },
    {
      "cell_type": "markdown",
      "source": [
        "Маємо 144 \"не унікальних\" шрифтів: таких що мають більше 100 символів"
      ],
      "metadata": {
        "id": "0E_N4cIWMwUM"
      }
    },
    {
      "cell_type": "code",
      "source": [
        "fonts_per_label = normal_fonts.groupby('m_label')['font'].nunique()"
      ],
      "metadata": {
        "id": "Ob4_kG6RGmkL"
      },
      "execution_count": null,
      "outputs": []
    },
    {
      "cell_type": "code",
      "source": [
        "common_labels = fonts_per_label[fonts_per_label == 144]"
      ],
      "metadata": {
        "id": "_YTiyjFjGv7V"
      },
      "execution_count": null,
      "outputs": []
    },
    {
      "cell_type": "code",
      "source": [
        "common_labels"
      ],
      "metadata": {
        "colab": {
          "base_uri": "https://localhost:8080/"
        },
        "id": "8p3udmEsKom9",
        "outputId": "c5279b6c-5b8f-4d52-f38b-695b7364e94a"
      },
      "execution_count": null,
      "outputs": [
        {
          "output_type": "execute_result",
          "data": {
            "text/plain": [
              "m_label\n",
              "33     144\n",
              "34     144\n",
              "35     144\n",
              "36     144\n",
              "37     144\n",
              "38     144\n",
              "39     144\n",
              "40     144\n",
              "41     144\n",
              "42     144\n",
              "43     144\n",
              "44     144\n",
              "45     144\n",
              "46     144\n",
              "47     144\n",
              "48     144\n",
              "49     144\n",
              "50     144\n",
              "51     144\n",
              "52     144\n",
              "53     144\n",
              "54     144\n",
              "55     144\n",
              "56     144\n",
              "57     144\n",
              "58     144\n",
              "59     144\n",
              "60     144\n",
              "61     144\n",
              "62     144\n",
              "63     144\n",
              "64     144\n",
              "65     144\n",
              "66     144\n",
              "67     144\n",
              "68     144\n",
              "69     144\n",
              "70     144\n",
              "71     144\n",
              "72     144\n",
              "73     144\n",
              "74     144\n",
              "75     144\n",
              "76     144\n",
              "77     144\n",
              "78     144\n",
              "79     144\n",
              "80     144\n",
              "81     144\n",
              "82     144\n",
              "83     144\n",
              "84     144\n",
              "85     144\n",
              "86     144\n",
              "87     144\n",
              "88     144\n",
              "89     144\n",
              "90     144\n",
              "91     144\n",
              "92     144\n",
              "93     144\n",
              "94     144\n",
              "95     144\n",
              "96     144\n",
              "97     144\n",
              "98     144\n",
              "99     144\n",
              "100    144\n",
              "101    144\n",
              "102    144\n",
              "103    144\n",
              "104    144\n",
              "105    144\n",
              "106    144\n",
              "107    144\n",
              "108    144\n",
              "109    144\n",
              "110    144\n",
              "111    144\n",
              "112    144\n",
              "113    144\n",
              "114    144\n",
              "115    144\n",
              "116    144\n",
              "117    144\n",
              "118    144\n",
              "119    144\n",
              "120    144\n",
              "121    144\n",
              "122    144\n",
              "123    144\n",
              "124    144\n",
              "125    144\n",
              "162    144\n",
              "163    144\n",
              "165    144\n",
              "171    144\n",
              "176    144\n",
              "187    144\n",
              "192    144\n",
              "193    144\n",
              "194    144\n",
              "195    144\n",
              "196    144\n",
              "197    144\n",
              "198    144\n",
              "199    144\n",
              "200    144\n",
              "201    144\n",
              "206    144\n",
              "207    144\n",
              "209    144\n",
              "210    144\n",
              "211    144\n",
              "212    144\n",
              "213    144\n",
              "214    144\n",
              "217    144\n",
              "218    144\n",
              "219    144\n",
              "220    144\n",
              "221    144\n",
              "224    144\n",
              "225    144\n",
              "226    144\n",
              "227    144\n",
              "228    144\n",
              "229    144\n",
              "230    144\n",
              "231    144\n",
              "232    144\n",
              "233    144\n",
              "234    144\n",
              "235    144\n",
              "236    144\n",
              "237    144\n",
              "238    144\n",
              "239    144\n",
              "241    144\n",
              "242    144\n",
              "243    144\n",
              "244    144\n",
              "245    144\n",
              "246    144\n",
              "247    144\n",
              "248    144\n",
              "249    144\n",
              "250    144\n",
              "251    144\n",
              "Name: font, dtype: int64"
            ]
          },
          "metadata": {},
          "execution_count": 17
        }
      ]
    },
    {
      "cell_type": "code",
      "source": [
        "common_labels.index"
      ],
      "metadata": {
        "colab": {
          "base_uri": "https://localhost:8080/"
        },
        "id": "uY9KobXPKXOJ",
        "outputId": "d9569052-7c47-45e4-a401-6a65bdd93a51"
      },
      "execution_count": null,
      "outputs": [
        {
          "output_type": "execute_result",
          "data": {
            "text/plain": [
              "Int64Index([ 33,  34,  35,  36,  37,  38,  39,  40,  41,  42,\n",
              "            ...\n",
              "            242, 243, 244, 245, 246, 247, 248, 249, 250, 251],\n",
              "           dtype='int64', name='m_label', length=149)"
            ]
          },
          "metadata": {},
          "execution_count": 18
        }
      ]
    },
    {
      "cell_type": "code",
      "source": [
        "new_df = normal_fonts[normal_fonts['m_label'].isin(common_labels.index)]"
      ],
      "metadata": {
        "id": "8nihDHqOGxQX"
      },
      "execution_count": null,
      "outputs": []
    },
    {
      "cell_type": "markdown",
      "source": [
        "Прибрали символи, що не містяться в якомусь \"не унікальному\" шрифті"
      ],
      "metadata": {
        "id": "kIjQJlo1M5Xv"
      }
    },
    {
      "cell_type": "code",
      "source": [
        "new_df.info()"
      ],
      "metadata": {
        "colab": {
          "base_uri": "https://localhost:8080/"
        },
        "id": "P2c3MR-_HG2F",
        "outputId": "017255e0-522b-48ff-c750-6148a366e8aa"
      },
      "execution_count": null,
      "outputs": [
        {
          "output_type": "stream",
          "name": "stdout",
          "text": [
            "<class 'pandas.core.frame.DataFrame'>\n",
            "Int64Index: 153227 entries, 34 to 911\n",
            "Columns: 412 entries, font to r19c19\n",
            "dtypes: float64(2), int64(408), object(2)\n",
            "memory usage: 482.8+ MB\n"
          ]
        }
      ]
    },
    {
      "cell_type": "code",
      "source": [
        "pixel_cols = [f'r{x}c{y}' for x in range(20) for y in range(20)]"
      ],
      "metadata": {
        "id": "z3H5A0eINO9l"
      },
      "execution_count": null,
      "outputs": []
    },
    {
      "cell_type": "code",
      "source": [
        "new_df = new_df[pixel_cols + ['m_label', 'font']]"
      ],
      "metadata": {
        "id": "MtFXVzfHHkV3"
      },
      "execution_count": null,
      "outputs": []
    },
    {
      "cell_type": "code",
      "source": [
        "new_df.head()"
      ],
      "metadata": {
        "colab": {
          "base_uri": "https://localhost:8080/",
          "height": 300
        },
        "id": "vU6UK9PjMKi-",
        "outputId": "4cbdb489-6e35-446d-ee83-d4972a67823c"
      },
      "execution_count": null,
      "outputs": [
        {
          "output_type": "execute_result",
          "data": {
            "text/plain": [
              "    r0c0  r0c1  r0c2  r0c3  r0c4  r0c5  r0c6  r0c7  r0c8  r0c9  ...  r19c12  \\\n",
              "34     1     1     1     1     1     1     1    86   171   231  ...     243   \n",
              "35     1     1     1     1     1     1     1     1     1    61  ...     243   \n",
              "36     1     1     1     1     1    49   219   255   255   255  ...     243   \n",
              "37     1     1     1     1     1    11   100   147   193   255  ...     162   \n",
              "38     1     1     1     1     1     1     1    49   221   255  ...       1   \n",
              "\n",
              "    r19c13  r19c14  r19c15  r19c16  r19c17  r19c18  r19c19  m_label   font  \n",
              "34     171     110      61       1       1       1       1      251  CAARD  \n",
              "35     171     110      61       1       1       1       1      250  CAARD  \n",
              "36     171     110      61       1       1       1       1      249  CAARD  \n",
              "37     100      11       1       1       1       1       1      248  CAARD  \n",
              "38       1       1       1       1       1       1       1      247  CAARD  \n",
              "\n",
              "[5 rows x 402 columns]"
            ],
            "text/html": [
              "\n",
              "  <div id=\"df-4ca0c12a-dc6b-4732-940c-c6af68b8e89d\">\n",
              "    <div class=\"colab-df-container\">\n",
              "      <div>\n",
              "<style scoped>\n",
              "    .dataframe tbody tr th:only-of-type {\n",
              "        vertical-align: middle;\n",
              "    }\n",
              "\n",
              "    .dataframe tbody tr th {\n",
              "        vertical-align: top;\n",
              "    }\n",
              "\n",
              "    .dataframe thead th {\n",
              "        text-align: right;\n",
              "    }\n",
              "</style>\n",
              "<table border=\"1\" class=\"dataframe\">\n",
              "  <thead>\n",
              "    <tr style=\"text-align: right;\">\n",
              "      <th></th>\n",
              "      <th>r0c0</th>\n",
              "      <th>r0c1</th>\n",
              "      <th>r0c2</th>\n",
              "      <th>r0c3</th>\n",
              "      <th>r0c4</th>\n",
              "      <th>r0c5</th>\n",
              "      <th>r0c6</th>\n",
              "      <th>r0c7</th>\n",
              "      <th>r0c8</th>\n",
              "      <th>r0c9</th>\n",
              "      <th>...</th>\n",
              "      <th>r19c12</th>\n",
              "      <th>r19c13</th>\n",
              "      <th>r19c14</th>\n",
              "      <th>r19c15</th>\n",
              "      <th>r19c16</th>\n",
              "      <th>r19c17</th>\n",
              "      <th>r19c18</th>\n",
              "      <th>r19c19</th>\n",
              "      <th>m_label</th>\n",
              "      <th>font</th>\n",
              "    </tr>\n",
              "  </thead>\n",
              "  <tbody>\n",
              "    <tr>\n",
              "      <th>34</th>\n",
              "      <td>1</td>\n",
              "      <td>1</td>\n",
              "      <td>1</td>\n",
              "      <td>1</td>\n",
              "      <td>1</td>\n",
              "      <td>1</td>\n",
              "      <td>1</td>\n",
              "      <td>86</td>\n",
              "      <td>171</td>\n",
              "      <td>231</td>\n",
              "      <td>...</td>\n",
              "      <td>243</td>\n",
              "      <td>171</td>\n",
              "      <td>110</td>\n",
              "      <td>61</td>\n",
              "      <td>1</td>\n",
              "      <td>1</td>\n",
              "      <td>1</td>\n",
              "      <td>1</td>\n",
              "      <td>251</td>\n",
              "      <td>CAARD</td>\n",
              "    </tr>\n",
              "    <tr>\n",
              "      <th>35</th>\n",
              "      <td>1</td>\n",
              "      <td>1</td>\n",
              "      <td>1</td>\n",
              "      <td>1</td>\n",
              "      <td>1</td>\n",
              "      <td>1</td>\n",
              "      <td>1</td>\n",
              "      <td>1</td>\n",
              "      <td>1</td>\n",
              "      <td>61</td>\n",
              "      <td>...</td>\n",
              "      <td>243</td>\n",
              "      <td>171</td>\n",
              "      <td>110</td>\n",
              "      <td>61</td>\n",
              "      <td>1</td>\n",
              "      <td>1</td>\n",
              "      <td>1</td>\n",
              "      <td>1</td>\n",
              "      <td>250</td>\n",
              "      <td>CAARD</td>\n",
              "    </tr>\n",
              "    <tr>\n",
              "      <th>36</th>\n",
              "      <td>1</td>\n",
              "      <td>1</td>\n",
              "      <td>1</td>\n",
              "      <td>1</td>\n",
              "      <td>1</td>\n",
              "      <td>49</td>\n",
              "      <td>219</td>\n",
              "      <td>255</td>\n",
              "      <td>255</td>\n",
              "      <td>255</td>\n",
              "      <td>...</td>\n",
              "      <td>243</td>\n",
              "      <td>171</td>\n",
              "      <td>110</td>\n",
              "      <td>61</td>\n",
              "      <td>1</td>\n",
              "      <td>1</td>\n",
              "      <td>1</td>\n",
              "      <td>1</td>\n",
              "      <td>249</td>\n",
              "      <td>CAARD</td>\n",
              "    </tr>\n",
              "    <tr>\n",
              "      <th>37</th>\n",
              "      <td>1</td>\n",
              "      <td>1</td>\n",
              "      <td>1</td>\n",
              "      <td>1</td>\n",
              "      <td>1</td>\n",
              "      <td>11</td>\n",
              "      <td>100</td>\n",
              "      <td>147</td>\n",
              "      <td>193</td>\n",
              "      <td>255</td>\n",
              "      <td>...</td>\n",
              "      <td>162</td>\n",
              "      <td>100</td>\n",
              "      <td>11</td>\n",
              "      <td>1</td>\n",
              "      <td>1</td>\n",
              "      <td>1</td>\n",
              "      <td>1</td>\n",
              "      <td>1</td>\n",
              "      <td>248</td>\n",
              "      <td>CAARD</td>\n",
              "    </tr>\n",
              "    <tr>\n",
              "      <th>38</th>\n",
              "      <td>1</td>\n",
              "      <td>1</td>\n",
              "      <td>1</td>\n",
              "      <td>1</td>\n",
              "      <td>1</td>\n",
              "      <td>1</td>\n",
              "      <td>1</td>\n",
              "      <td>49</td>\n",
              "      <td>221</td>\n",
              "      <td>255</td>\n",
              "      <td>...</td>\n",
              "      <td>1</td>\n",
              "      <td>1</td>\n",
              "      <td>1</td>\n",
              "      <td>1</td>\n",
              "      <td>1</td>\n",
              "      <td>1</td>\n",
              "      <td>1</td>\n",
              "      <td>1</td>\n",
              "      <td>247</td>\n",
              "      <td>CAARD</td>\n",
              "    </tr>\n",
              "  </tbody>\n",
              "</table>\n",
              "<p>5 rows × 402 columns</p>\n",
              "</div>\n",
              "      <button class=\"colab-df-convert\" onclick=\"convertToInteractive('df-4ca0c12a-dc6b-4732-940c-c6af68b8e89d')\"\n",
              "              title=\"Convert this dataframe to an interactive table.\"\n",
              "              style=\"display:none;\">\n",
              "        \n",
              "  <svg xmlns=\"http://www.w3.org/2000/svg\" height=\"24px\"viewBox=\"0 0 24 24\"\n",
              "       width=\"24px\">\n",
              "    <path d=\"M0 0h24v24H0V0z\" fill=\"none\"/>\n",
              "    <path d=\"M18.56 5.44l.94 2.06.94-2.06 2.06-.94-2.06-.94-.94-2.06-.94 2.06-2.06.94zm-11 1L8.5 8.5l.94-2.06 2.06-.94-2.06-.94L8.5 2.5l-.94 2.06-2.06.94zm10 10l.94 2.06.94-2.06 2.06-.94-2.06-.94-.94-2.06-.94 2.06-2.06.94z\"/><path d=\"M17.41 7.96l-1.37-1.37c-.4-.4-.92-.59-1.43-.59-.52 0-1.04.2-1.43.59L10.3 9.45l-7.72 7.72c-.78.78-.78 2.05 0 2.83L4 21.41c.39.39.9.59 1.41.59.51 0 1.02-.2 1.41-.59l7.78-7.78 2.81-2.81c.8-.78.8-2.07 0-2.86zM5.41 20L4 18.59l7.72-7.72 1.47 1.35L5.41 20z\"/>\n",
              "  </svg>\n",
              "      </button>\n",
              "      \n",
              "  <style>\n",
              "    .colab-df-container {\n",
              "      display:flex;\n",
              "      flex-wrap:wrap;\n",
              "      gap: 12px;\n",
              "    }\n",
              "\n",
              "    .colab-df-convert {\n",
              "      background-color: #E8F0FE;\n",
              "      border: none;\n",
              "      border-radius: 50%;\n",
              "      cursor: pointer;\n",
              "      display: none;\n",
              "      fill: #1967D2;\n",
              "      height: 32px;\n",
              "      padding: 0 0 0 0;\n",
              "      width: 32px;\n",
              "    }\n",
              "\n",
              "    .colab-df-convert:hover {\n",
              "      background-color: #E2EBFA;\n",
              "      box-shadow: 0px 1px 2px rgba(60, 64, 67, 0.3), 0px 1px 3px 1px rgba(60, 64, 67, 0.15);\n",
              "      fill: #174EA6;\n",
              "    }\n",
              "\n",
              "    [theme=dark] .colab-df-convert {\n",
              "      background-color: #3B4455;\n",
              "      fill: #D2E3FC;\n",
              "    }\n",
              "\n",
              "    [theme=dark] .colab-df-convert:hover {\n",
              "      background-color: #434B5C;\n",
              "      box-shadow: 0px 1px 3px 1px rgba(0, 0, 0, 0.15);\n",
              "      filter: drop-shadow(0px 1px 2px rgba(0, 0, 0, 0.3));\n",
              "      fill: #FFFFFF;\n",
              "    }\n",
              "  </style>\n",
              "\n",
              "      <script>\n",
              "        const buttonEl =\n",
              "          document.querySelector('#df-4ca0c12a-dc6b-4732-940c-c6af68b8e89d button.colab-df-convert');\n",
              "        buttonEl.style.display =\n",
              "          google.colab.kernel.accessAllowed ? 'block' : 'none';\n",
              "\n",
              "        async function convertToInteractive(key) {\n",
              "          const element = document.querySelector('#df-4ca0c12a-dc6b-4732-940c-c6af68b8e89d');\n",
              "          const dataTable =\n",
              "            await google.colab.kernel.invokeFunction('convertToInteractive',\n",
              "                                                     [key], {});\n",
              "          if (!dataTable) return;\n",
              "\n",
              "          const docLinkHtml = 'Like what you see? Visit the ' +\n",
              "            '<a target=\"_blank\" href=https://colab.research.google.com/notebooks/data_table.ipynb>data table notebook</a>'\n",
              "            + ' to learn more about interactive tables.';\n",
              "          element.innerHTML = '';\n",
              "          dataTable['output_type'] = 'display_data';\n",
              "          await google.colab.output.renderOutput(dataTable, element);\n",
              "          const docLink = document.createElement('div');\n",
              "          docLink.innerHTML = docLinkHtml;\n",
              "          element.appendChild(docLink);\n",
              "        }\n",
              "      </script>\n",
              "    </div>\n",
              "  </div>\n",
              "  "
            ]
          },
          "metadata": {},
          "execution_count": 23
        }
      ]
    },
    {
      "cell_type": "code",
      "source": [
        "new_df.to_csv('new_fonts.csv')"
      ],
      "metadata": {
        "id": "XoGpYwN2Mj0S"
      },
      "execution_count": null,
      "outputs": []
    },
    {
      "cell_type": "code",
      "source": [
        "pixels = new_df[pixel_cols].to_numpy()"
      ],
      "metadata": {
        "id": "KnEm6JYwMpxJ"
      },
      "execution_count": null,
      "outputs": []
    },
    {
      "cell_type": "code",
      "source": [
        "pixels"
      ],
      "metadata": {
        "colab": {
          "base_uri": "https://localhost:8080/"
        },
        "id": "Mor8maDlNnsR",
        "outputId": "5bb80ee5-bfd0-421c-a6eb-19e7b4cb482c"
      },
      "execution_count": null,
      "outputs": [
        {
          "output_type": "execute_result",
          "data": {
            "text/plain": [
              "array([[1, 1, 1, ..., 1, 1, 1],\n",
              "       [1, 1, 1, ..., 1, 1, 1],\n",
              "       [1, 1, 1, ..., 1, 1, 1],\n",
              "       ...,\n",
              "       [1, 1, 1, ..., 1, 1, 1],\n",
              "       [1, 1, 1, ..., 1, 1, 1],\n",
              "       [1, 1, 1, ..., 1, 1, 1]])"
            ]
          },
          "metadata": {},
          "execution_count": 26
        }
      ]
    },
    {
      "cell_type": "code",
      "source": [
        "pixels = pixels / 255"
      ],
      "metadata": {
        "id": "29BmIf_XN5QJ"
      },
      "execution_count": null,
      "outputs": []
    },
    {
      "cell_type": "code",
      "source": [
        "pixels[0]"
      ],
      "metadata": {
        "colab": {
          "base_uri": "https://localhost:8080/"
        },
        "id": "rJx1-nU4OPKl",
        "outputId": "407e9020-4dd6-4677-87bc-986e0a4b7a01"
      },
      "execution_count": null,
      "outputs": [
        {
          "output_type": "execute_result",
          "data": {
            "text/plain": [
              "array([0.00392157, 0.00392157, 0.00392157, 0.00392157, 0.00392157,\n",
              "       0.00392157, 0.00392157, 0.3372549 , 0.67058824, 0.90588235,\n",
              "       0.90588235, 0.67058824, 0.3372549 , 0.00392157, 0.00392157,\n",
              "       0.00392157, 0.00392157, 0.00392157, 0.00392157, 0.00392157,\n",
              "       0.00392157, 0.00392157, 0.00392157, 0.00392157, 0.00392157,\n",
              "       0.43137255, 0.85882353, 1.        , 1.        , 1.        ,\n",
              "       1.        , 1.        , 1.        , 0.85882353, 0.67058824,\n",
              "       0.23921569, 0.00392157, 0.00392157, 0.00392157, 0.00392157,\n",
              "       0.00392157, 0.00392157, 0.00392157, 0.00392157, 0.71764706,\n",
              "       1.        , 1.        , 1.        , 1.        , 1.        ,\n",
              "       1.        , 1.        , 1.        , 1.        , 1.        ,\n",
              "       0.71764706, 0.00392157, 0.00392157, 0.00392157, 0.00392157,\n",
              "       0.00392157, 0.00392157, 0.00392157, 0.00392157, 0.00392157,\n",
              "       0.43137255, 0.67058824, 0.61960784, 0.3372549 , 0.09803922,\n",
              "       0.00392157, 0.19215686, 0.61960784, 0.67058824, 0.67058824,\n",
              "       0.23921569, 0.00392157, 0.00392157, 0.00392157, 0.00392157,\n",
              "       0.09803922, 0.5254902 , 0.67058824, 0.67058824, 0.67058824,\n",
              "       0.57254902, 0.14509804, 0.00392157, 0.00392157, 0.00392157,\n",
              "       0.00392157, 0.00392157, 0.00392157, 0.14509804, 0.3372549 ,\n",
              "       0.67058824, 0.67058824, 0.67058824, 0.5254902 , 0.3372549 ,\n",
              "       1.        , 1.        , 1.        , 1.        , 1.        ,\n",
              "       1.        , 1.        , 0.14509804, 0.00392157, 0.00392157,\n",
              "       0.00392157, 0.00392157, 0.14509804, 1.        , 1.        ,\n",
              "       1.        , 1.        , 1.        , 1.        , 1.        ,\n",
              "       0.43137255, 0.85882353, 1.        , 1.        , 1.        ,\n",
              "       1.        , 0.61960784, 0.05098039, 0.00392157, 0.00392157,\n",
              "       0.00392157, 0.00392157, 0.05098039, 0.47843137, 0.90588235,\n",
              "       1.        , 1.        , 1.        , 1.        , 0.5254902 ,\n",
              "       0.00392157, 0.57254902, 1.        , 1.        , 1.        ,\n",
              "       1.        , 0.43137255, 0.00392157, 0.00392157, 0.00392157,\n",
              "       0.00392157, 0.00392157, 0.00392157, 0.00392157, 0.71764706,\n",
              "       1.        , 1.        , 1.        , 1.        , 0.28627451,\n",
              "       0.00392157, 0.57254902, 1.        , 1.        , 1.        ,\n",
              "       1.        , 0.43137255, 0.00392157, 0.00392157, 0.00392157,\n",
              "       0.00392157, 0.00392157, 0.00392157, 0.00392157, 0.71764706,\n",
              "       1.        , 1.        , 1.        , 1.        , 0.28627451,\n",
              "       0.00392157, 0.57254902, 1.        , 1.        , 1.        ,\n",
              "       1.        , 0.43137255, 0.00392157, 0.00392157, 0.00392157,\n",
              "       0.00392157, 0.00392157, 0.00392157, 0.00392157, 0.71764706,\n",
              "       1.        , 1.        , 1.        , 1.        , 0.28627451,\n",
              "       0.00392157, 0.57254902, 1.        , 1.        , 1.        ,\n",
              "       1.        , 0.43137255, 0.00392157, 0.00392157, 0.00392157,\n",
              "       0.00392157, 0.00392157, 0.00392157, 0.00392157, 0.71764706,\n",
              "       1.        , 1.        , 1.        , 1.        , 0.28627451,\n",
              "       0.00392157, 0.57254902, 1.        , 1.        , 1.        ,\n",
              "       1.        , 0.43137255, 0.00392157, 0.00392157, 0.00392157,\n",
              "       0.00392157, 0.00392157, 0.00392157, 0.00392157, 0.71764706,\n",
              "       1.        , 1.        , 1.        , 1.        , 0.28627451,\n",
              "       0.00392157, 0.57254902, 1.        , 1.        , 1.        ,\n",
              "       1.        , 0.43137255, 0.00392157, 0.00392157, 0.00392157,\n",
              "       0.00392157, 0.00392157, 0.00392157, 0.00392157, 0.71764706,\n",
              "       1.        , 1.        , 1.        , 1.        , 0.28627451,\n",
              "       0.00392157, 0.57254902, 1.        , 1.        , 1.        ,\n",
              "       1.        , 0.43137255, 0.00392157, 0.00392157, 0.00392157,\n",
              "       0.00392157, 0.00392157, 0.00392157, 0.00392157, 0.71764706,\n",
              "       1.        , 1.        , 1.        , 1.        , 0.28627451,\n",
              "       0.00392157, 0.57254902, 1.        , 1.        , 1.        ,\n",
              "       1.        , 0.43137255, 0.00392157, 0.00392157, 0.00392157,\n",
              "       0.00392157, 0.00392157, 0.00392157, 0.00392157, 0.71764706,\n",
              "       1.        , 1.        , 1.        , 1.        , 0.28627451,\n",
              "       0.00392157, 0.57254902, 1.        , 1.        , 1.        ,\n",
              "       1.        , 0.43137255, 0.00392157, 0.00392157, 0.00392157,\n",
              "       0.00392157, 0.00392157, 0.00392157, 0.00392157, 0.71764706,\n",
              "       1.        , 1.        , 1.        , 1.        , 0.28627451,\n",
              "       0.00392157, 0.57254902, 1.        , 1.        , 1.        ,\n",
              "       1.        , 0.43137255, 0.00392157, 0.00392157, 0.00392157,\n",
              "       0.00392157, 0.00392157, 0.00392157, 0.14509804, 0.81176471,\n",
              "       1.        , 1.        , 1.        , 1.        , 0.28627451,\n",
              "       0.00392157, 0.38431373, 0.95294118, 1.        , 1.        ,\n",
              "       1.        , 1.        , 0.71764706, 0.5254902 , 0.3372549 ,\n",
              "       0.3372549 , 0.5254902 , 0.71764706, 1.        , 1.        ,\n",
              "       1.        , 1.        , 1.        , 0.57254902, 0.00392157,\n",
              "       0.00392157, 0.00392157, 0.3372549 , 0.81176471, 1.        ,\n",
              "       1.        , 1.        , 1.        , 1.        , 1.        ,\n",
              "       1.        , 1.        , 1.        , 1.        , 1.        ,\n",
              "       1.        , 0.81176471, 0.3372549 , 0.00392157, 0.00392157,\n",
              "       0.00392157, 0.00392157, 0.00392157, 0.00392157, 0.23921569,\n",
              "       0.43137255, 0.67058824, 0.95294118, 1.        , 1.        ,\n",
              "       1.        , 1.        , 0.95294118, 0.67058824, 0.43137255,\n",
              "       0.23921569, 0.00392157, 0.00392157, 0.00392157, 0.00392157])"
            ]
          },
          "metadata": {},
          "execution_count": 28
        }
      ]
    },
    {
      "cell_type": "code",
      "source": [
        "labels = new_df['m_label'].to_numpy()\n",
        "fonts = new_df['font'].to_numpy()"
      ],
      "metadata": {
        "id": "SH6uR9G6PJAv"
      },
      "execution_count": null,
      "outputs": []
    },
    {
      "cell_type": "code",
      "source": [
        "import tensorflow as tf\n",
        "import keras.layers as L\n",
        "import keras.models as K"
      ],
      "metadata": {
        "id": "4fqL7y28PONS"
      },
      "execution_count": null,
      "outputs": []
    },
    {
      "cell_type": "code",
      "source": [
        "def get_category_encoding(array, max_tokens=None):\n",
        "  index = L.StringLookup(max_tokens=max_tokens)\n",
        "  index.adapt(array)\n",
        "\n",
        "  # Encode the integer indices.\n",
        "  encoder = L.CategoryEncoding(num_tokens=index.vocabulary_size())\n",
        "\n",
        "  # Apply one-hot encoding to the indices. The lambda function captures the\n",
        "  # layer, so you can use them, or include them in the Keras Functional model later.\n",
        "  return lambda feature: encoder(index(feature)), index"
      ],
      "metadata": {
        "id": "WRFB2hNKRGrd"
      },
      "execution_count": null,
      "outputs": []
    },
    {
      "cell_type": "code",
      "source": [
        "encode, index = get_category_encoding(fonts, 144)"
      ],
      "metadata": {
        "id": "bRf_Jwd4SHtE"
      },
      "execution_count": null,
      "outputs": []
    },
    {
      "cell_type": "code",
      "source": [
        "encode('ARIAL')"
      ],
      "metadata": {
        "colab": {
          "base_uri": "https://localhost:8080/"
        },
        "id": "FMcYUS_sSMiz",
        "outputId": "6a8dded2-38fb-4b94-ed1a-a80f752852d6"
      },
      "execution_count": null,
      "outputs": [
        {
          "output_type": "execute_result",
          "data": {
            "text/plain": [
              "<tf.Tensor: shape=(144,), dtype=float32, numpy=\n",
              "array([0., 1., 0., 0., 0., 0., 0., 0., 0., 0., 0., 0., 0., 0., 0., 0., 0.,\n",
              "       0., 0., 0., 0., 0., 0., 0., 0., 0., 0., 0., 0., 0., 0., 0., 0., 0.,\n",
              "       0., 0., 0., 0., 0., 0., 0., 0., 0., 0., 0., 0., 0., 0., 0., 0., 0.,\n",
              "       0., 0., 0., 0., 0., 0., 0., 0., 0., 0., 0., 0., 0., 0., 0., 0., 0.,\n",
              "       0., 0., 0., 0., 0., 0., 0., 0., 0., 0., 0., 0., 0., 0., 0., 0., 0.,\n",
              "       0., 0., 0., 0., 0., 0., 0., 0., 0., 0., 0., 0., 0., 0., 0., 0., 0.,\n",
              "       0., 0., 0., 0., 0., 0., 0., 0., 0., 0., 0., 0., 0., 0., 0., 0., 0.,\n",
              "       0., 0., 0., 0., 0., 0., 0., 0., 0., 0., 0., 0., 0., 0., 0., 0., 0.,\n",
              "       0., 0., 0., 0., 0., 0., 0., 0.], dtype=float32)>"
            ]
          },
          "metadata": {},
          "execution_count": 33
        }
      ]
    },
    {
      "cell_type": "code",
      "source": [
        "import numpy as np"
      ],
      "metadata": {
        "id": "W6ZgyvbCSad7"
      },
      "execution_count": null,
      "outputs": []
    },
    {
      "cell_type": "code",
      "source": [
        "categories = [encode(font).numpy() for font in fonts]"
      ],
      "metadata": {
        "id": "rzrEFPNbSRLD"
      },
      "execution_count": null,
      "outputs": []
    },
    {
      "cell_type": "code",
      "source": [
        "categories[0]"
      ],
      "metadata": {
        "colab": {
          "base_uri": "https://localhost:8080/"
        },
        "id": "oQrJzFDQSZpl",
        "outputId": "bbc16739-635f-4f17-aa15-f68ed1117983"
      },
      "execution_count": null,
      "outputs": [
        {
          "output_type": "execute_result",
          "data": {
            "text/plain": [
              "array([0., 0., 0., 0., 0., 0., 0., 0., 0., 0., 0., 0., 0., 0., 0., 0., 0.,\n",
              "       0., 0., 0., 0., 0., 0., 0., 0., 0., 0., 0., 0., 0., 0., 0., 1., 0.,\n",
              "       0., 0., 0., 0., 0., 0., 0., 0., 0., 0., 0., 0., 0., 0., 0., 0., 0.,\n",
              "       0., 0., 0., 0., 0., 0., 0., 0., 0., 0., 0., 0., 0., 0., 0., 0., 0.,\n",
              "       0., 0., 0., 0., 0., 0., 0., 0., 0., 0., 0., 0., 0., 0., 0., 0., 0.,\n",
              "       0., 0., 0., 0., 0., 0., 0., 0., 0., 0., 0., 0., 0., 0., 0., 0., 0.,\n",
              "       0., 0., 0., 0., 0., 0., 0., 0., 0., 0., 0., 0., 0., 0., 0., 0., 0.,\n",
              "       0., 0., 0., 0., 0., 0., 0., 0., 0., 0., 0., 0., 0., 0., 0., 0., 0.,\n",
              "       0., 0., 0., 0., 0., 0., 0., 0.], dtype=float32)"
            ]
          },
          "metadata": {},
          "execution_count": 36
        }
      ]
    },
    {
      "cell_type": "code",
      "source": [
        "images = pixels.reshape((-1, 20, 20))"
      ],
      "metadata": {
        "id": "Js2fL4E7Y-Ig"
      },
      "execution_count": null,
      "outputs": []
    },
    {
      "cell_type": "code",
      "source": [
        "from matplotlib import pyplot as plt\n",
        "\n",
        "plt.figure(figsize=(6,6), dpi=120)\n",
        "for n in range(9):\n",
        "  plt.subplot(3,3,n+1)\n",
        "  plt.imshow(images[n])\n",
        "  char = chr(labels[n])\n",
        "  font = fonts[n]\n",
        "  plt.title(f\"{font}: {char}\")\n",
        "  plt.axis('off')"
      ],
      "metadata": {
        "colab": {
          "base_uri": "https://localhost:8080/",
          "height": 609
        },
        "id": "_zSIeUVmY_1w",
        "outputId": "5bbf41a0-d467-4428-9661-f84f3b252c58"
      },
      "execution_count": null,
      "outputs": [
        {
          "output_type": "display_data",
          "data": {
            "text/plain": [
              "<Figure size 720x720 with 9 Axes>"
            ],
            "image/png": "[encoded data removed]"
          },
          "metadata": {
            "needs_background": "light"
          }
        }
      ]
    },
    {
      "cell_type": "code",
      "source": [
        "categories_numpy = np.array(categories)"
      ],
      "metadata": {
        "id": "AjYV5_zGciaH"
      },
      "execution_count": null,
      "outputs": []
    },
    {
      "cell_type": "code",
      "source": [
        "categories_numpy[0]"
      ],
      "metadata": {
        "colab": {
          "base_uri": "https://localhost:8080/"
        },
        "id": "E5JNSbKlcnKl",
        "outputId": "460462a8-b8b9-42e2-cc84-7152a948cf8a"
      },
      "execution_count": null,
      "outputs": [
        {
          "output_type": "execute_result",
          "data": {
            "text/plain": [
              "array([0., 0., 0., 0., 0., 0., 0., 0., 0., 0., 0., 0., 0., 0., 0., 0., 0.,\n",
              "       0., 0., 0., 0., 0., 0., 0., 0., 0., 0., 0., 0., 0., 0., 0., 1., 0.,\n",
              "       0., 0., 0., 0., 0., 0., 0., 0., 0., 0., 0., 0., 0., 0., 0., 0., 0.,\n",
              "       0., 0., 0., 0., 0., 0., 0., 0., 0., 0., 0., 0., 0., 0., 0., 0., 0.,\n",
              "       0., 0., 0., 0., 0., 0., 0., 0., 0., 0., 0., 0., 0., 0., 0., 0., 0.,\n",
              "       0., 0., 0., 0., 0., 0., 0., 0., 0., 0., 0., 0., 0., 0., 0., 0., 0.,\n",
              "       0., 0., 0., 0., 0., 0., 0., 0., 0., 0., 0., 0., 0., 0., 0., 0., 0.,\n",
              "       0., 0., 0., 0., 0., 0., 0., 0., 0., 0., 0., 0., 0., 0., 0., 0., 0.,\n",
              "       0., 0., 0., 0., 0., 0., 0., 0.], dtype=float32)"
            ]
          },
          "metadata": {},
          "execution_count": 40
        }
      ]
    },
    {
      "cell_type": "code",
      "source": [
        "from sklearn.model_selection import train_test_split\n",
        "\n",
        "# Split the data\n",
        "x_train, x_val, y_train, y_val = train_test_split(images, categories_numpy, test_size=0.1, shuffle=True)"
      ],
      "metadata": {
        "id": "isQhCaf4cdVB"
      },
      "execution_count": null,
      "outputs": []
    },
    {
      "cell_type": "code",
      "source": [
        "model = K.Sequential([\n",
        "  L.Conv2D(64, 3, input_shape=(20,20,1), activation='relu'),\n",
        "  L.Conv2D(32, 3, activation='relu'),\n",
        "  L.Conv2D(16, 3, activation='relu'),\n",
        "  L.Flatten(),\n",
        "  L.Dense(144, activation='sigmoid')\n",
        "])\n",
        "\n",
        "\n",
        "model.compile(loss=\"categorical_crossentropy\", optimizer=\"adam\", metrics=[\"accuracy\"])\n",
        "print(model.summary())"
      ],
      "metadata": {
        "colab": {
          "base_uri": "https://localhost:8080/"
        },
        "id": "fAo2tX6IUVJb",
        "outputId": "aa099ab6-0d63-47a9-8c06-c5a9f04c4afc"
      },
      "execution_count": null,
      "outputs": [
        {
          "output_type": "stream",
          "name": "stdout",
          "text": [
            "Model: \"sequential_43\"\n",
            "_________________________________________________________________\n",
            " Layer (type)                Output Shape              Param #   \n",
            "=================================================================\n",
            " conv2d_133 (Conv2D)         (None, 18, 18, 64)        640       \n",
            "                                                                 \n",
            " conv2d_134 (Conv2D)         (None, 16, 16, 32)        18464     \n",
            "                                                                 \n",
            " conv2d_135 (Conv2D)         (None, 14, 14, 16)        4624      \n",
            "                                                                 \n",
            " flatten_43 (Flatten)        (None, 3136)              0         \n",
            "                                                                 \n",
            " dense_50 (Dense)            (None, 144)               451728    \n",
            "                                                                 \n",
            "=================================================================\n",
            "Total params: 475,456\n",
            "Trainable params: 475,456\n",
            "Non-trainable params: 0\n",
            "_________________________________________________________________\n",
            "None\n"
          ]
        }
      ]
    },
    {
      "cell_type": "code",
      "source": [
        "history = model.fit(\n",
        "    x=x_train, \n",
        "    y=y_train,\n",
        "    validation_data=(x_val, y_val),\n",
        "    epochs=10, \n",
        "    verbose=1, \n",
        "    batch_size=10\n",
        "  )"
      ],
      "metadata": {
        "colab": {
          "base_uri": "https://localhost:8080/",
          "height": 611
        },
        "id": "zAFWLkRNUudp",
        "outputId": "a9dc0950-7bc5-4fe7-dc84-42620f754ad8"
      },
      "execution_count": null,
      "outputs": [
        {
          "output_type": "stream",
          "name": "stdout",
          "text": [
            "Epoch 1/10\n",
            "13791/13791 [==============================] - 379s 27ms/step - loss: 3.3830 - accuracy: 0.2503 - val_loss: 2.9171 - val_accuracy: 0.3303\n",
            "Epoch 2/10\n",
            "13791/13791 [==============================] - 373s 27ms/step - loss: 2.5458 - accuracy: 0.3936 - val_loss: 2.6645 - val_accuracy: 0.3855\n",
            "Epoch 3/10\n",
            "13791/13791 [==============================] - 376s 27ms/step - loss: 2.1669 - accuracy: 0.4648 - val_loss: 2.5667 - val_accuracy: 0.4168\n",
            "Epoch 4/10\n",
            "13791/13791 [==============================] - 375s 27ms/step - loss: 1.9310 - accuracy: 0.5118 - val_loss: 2.5725 - val_accuracy: 0.4207\n",
            "Epoch 5/10\n",
            "13791/13791 [==============================] - 375s 27ms/step - loss: 1.7658 - accuracy: 0.5463 - val_loss: 2.6059 - val_accuracy: 0.4215\n",
            "Epoch 6/10\n",
            " 6313/13791 [============>.................] - ETA: 3:18 - loss: 1.5696 - accuracy: 0.5898"
          ]
        },
        {
          "output_type": "error",
          "ename": "KeyboardInterrupt",
          "evalue": "ignored",
          "traceback": [
            "\u001b[0;31m---------------------------------------------------------------------------\u001b[0m",
            "\u001b[0;31mKeyboardInterrupt\u001b[0m                         Traceback (most recent call last)",
            "\u001b[0;32m<ipython-input-102-bb00cf428d89>\u001b[0m in \u001b[0;36m<module>\u001b[0;34m\u001b[0m\n\u001b[1;32m      5\u001b[0m     \u001b[0mepochs\u001b[0m\u001b[0;34m=\u001b[0m\u001b[0;36m10\u001b[0m\u001b[0;34m,\u001b[0m\u001b[0;34m\u001b[0m\u001b[0;34m\u001b[0m\u001b[0m\n\u001b[1;32m      6\u001b[0m     \u001b[0mverbose\u001b[0m\u001b[0;34m=\u001b[0m\u001b[0;36m1\u001b[0m\u001b[0;34m,\u001b[0m\u001b[0;34m\u001b[0m\u001b[0;34m\u001b[0m\u001b[0m\n\u001b[0;32m----> 7\u001b[0;31m     \u001b[0mbatch_size\u001b[0m\u001b[0;34m=\u001b[0m\u001b[0;36m10\u001b[0m\u001b[0;34m\u001b[0m\u001b[0;34m\u001b[0m\u001b[0m\n\u001b[0m\u001b[1;32m      8\u001b[0m   )\n",
            "\u001b[0;32m/usr/local/lib/python3.7/dist-packages/keras/utils/traceback_utils.py\u001b[0m in \u001b[0;36merror_handler\u001b[0;34m(*args, **kwargs)\u001b[0m\n\u001b[1;32m     62\u001b[0m     \u001b[0mfiltered_tb\u001b[0m \u001b[0;34m=\u001b[0m \u001b[0;32mNone\u001b[0m\u001b[0;34m\u001b[0m\u001b[0;34m\u001b[0m\u001b[0m\n\u001b[1;32m     63\u001b[0m     \u001b[0;32mtry\u001b[0m\u001b[0;34m:\u001b[0m\u001b[0;34m\u001b[0m\u001b[0;34m\u001b[0m\u001b[0m\n\u001b[0;32m---> 64\u001b[0;31m       \u001b[0;32mreturn\u001b[0m \u001b[0mfn\u001b[0m\u001b[0;34m(\u001b[0m\u001b[0;34m*\u001b[0m\u001b[0margs\u001b[0m\u001b[0;34m,\u001b[0m \u001b[0;34m**\u001b[0m\u001b[0mkwargs\u001b[0m\u001b[0;34m)\u001b[0m\u001b[0;34m\u001b[0m\u001b[0;34m\u001b[0m\u001b[0m\n\u001b[0m\u001b[1;32m     65\u001b[0m     \u001b[0;32mexcept\u001b[0m \u001b[0mException\u001b[0m \u001b[0;32mas\u001b[0m \u001b[0me\u001b[0m\u001b[0;34m:\u001b[0m  \u001b[0;31m# pylint: disable=broad-except\u001b[0m\u001b[0;34m\u001b[0m\u001b[0;34m\u001b[0m\u001b[0m\n\u001b[1;32m     66\u001b[0m       \u001b[0mfiltered_tb\u001b[0m \u001b[0;34m=\u001b[0m \u001b[0m_process_traceback_frames\u001b[0m\u001b[0;34m(\u001b[0m\u001b[0me\u001b[0m\u001b[0;34m.\u001b[0m\u001b[0m__traceback__\u001b[0m\u001b[0;34m)\u001b[0m\u001b[0;34m\u001b[0m\u001b[0;34m\u001b[0m\u001b[0m\n",
            "\u001b[0;32m/usr/local/lib/python3.7/dist-packages/keras/engine/training.py\u001b[0m in \u001b[0;36mfit\u001b[0;34m(self, x, y, batch_size, epochs, verbose, callbacks, validation_split, validation_data, shuffle, class_weight, sample_weight, initial_epoch, steps_per_epoch, validation_steps, validation_batch_size, validation_freq, max_queue_size, workers, use_multiprocessing)\u001b[0m\n\u001b[1;32m   1407\u001b[0m                 _r=1):\n\u001b[1;32m   1408\u001b[0m               \u001b[0mcallbacks\u001b[0m\u001b[0;34m.\u001b[0m\u001b[0mon_train_batch_begin\u001b[0m\u001b[0;34m(\u001b[0m\u001b[0mstep\u001b[0m\u001b[0;34m)\u001b[0m\u001b[0;34m\u001b[0m\u001b[0;34m\u001b[0m\u001b[0m\n\u001b[0;32m-> 1409\u001b[0;31m               \u001b[0mtmp_logs\u001b[0m \u001b[0;34m=\u001b[0m \u001b[0mself\u001b[0m\u001b[0;34m.\u001b[0m\u001b[0mtrain_function\u001b[0m\u001b[0;34m(\u001b[0m\u001b[0miterator\u001b[0m\u001b[0;34m)\u001b[0m\u001b[0;34m\u001b[0m\u001b[0;34m\u001b[0m\u001b[0m\n\u001b[0m\u001b[1;32m   1410\u001b[0m               \u001b[0;32mif\u001b[0m \u001b[0mdata_handler\u001b[0m\u001b[0;34m.\u001b[0m\u001b[0mshould_sync\u001b[0m\u001b[0;34m:\u001b[0m\u001b[0;34m\u001b[0m\u001b[0;34m\u001b[0m\u001b[0m\n\u001b[1;32m   1411\u001b[0m                 \u001b[0mcontext\u001b[0m\u001b[0;34m.\u001b[0m\u001b[0masync_wait\u001b[0m\u001b[0;34m(\u001b[0m\u001b[0;34m)\u001b[0m\u001b[0;34m\u001b[0m\u001b[0;34m\u001b[0m\u001b[0m\n",
            "\u001b[0;32m/usr/local/lib/python3.7/dist-packages/tensorflow/python/util/traceback_utils.py\u001b[0m in \u001b[0;36merror_handler\u001b[0;34m(*args, **kwargs)\u001b[0m\n\u001b[1;32m    148\u001b[0m     \u001b[0mfiltered_tb\u001b[0m \u001b[0;34m=\u001b[0m \u001b[0;32mNone\u001b[0m\u001b[0;34m\u001b[0m\u001b[0;34m\u001b[0m\u001b[0m\n\u001b[1;32m    149\u001b[0m     \u001b[0;32mtry\u001b[0m\u001b[0;34m:\u001b[0m\u001b[0;34m\u001b[0m\u001b[0;34m\u001b[0m\u001b[0m\n\u001b[0;32m--> 150\u001b[0;31m       \u001b[0;32mreturn\u001b[0m \u001b[0mfn\u001b[0m\u001b[0;34m(\u001b[0m\u001b[0;34m*\u001b[0m\u001b[0margs\u001b[0m\u001b[0;34m,\u001b[0m \u001b[0;34m**\u001b[0m\u001b[0mkwargs\u001b[0m\u001b[0;34m)\u001b[0m\u001b[0;34m\u001b[0m\u001b[0;34m\u001b[0m\u001b[0m\n\u001b[0m\u001b[1;32m    151\u001b[0m     \u001b[0;32mexcept\u001b[0m \u001b[0mException\u001b[0m \u001b[0;32mas\u001b[0m \u001b[0me\u001b[0m\u001b[0;34m:\u001b[0m\u001b[0;34m\u001b[0m\u001b[0;34m\u001b[0m\u001b[0m\n\u001b[1;32m    152\u001b[0m       \u001b[0mfiltered_tb\u001b[0m \u001b[0;34m=\u001b[0m \u001b[0m_process_traceback_frames\u001b[0m\u001b[0;34m(\u001b[0m\u001b[0me\u001b[0m\u001b[0;34m.\u001b[0m\u001b[0m__traceback__\u001b[0m\u001b[0;34m)\u001b[0m\u001b[0;34m\u001b[0m\u001b[0;34m\u001b[0m\u001b[0m\n",
            "\u001b[0;32m/usr/local/lib/python3.7/dist-packages/tensorflow/python/eager/def_function.py\u001b[0m in \u001b[0;36m__call__\u001b[0;34m(self, *args, **kwds)\u001b[0m\n\u001b[1;32m    913\u001b[0m \u001b[0;34m\u001b[0m\u001b[0m\n\u001b[1;32m    914\u001b[0m       \u001b[0;32mwith\u001b[0m \u001b[0mOptionalXlaContext\u001b[0m\u001b[0;34m(\u001b[0m\u001b[0mself\u001b[0m\u001b[0;34m.\u001b[0m\u001b[0m_jit_compile\u001b[0m\u001b[0;34m)\u001b[0m\u001b[0;34m:\u001b[0m\u001b[0;34m\u001b[0m\u001b[0;34m\u001b[0m\u001b[0m\n\u001b[0;32m--> 915\u001b[0;31m         \u001b[0mresult\u001b[0m \u001b[0;34m=\u001b[0m \u001b[0mself\u001b[0m\u001b[0;34m.\u001b[0m\u001b[0m_call\u001b[0m\u001b[0;34m(\u001b[0m\u001b[0;34m*\u001b[0m\u001b[0margs\u001b[0m\u001b[0;34m,\u001b[0m \u001b[0;34m**\u001b[0m\u001b[0mkwds\u001b[0m\u001b[0;34m)\u001b[0m\u001b[0;34m\u001b[0m\u001b[0;34m\u001b[0m\u001b[0m\n\u001b[0m\u001b[1;32m    916\u001b[0m \u001b[0;34m\u001b[0m\u001b[0m\n\u001b[1;32m    917\u001b[0m       \u001b[0mnew_tracing_count\u001b[0m \u001b[0;34m=\u001b[0m \u001b[0mself\u001b[0m\u001b[0;34m.\u001b[0m\u001b[0mexperimental_get_tracing_count\u001b[0m\u001b[0;34m(\u001b[0m\u001b[0;34m)\u001b[0m\u001b[0;34m\u001b[0m\u001b[0;34m\u001b[0m\u001b[0m\n",
            "\u001b[0;32m/usr/local/lib/python3.7/dist-packages/tensorflow/python/eager/def_function.py\u001b[0m in \u001b[0;36m_call\u001b[0;34m(self, *args, **kwds)\u001b[0m\n\u001b[1;32m    945\u001b[0m       \u001b[0;31m# In this case we have created variables on the first call, so we run the\u001b[0m\u001b[0;34m\u001b[0m\u001b[0;34m\u001b[0m\u001b[0;34m\u001b[0m\u001b[0m\n\u001b[1;32m    946\u001b[0m       \u001b[0;31m# defunned version which is guaranteed to never create variables.\u001b[0m\u001b[0;34m\u001b[0m\u001b[0;34m\u001b[0m\u001b[0;34m\u001b[0m\u001b[0m\n\u001b[0;32m--> 947\u001b[0;31m       \u001b[0;32mreturn\u001b[0m \u001b[0mself\u001b[0m\u001b[0;34m.\u001b[0m\u001b[0m_stateless_fn\u001b[0m\u001b[0;34m(\u001b[0m\u001b[0;34m*\u001b[0m\u001b[0margs\u001b[0m\u001b[0;34m,\u001b[0m \u001b[0;34m**\u001b[0m\u001b[0mkwds\u001b[0m\u001b[0;34m)\u001b[0m  \u001b[0;31m# pylint: disable=not-callable\u001b[0m\u001b[0;34m\u001b[0m\u001b[0;34m\u001b[0m\u001b[0m\n\u001b[0m\u001b[1;32m    948\u001b[0m     \u001b[0;32melif\u001b[0m \u001b[0mself\u001b[0m\u001b[0;34m.\u001b[0m\u001b[0m_stateful_fn\u001b[0m \u001b[0;32mis\u001b[0m \u001b[0;32mnot\u001b[0m \u001b[0;32mNone\u001b[0m\u001b[0;34m:\u001b[0m\u001b[0;34m\u001b[0m\u001b[0;34m\u001b[0m\u001b[0m\n\u001b[1;32m    949\u001b[0m       \u001b[0;31m# Release the lock early so that multiple threads can perform the call\u001b[0m\u001b[0;34m\u001b[0m\u001b[0;34m\u001b[0m\u001b[0;34m\u001b[0m\u001b[0m\n",
            "\u001b[0;32m/usr/local/lib/python3.7/dist-packages/tensorflow/python/eager/function.py\u001b[0m in \u001b[0;36m__call__\u001b[0;34m(self, *args, **kwargs)\u001b[0m\n\u001b[1;32m   2452\u001b[0m        filtered_flat_args) = self._maybe_define_function(args, kwargs)\n\u001b[1;32m   2453\u001b[0m     return graph_function._call_flat(\n\u001b[0;32m-> 2454\u001b[0;31m         filtered_flat_args, captured_inputs=graph_function.captured_inputs)  # pylint: disable=protected-access\n\u001b[0m\u001b[1;32m   2455\u001b[0m \u001b[0;34m\u001b[0m\u001b[0m\n\u001b[1;32m   2456\u001b[0m   \u001b[0;34m@\u001b[0m\u001b[0mproperty\u001b[0m\u001b[0;34m\u001b[0m\u001b[0;34m\u001b[0m\u001b[0m\n",
            "\u001b[0;32m/usr/local/lib/python3.7/dist-packages/tensorflow/python/eager/function.py\u001b[0m in \u001b[0;36m_call_flat\u001b[0;34m(self, args, captured_inputs, cancellation_manager)\u001b[0m\n\u001b[1;32m   1859\u001b[0m       \u001b[0;31m# No tape is watching; skip to running the function.\u001b[0m\u001b[0;34m\u001b[0m\u001b[0;34m\u001b[0m\u001b[0;34m\u001b[0m\u001b[0m\n\u001b[1;32m   1860\u001b[0m       return self._build_call_outputs(self._inference_function.call(\n\u001b[0;32m-> 1861\u001b[0;31m           ctx, args, cancellation_manager=cancellation_manager))\n\u001b[0m\u001b[1;32m   1862\u001b[0m     forward_backward = self._select_forward_and_backward_functions(\n\u001b[1;32m   1863\u001b[0m         \u001b[0margs\u001b[0m\u001b[0;34m,\u001b[0m\u001b[0;34m\u001b[0m\u001b[0;34m\u001b[0m\u001b[0m\n",
            "\u001b[0;32m/usr/local/lib/python3.7/dist-packages/tensorflow/python/eager/function.py\u001b[0m in \u001b[0;36mcall\u001b[0;34m(self, ctx, args, cancellation_manager)\u001b[0m\n\u001b[1;32m    500\u001b[0m               \u001b[0minputs\u001b[0m\u001b[0;34m=\u001b[0m\u001b[0margs\u001b[0m\u001b[0;34m,\u001b[0m\u001b[0;34m\u001b[0m\u001b[0;34m\u001b[0m\u001b[0m\n\u001b[1;32m    501\u001b[0m               \u001b[0mattrs\u001b[0m\u001b[0;34m=\u001b[0m\u001b[0mattrs\u001b[0m\u001b[0;34m,\u001b[0m\u001b[0;34m\u001b[0m\u001b[0;34m\u001b[0m\u001b[0m\n\u001b[0;32m--> 502\u001b[0;31m               ctx=ctx)\n\u001b[0m\u001b[1;32m    503\u001b[0m         \u001b[0;32melse\u001b[0m\u001b[0;34m:\u001b[0m\u001b[0;34m\u001b[0m\u001b[0;34m\u001b[0m\u001b[0m\n\u001b[1;32m    504\u001b[0m           outputs = execute.execute_with_cancellation(\n",
            "\u001b[0;32m/usr/local/lib/python3.7/dist-packages/tensorflow/python/eager/execute.py\u001b[0m in \u001b[0;36mquick_execute\u001b[0;34m(op_name, num_outputs, inputs, attrs, ctx, name)\u001b[0m\n\u001b[1;32m     53\u001b[0m     \u001b[0mctx\u001b[0m\u001b[0;34m.\u001b[0m\u001b[0mensure_initialized\u001b[0m\u001b[0;34m(\u001b[0m\u001b[0;34m)\u001b[0m\u001b[0;34m\u001b[0m\u001b[0;34m\u001b[0m\u001b[0m\n\u001b[1;32m     54\u001b[0m     tensors = pywrap_tfe.TFE_Py_Execute(ctx._handle, device_name, op_name,\n\u001b[0;32m---> 55\u001b[0;31m                                         inputs, attrs, num_outputs)\n\u001b[0m\u001b[1;32m     56\u001b[0m   \u001b[0;32mexcept\u001b[0m \u001b[0mcore\u001b[0m\u001b[0;34m.\u001b[0m\u001b[0m_NotOkStatusException\u001b[0m \u001b[0;32mas\u001b[0m \u001b[0me\u001b[0m\u001b[0;34m:\u001b[0m\u001b[0;34m\u001b[0m\u001b[0;34m\u001b[0m\u001b[0m\n\u001b[1;32m     57\u001b[0m     \u001b[0;32mif\u001b[0m \u001b[0mname\u001b[0m \u001b[0;32mis\u001b[0m \u001b[0;32mnot\u001b[0m \u001b[0;32mNone\u001b[0m\u001b[0;34m:\u001b[0m\u001b[0;34m\u001b[0m\u001b[0;34m\u001b[0m\u001b[0m\n",
            "\u001b[0;31mKeyboardInterrupt\u001b[0m: "
          ]
        }
      ]
    },
    {
      "cell_type": "code",
      "source": [
        "model.save(\"model.h5\")"
      ],
      "metadata": {
        "id": "Z1jSMjc2_RUz"
      },
      "execution_count": null,
      "outputs": []
    },
    {
      "cell_type": "markdown",
      "source": [
        "Бачимо overfitting, але все ж продовжимо навчання"
      ],
      "metadata": {
        "id": "RzY2fq9RLwy3"
      }
    },
    {
      "cell_type": "code",
      "source": [
        "model_continue = K.load_model(\"model.h5\")"
      ],
      "metadata": {
        "id": "ypLQLnxl_Szf"
      },
      "execution_count": null,
      "outputs": []
    },
    {
      "cell_type": "code",
      "source": [
        "history2 = model_continue.fit(\n",
        "    x=x_train, \n",
        "    y=y_train,\n",
        "    validation_data=(x_val, y_val),\n",
        "    epochs=10, \n",
        "    verbose=1, \n",
        "    batch_size=10\n",
        "  )"
      ],
      "metadata": {
        "colab": {
          "base_uri": "https://localhost:8080/"
        },
        "id": "YMxsBd7czl8j",
        "outputId": "986255c9-d1a3-43fa-929e-e3cf35db352c"
      },
      "execution_count": null,
      "outputs": [
        {
          "output_type": "stream",
          "name": "stdout",
          "text": [
            "Epoch 1/10\n",
            "13791/13791 [==============================] - 347s 25ms/step - loss: 1.7175 - accuracy: 0.5646 - val_loss: 1.8003 - val_accuracy: 0.5474\n",
            "Epoch 2/10\n",
            "13791/13791 [==============================] - 354s 26ms/step - loss: 1.5881 - accuracy: 0.5872 - val_loss: 1.9180 - val_accuracy: 0.5235\n",
            "Epoch 3/10\n",
            "13791/13791 [==============================] - 356s 26ms/step - loss: 1.4960 - accuracy: 0.6069 - val_loss: 2.0401 - val_accuracy: 0.5098\n",
            "Epoch 4/10\n",
            "13791/13791 [==============================] - 348s 25ms/step - loss: 1.4214 - accuracy: 0.6215 - val_loss: 2.1875 - val_accuracy: 0.4903\n",
            "Epoch 5/10\n",
            "13791/13791 [==============================] - 347s 25ms/step - loss: 1.3605 - accuracy: 0.6352 - val_loss: 2.2956 - val_accuracy: 0.4852\n",
            "Epoch 6/10\n",
            "13791/13791 [==============================] - 352s 25ms/step - loss: 1.3099 - accuracy: 0.6472 - val_loss: 2.3584 - val_accuracy: 0.4728\n",
            "Epoch 7/10\n",
            "13791/13791 [==============================] - 357s 26ms/step - loss: 1.2645 - accuracy: 0.6563 - val_loss: 2.4977 - val_accuracy: 0.4803\n",
            "Epoch 8/10\n",
            "13791/13791 [==============================] - 351s 25ms/step - loss: 1.2240 - accuracy: 0.6666 - val_loss: 2.5769 - val_accuracy: 0.4696\n",
            "Epoch 9/10\n",
            "13791/13791 [==============================] - 353s 26ms/step - loss: 1.1904 - accuracy: 0.6743 - val_loss: 2.6259 - val_accuracy: 0.4743\n",
            "Epoch 10/10\n",
            "13791/13791 [==============================] - 351s 25ms/step - loss: 1.1587 - accuracy: 0.6809 - val_loss: 2.6495 - val_accuracy: 0.4658\n"
          ]
        }
      ]
    },
    {
      "cell_type": "markdown",
      "source": [
        "Низьку точність можна пояснити наявністю символів-дублікатів, тобто таких які ідентичні або майже ідентичні у кількох шрифтах. Проте якщо розпізнавати слова, а не окремі літери, то зі збільшенням кількості вхідних символів можна з більшою впевненістю правильно розпізнати шрифт.\n",
        "\n",
        "В порівнянні з минулою лабораторною, навчання трохи складніше, оскільки не маємо унікальних символів, які би \"допомогли\" мережі (легко вгадати до якого шрифту належить символ 文 якщо він надається тільки одним шрифтом)"
      ],
      "metadata": {
        "id": "SzK9r2_SL9f2"
      }
    }
  ]
}
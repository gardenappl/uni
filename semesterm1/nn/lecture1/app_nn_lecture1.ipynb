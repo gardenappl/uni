{
  "nbformat": 4,
  "nbformat_minor": 0,
  "metadata": {
    "colab": {
      "provenance": [],
      "collapsed_sections": []
    },
    "kernelspec": {
      "name": "python3",
      "display_name": "Python 3"
    },
    "language_info": {
      "name": "python"
    }
  },
  "cells": [
    {
      "cell_type": "markdown",
      "source": [
        "# Розв'язати задачі за допомогою Pandas."
      ],
      "metadata": {
        "id": "aaNouEW-mnfl"
      }
    },
    {
      "cell_type": "code",
      "source": [
        "import pandas as pd"
      ],
      "metadata": {
        "id": "6zTq8LBneulH"
      },
      "execution_count": null,
      "outputs": []
    },
    {
      "cell_type": "markdown",
      "source": [
        "## Обрати датасет, вивести датасет\n",
        "З державного веб-порталу відкритих даних оберемо невеликий датасет: \"*Оплати надавачам медичної допомоги за програмою медичних гарантій*\"\n",
        "\n",
        "https://data.gov.ua/dataset/25a46db9-2f15-4302-9b59-9bd761c80f46\n",
        "\n",
        "Опис атрибутів наборів даних:\n",
        "\n",
        "https://data.gov.ua/dataset/25a46db9-2f15-4302-9b59-9bd761c80f46/resource/faac1e9d-185d-4632-a48b-3bd7dfb53056"
      ],
      "metadata": {
        "id": "XUmHroFlmq1H"
      }
    },
    {
      "cell_type": "code",
      "source": [
        "df = pd.read_csv('https://data.gov.ua/dataset/9ebd7456-2992-450f-bd9f-fdaf083bab20/resource/2c687f30-da1e-45e1-b1d6-0957df358a30/download/payments_on_contracts_pmg_2022.csv')"
      ],
      "metadata": {
        "id": "JmzcjYnue6pM"
      },
      "execution_count": null,
      "outputs": []
    },
    {
      "cell_type": "code",
      "source": [
        "df.head()"
      ],
      "metadata": {
        "colab": {
          "base_uri": "https://localhost:8080/",
          "height": 531
        },
        "id": "iHOoN-G6fI3k",
        "outputId": "1acd8eff-7cb1-4093-ec72-edf50aa43eb6"
      },
      "execution_count": null,
      "outputs": [
        {
          "output_type": "execute_result",
          "data": {
            "text/plain": [
              "  legal_entity_edrpou  period_month  period_year  package_id  pay_package  \\\n",
              "0                 ФОП             1         2022           1     93196.40   \n",
              "1                 ФОП             2         2022           1     93317.46   \n",
              "2                 ФОП             1         2022           1     73453.57   \n",
              "3            38960413             1         2022           1   3484994.03   \n",
              "4            38960413             2         2022           1   3547373.99   \n",
              "\n",
              "      pay_all contract_number    pay_date  \\\n",
              "0    93196.40  0000-058P-M000  2022-01-21   \n",
              "1    93317.46  0000-058P-M000  2022-02-08   \n",
              "2    73453.57  0000-00E6-M000  2022-01-25   \n",
              "3  3484994.03  0000-009P-M000  2022-01-25   \n",
              "4  3547373.99  0000-009P-M000  2022-02-07   \n",
              "\n",
              "                                   legal_entity_name        doc_parent  \\\n",
              "0                       ФОП ПОЙДА СВІТЛАНА БОРИСІВНА  2356206882F22A1A   \n",
              "1                       ФОП ПОЙДА СВІТЛАНА БОРИСІВНА  2356206882F22B1A   \n",
              "2                    ФОП ГЕРАСІЙ ВОЛОДИМИР ДМИТРОВИЧ  2257504615F22A1A   \n",
              "3  КОМУНАЛЬНЕ НЕКОМЕРЦІЙНЕ ПІДПРИЄМСТВО \"ЦЕНТР ПЕ...  0038960413F22A1A   \n",
              "4  КОМУНАЛЬНЕ НЕКОМЕРЦІЙНЕ ПІДПРИЄМСТВО \"ЦЕНТР ПЕ...  0038960413F22B1A   \n",
              "\n",
              "   pay_type  kekp                             referral  \n",
              "0         2  2240  Надання первинної медичної допомоги  \n",
              "1         2  2240  Надання первинної медичної допомоги  \n",
              "2         2  2240  Надання первинної медичної допомоги  \n",
              "3         2  2240  Надання первинної медичної допомоги  \n",
              "4         2  2240  Надання первинної медичної допомоги  "
            ],
            "text/html": [
              "\n",
              "  <div id=\"df-46c0b4a9-9c13-428a-a3dd-4a3d598d79d8\">\n",
              "    <div class=\"colab-df-container\">\n",
              "      <div>\n",
              "<style scoped>\n",
              "    .dataframe tbody tr th:only-of-type {\n",
              "        vertical-align: middle;\n",
              "    }\n",
              "\n",
              "    .dataframe tbody tr th {\n",
              "        vertical-align: top;\n",
              "    }\n",
              "\n",
              "    .dataframe thead th {\n",
              "        text-align: right;\n",
              "    }\n",
              "</style>\n",
              "<table border=\"1\" class=\"dataframe\">\n",
              "  <thead>\n",
              "    <tr style=\"text-align: right;\">\n",
              "      <th></th>\n",
              "      <th>legal_entity_edrpou</th>\n",
              "      <th>period_month</th>\n",
              "      <th>period_year</th>\n",
              "      <th>package_id</th>\n",
              "      <th>pay_package</th>\n",
              "      <th>pay_all</th>\n",
              "      <th>contract_number</th>\n",
              "      <th>pay_date</th>\n",
              "      <th>legal_entity_name</th>\n",
              "      <th>doc_parent</th>\n",
              "      <th>pay_type</th>\n",
              "      <th>kekp</th>\n",
              "      <th>referral</th>\n",
              "    </tr>\n",
              "  </thead>\n",
              "  <tbody>\n",
              "    <tr>\n",
              "      <th>0</th>\n",
              "      <td>ФОП</td>\n",
              "      <td>1</td>\n",
              "      <td>2022</td>\n",
              "      <td>1</td>\n",
              "      <td>93196.40</td>\n",
              "      <td>93196.40</td>\n",
              "      <td>0000-058P-M000</td>\n",
              "      <td>2022-01-21</td>\n",
              "      <td>ФОП ПОЙДА СВІТЛАНА БОРИСІВНА</td>\n",
              "      <td>2356206882F22A1A</td>\n",
              "      <td>2</td>\n",
              "      <td>2240</td>\n",
              "      <td>Надання первинної медичної допомоги</td>\n",
              "    </tr>\n",
              "    <tr>\n",
              "      <th>1</th>\n",
              "      <td>ФОП</td>\n",
              "      <td>2</td>\n",
              "      <td>2022</td>\n",
              "      <td>1</td>\n",
              "      <td>93317.46</td>\n",
              "      <td>93317.46</td>\n",
              "      <td>0000-058P-M000</td>\n",
              "      <td>2022-02-08</td>\n",
              "      <td>ФОП ПОЙДА СВІТЛАНА БОРИСІВНА</td>\n",
              "      <td>2356206882F22B1A</td>\n",
              "      <td>2</td>\n",
              "      <td>2240</td>\n",
              "      <td>Надання первинної медичної допомоги</td>\n",
              "    </tr>\n",
              "    <tr>\n",
              "      <th>2</th>\n",
              "      <td>ФОП</td>\n",
              "      <td>1</td>\n",
              "      <td>2022</td>\n",
              "      <td>1</td>\n",
              "      <td>73453.57</td>\n",
              "      <td>73453.57</td>\n",
              "      <td>0000-00E6-M000</td>\n",
              "      <td>2022-01-25</td>\n",
              "      <td>ФОП ГЕРАСІЙ ВОЛОДИМИР ДМИТРОВИЧ</td>\n",
              "      <td>2257504615F22A1A</td>\n",
              "      <td>2</td>\n",
              "      <td>2240</td>\n",
              "      <td>Надання первинної медичної допомоги</td>\n",
              "    </tr>\n",
              "    <tr>\n",
              "      <th>3</th>\n",
              "      <td>38960413</td>\n",
              "      <td>1</td>\n",
              "      <td>2022</td>\n",
              "      <td>1</td>\n",
              "      <td>3484994.03</td>\n",
              "      <td>3484994.03</td>\n",
              "      <td>0000-009P-M000</td>\n",
              "      <td>2022-01-25</td>\n",
              "      <td>КОМУНАЛЬНЕ НЕКОМЕРЦІЙНЕ ПІДПРИЄМСТВО \"ЦЕНТР ПЕ...</td>\n",
              "      <td>0038960413F22A1A</td>\n",
              "      <td>2</td>\n",
              "      <td>2240</td>\n",
              "      <td>Надання первинної медичної допомоги</td>\n",
              "    </tr>\n",
              "    <tr>\n",
              "      <th>4</th>\n",
              "      <td>38960413</td>\n",
              "      <td>2</td>\n",
              "      <td>2022</td>\n",
              "      <td>1</td>\n",
              "      <td>3547373.99</td>\n",
              "      <td>3547373.99</td>\n",
              "      <td>0000-009P-M000</td>\n",
              "      <td>2022-02-07</td>\n",
              "      <td>КОМУНАЛЬНЕ НЕКОМЕРЦІЙНЕ ПІДПРИЄМСТВО \"ЦЕНТР ПЕ...</td>\n",
              "      <td>0038960413F22B1A</td>\n",
              "      <td>2</td>\n",
              "      <td>2240</td>\n",
              "      <td>Надання первинної медичної допомоги</td>\n",
              "    </tr>\n",
              "  </tbody>\n",
              "</table>\n",
              "</div>\n",
              "      <button class=\"colab-df-convert\" onclick=\"convertToInteractive('df-46c0b4a9-9c13-428a-a3dd-4a3d598d79d8')\"\n",
              "              title=\"Convert this dataframe to an interactive table.\"\n",
              "              style=\"display:none;\">\n",
              "        \n",
              "  <svg xmlns=\"http://www.w3.org/2000/svg\" height=\"24px\"viewBox=\"0 0 24 24\"\n",
              "       width=\"24px\">\n",
              "    <path d=\"M0 0h24v24H0V0z\" fill=\"none\"/>\n",
              "    <path d=\"M18.56 5.44l.94 2.06.94-2.06 2.06-.94-2.06-.94-.94-2.06-.94 2.06-2.06.94zm-11 1L8.5 8.5l.94-2.06 2.06-.94-2.06-.94L8.5 2.5l-.94 2.06-2.06.94zm10 10l.94 2.06.94-2.06 2.06-.94-2.06-.94-.94-2.06-.94 2.06-2.06.94z\"/><path d=\"M17.41 7.96l-1.37-1.37c-.4-.4-.92-.59-1.43-.59-.52 0-1.04.2-1.43.59L10.3 9.45l-7.72 7.72c-.78.78-.78 2.05 0 2.83L4 21.41c.39.39.9.59 1.41.59.51 0 1.02-.2 1.41-.59l7.78-7.78 2.81-2.81c.8-.78.8-2.07 0-2.86zM5.41 20L4 18.59l7.72-7.72 1.47 1.35L5.41 20z\"/>\n",
              "  </svg>\n",
              "      </button>\n",
              "      \n",
              "  <style>\n",
              "    .colab-df-container {\n",
              "      display:flex;\n",
              "      flex-wrap:wrap;\n",
              "      gap: 12px;\n",
              "    }\n",
              "\n",
              "    .colab-df-convert {\n",
              "      background-color: #E8F0FE;\n",
              "      border: none;\n",
              "      border-radius: 50%;\n",
              "      cursor: pointer;\n",
              "      display: none;\n",
              "      fill: #1967D2;\n",
              "      height: 32px;\n",
              "      padding: 0 0 0 0;\n",
              "      width: 32px;\n",
              "    }\n",
              "\n",
              "    .colab-df-convert:hover {\n",
              "      background-color: #E2EBFA;\n",
              "      box-shadow: 0px 1px 2px rgba(60, 64, 67, 0.3), 0px 1px 3px 1px rgba(60, 64, 67, 0.15);\n",
              "      fill: #174EA6;\n",
              "    }\n",
              "\n",
              "    [theme=dark] .colab-df-convert {\n",
              "      background-color: #3B4455;\n",
              "      fill: #D2E3FC;\n",
              "    }\n",
              "\n",
              "    [theme=dark] .colab-df-convert:hover {\n",
              "      background-color: #434B5C;\n",
              "      box-shadow: 0px 1px 3px 1px rgba(0, 0, 0, 0.15);\n",
              "      filter: drop-shadow(0px 1px 2px rgba(0, 0, 0, 0.3));\n",
              "      fill: #FFFFFF;\n",
              "    }\n",
              "  </style>\n",
              "\n",
              "      <script>\n",
              "        const buttonEl =\n",
              "          document.querySelector('#df-46c0b4a9-9c13-428a-a3dd-4a3d598d79d8 button.colab-df-convert');\n",
              "        buttonEl.style.display =\n",
              "          google.colab.kernel.accessAllowed ? 'block' : 'none';\n",
              "\n",
              "        async function convertToInteractive(key) {\n",
              "          const element = document.querySelector('#df-46c0b4a9-9c13-428a-a3dd-4a3d598d79d8');\n",
              "          const dataTable =\n",
              "            await google.colab.kernel.invokeFunction('convertToInteractive',\n",
              "                                                     [key], {});\n",
              "          if (!dataTable) return;\n",
              "\n",
              "          const docLinkHtml = 'Like what you see? Visit the ' +\n",
              "            '<a target=\"_blank\" href=https://colab.research.google.com/notebooks/data_table.ipynb>data table notebook</a>'\n",
              "            + ' to learn more about interactive tables.';\n",
              "          element.innerHTML = '';\n",
              "          dataTable['output_type'] = 'display_data';\n",
              "          await google.colab.output.renderOutput(dataTable, element);\n",
              "          const docLink = document.createElement('div');\n",
              "          docLink.innerHTML = docLinkHtml;\n",
              "          element.appendChild(docLink);\n",
              "        }\n",
              "      </script>\n",
              "    </div>\n",
              "  </div>\n",
              "  "
            ]
          },
          "metadata": {},
          "execution_count": 8
        }
      ]
    },
    {
      "cell_type": "markdown",
      "source": [
        "## З'ясувати чи є дані, що відсутні (NaN), виконати заміну відсутніх даних, наприклад на 0.0"
      ],
      "metadata": {
        "id": "016yRrhdnGJC"
      }
    },
    {
      "cell_type": "code",
      "source": [
        "df.info()"
      ],
      "metadata": {
        "colab": {
          "base_uri": "https://localhost:8080/"
        },
        "id": "fLStqSYte-u_",
        "outputId": "4e449482-359d-4e13-c124-b4e3e31125f3"
      },
      "execution_count": null,
      "outputs": [
        {
          "output_type": "stream",
          "name": "stdout",
          "text": [
            "<class 'pandas.core.frame.DataFrame'>\n",
            "RangeIndex: 17056 entries, 0 to 17055\n",
            "Data columns (total 13 columns):\n",
            " #   Column               Non-Null Count  Dtype  \n",
            "---  ------               --------------  -----  \n",
            " 0   legal_entity_edrpou  17056 non-null  object \n",
            " 1   period_month         17056 non-null  int64  \n",
            " 2   period_year          17056 non-null  int64  \n",
            " 3   package_id           17056 non-null  int64  \n",
            " 4   pay_package          17056 non-null  float64\n",
            " 5   pay_all              17056 non-null  float64\n",
            " 6   contract_number      17056 non-null  object \n",
            " 7   pay_date             17056 non-null  object \n",
            " 8   legal_entity_name    17056 non-null  object \n",
            " 9   doc_parent           17056 non-null  object \n",
            " 10  pay_type             17056 non-null  int64  \n",
            " 11  kekp                 17056 non-null  int64  \n",
            " 12  referral             17056 non-null  object \n",
            "dtypes: float64(2), int64(5), object(6)\n",
            "memory usage: 1.7+ MB\n"
          ]
        }
      ]
    },
    {
      "cell_type": "markdown",
      "source": [
        "Бачимо, що non-null count в усіх стовпцях дорівнює кількості рядків, отже відсутніх даних не повинно бути.\n",
        "\n",
        "Впевнимося в цьому:"
      ],
      "metadata": {
        "id": "0jNYnYJafOyi"
      }
    },
    {
      "cell_type": "code",
      "source": [
        "df.isnull().values.any()"
      ],
      "metadata": {
        "colab": {
          "base_uri": "https://localhost:8080/"
        },
        "id": "U-Q0MvjCgCyq",
        "outputId": "2b7d07af-2198-49dc-8ff2-49e4a6f2c2e3"
      },
      "execution_count": null,
      "outputs": [
        {
          "output_type": "execute_result",
          "data": {
            "text/plain": [
              "False"
            ]
          },
          "metadata": {},
          "execution_count": 12
        }
      ]
    },
    {
      "cell_type": "markdown",
      "source": [
        "Припустимо, що в нас все ж є дані NaN або null і їх треба видалити."
      ],
      "metadata": {
        "id": "dWhkfIr0g4Fk"
      }
    },
    {
      "cell_type": "code",
      "source": [
        "df_copy = df.copy()"
      ],
      "metadata": {
        "id": "3wvmjcDFfibS"
      },
      "execution_count": null,
      "outputs": []
    },
    {
      "cell_type": "code",
      "source": [
        "df_copy.at[0, 'contract_number'] = None"
      ],
      "metadata": {
        "id": "OXlcV3UEiFcq"
      },
      "execution_count": null,
      "outputs": []
    },
    {
      "cell_type": "code",
      "source": [
        "import numpy as np\n",
        "df_copy.at[0, 'pay_package'] = np.nan"
      ],
      "metadata": {
        "id": "6Vw-Aq5pimzK"
      },
      "execution_count": null,
      "outputs": []
    },
    {
      "cell_type": "code",
      "source": [
        "df_copy.head()"
      ],
      "metadata": {
        "colab": {
          "base_uri": "https://localhost:8080/",
          "height": 531
        },
        "id": "MQWtyWrpiQHK",
        "outputId": "21d05eb0-136e-48ca-fc74-63f4753353e2"
      },
      "execution_count": null,
      "outputs": [
        {
          "output_type": "execute_result",
          "data": {
            "text/plain": [
              "  legal_entity_edrpou  period_month  period_year  package_id  pay_package  \\\n",
              "0                 ФОП             1         2022           1          NaN   \n",
              "1                 ФОП             2         2022           1     93317.46   \n",
              "2                 ФОП             1         2022           1     73453.57   \n",
              "3            38960413             1         2022           1   3484994.03   \n",
              "4            38960413             2         2022           1   3547373.99   \n",
              "\n",
              "      pay_all contract_number    pay_date  \\\n",
              "0    93196.40            None  2022-01-21   \n",
              "1    93317.46  0000-058P-M000  2022-02-08   \n",
              "2    73453.57  0000-00E6-M000  2022-01-25   \n",
              "3  3484994.03  0000-009P-M000  2022-01-25   \n",
              "4  3547373.99  0000-009P-M000  2022-02-07   \n",
              "\n",
              "                                   legal_entity_name        doc_parent  \\\n",
              "0                       ФОП ПОЙДА СВІТЛАНА БОРИСІВНА  2356206882F22A1A   \n",
              "1                       ФОП ПОЙДА СВІТЛАНА БОРИСІВНА  2356206882F22B1A   \n",
              "2                    ФОП ГЕРАСІЙ ВОЛОДИМИР ДМИТРОВИЧ  2257504615F22A1A   \n",
              "3  КОМУНАЛЬНЕ НЕКОМЕРЦІЙНЕ ПІДПРИЄМСТВО \"ЦЕНТР ПЕ...  0038960413F22A1A   \n",
              "4  КОМУНАЛЬНЕ НЕКОМЕРЦІЙНЕ ПІДПРИЄМСТВО \"ЦЕНТР ПЕ...  0038960413F22B1A   \n",
              "\n",
              "   pay_type  kekp                             referral  \n",
              "0         2  2240  Надання первинної медичної допомоги  \n",
              "1         2  2240  Надання первинної медичної допомоги  \n",
              "2         2  2240  Надання первинної медичної допомоги  \n",
              "3         2  2240  Надання первинної медичної допомоги  \n",
              "4         2  2240  Надання первинної медичної допомоги  "
            ],
            "text/html": [
              "\n",
              "  <div id=\"df-b11add36-a2d0-4797-8f3c-a77d70b6beac\">\n",
              "    <div class=\"colab-df-container\">\n",
              "      <div>\n",
              "<style scoped>\n",
              "    .dataframe tbody tr th:only-of-type {\n",
              "        vertical-align: middle;\n",
              "    }\n",
              "\n",
              "    .dataframe tbody tr th {\n",
              "        vertical-align: top;\n",
              "    }\n",
              "\n",
              "    .dataframe thead th {\n",
              "        text-align: right;\n",
              "    }\n",
              "</style>\n",
              "<table border=\"1\" class=\"dataframe\">\n",
              "  <thead>\n",
              "    <tr style=\"text-align: right;\">\n",
              "      <th></th>\n",
              "      <th>legal_entity_edrpou</th>\n",
              "      <th>period_month</th>\n",
              "      <th>period_year</th>\n",
              "      <th>package_id</th>\n",
              "      <th>pay_package</th>\n",
              "      <th>pay_all</th>\n",
              "      <th>contract_number</th>\n",
              "      <th>pay_date</th>\n",
              "      <th>legal_entity_name</th>\n",
              "      <th>doc_parent</th>\n",
              "      <th>pay_type</th>\n",
              "      <th>kekp</th>\n",
              "      <th>referral</th>\n",
              "    </tr>\n",
              "  </thead>\n",
              "  <tbody>\n",
              "    <tr>\n",
              "      <th>0</th>\n",
              "      <td>ФОП</td>\n",
              "      <td>1</td>\n",
              "      <td>2022</td>\n",
              "      <td>1</td>\n",
              "      <td>NaN</td>\n",
              "      <td>93196.40</td>\n",
              "      <td>None</td>\n",
              "      <td>2022-01-21</td>\n",
              "      <td>ФОП ПОЙДА СВІТЛАНА БОРИСІВНА</td>\n",
              "      <td>2356206882F22A1A</td>\n",
              "      <td>2</td>\n",
              "      <td>2240</td>\n",
              "      <td>Надання первинної медичної допомоги</td>\n",
              "    </tr>\n",
              "    <tr>\n",
              "      <th>1</th>\n",
              "      <td>ФОП</td>\n",
              "      <td>2</td>\n",
              "      <td>2022</td>\n",
              "      <td>1</td>\n",
              "      <td>93317.46</td>\n",
              "      <td>93317.46</td>\n",
              "      <td>0000-058P-M000</td>\n",
              "      <td>2022-02-08</td>\n",
              "      <td>ФОП ПОЙДА СВІТЛАНА БОРИСІВНА</td>\n",
              "      <td>2356206882F22B1A</td>\n",
              "      <td>2</td>\n",
              "      <td>2240</td>\n",
              "      <td>Надання первинної медичної допомоги</td>\n",
              "    </tr>\n",
              "    <tr>\n",
              "      <th>2</th>\n",
              "      <td>ФОП</td>\n",
              "      <td>1</td>\n",
              "      <td>2022</td>\n",
              "      <td>1</td>\n",
              "      <td>73453.57</td>\n",
              "      <td>73453.57</td>\n",
              "      <td>0000-00E6-M000</td>\n",
              "      <td>2022-01-25</td>\n",
              "      <td>ФОП ГЕРАСІЙ ВОЛОДИМИР ДМИТРОВИЧ</td>\n",
              "      <td>2257504615F22A1A</td>\n",
              "      <td>2</td>\n",
              "      <td>2240</td>\n",
              "      <td>Надання первинної медичної допомоги</td>\n",
              "    </tr>\n",
              "    <tr>\n",
              "      <th>3</th>\n",
              "      <td>38960413</td>\n",
              "      <td>1</td>\n",
              "      <td>2022</td>\n",
              "      <td>1</td>\n",
              "      <td>3484994.03</td>\n",
              "      <td>3484994.03</td>\n",
              "      <td>0000-009P-M000</td>\n",
              "      <td>2022-01-25</td>\n",
              "      <td>КОМУНАЛЬНЕ НЕКОМЕРЦІЙНЕ ПІДПРИЄМСТВО \"ЦЕНТР ПЕ...</td>\n",
              "      <td>0038960413F22A1A</td>\n",
              "      <td>2</td>\n",
              "      <td>2240</td>\n",
              "      <td>Надання первинної медичної допомоги</td>\n",
              "    </tr>\n",
              "    <tr>\n",
              "      <th>4</th>\n",
              "      <td>38960413</td>\n",
              "      <td>2</td>\n",
              "      <td>2022</td>\n",
              "      <td>1</td>\n",
              "      <td>3547373.99</td>\n",
              "      <td>3547373.99</td>\n",
              "      <td>0000-009P-M000</td>\n",
              "      <td>2022-02-07</td>\n",
              "      <td>КОМУНАЛЬНЕ НЕКОМЕРЦІЙНЕ ПІДПРИЄМСТВО \"ЦЕНТР ПЕ...</td>\n",
              "      <td>0038960413F22B1A</td>\n",
              "      <td>2</td>\n",
              "      <td>2240</td>\n",
              "      <td>Надання первинної медичної допомоги</td>\n",
              "    </tr>\n",
              "  </tbody>\n",
              "</table>\n",
              "</div>\n",
              "      <button class=\"colab-df-convert\" onclick=\"convertToInteractive('df-b11add36-a2d0-4797-8f3c-a77d70b6beac')\"\n",
              "              title=\"Convert this dataframe to an interactive table.\"\n",
              "              style=\"display:none;\">\n",
              "        \n",
              "  <svg xmlns=\"http://www.w3.org/2000/svg\" height=\"24px\"viewBox=\"0 0 24 24\"\n",
              "       width=\"24px\">\n",
              "    <path d=\"M0 0h24v24H0V0z\" fill=\"none\"/>\n",
              "    <path d=\"M18.56 5.44l.94 2.06.94-2.06 2.06-.94-2.06-.94-.94-2.06-.94 2.06-2.06.94zm-11 1L8.5 8.5l.94-2.06 2.06-.94-2.06-.94L8.5 2.5l-.94 2.06-2.06.94zm10 10l.94 2.06.94-2.06 2.06-.94-2.06-.94-.94-2.06-.94 2.06-2.06.94z\"/><path d=\"M17.41 7.96l-1.37-1.37c-.4-.4-.92-.59-1.43-.59-.52 0-1.04.2-1.43.59L10.3 9.45l-7.72 7.72c-.78.78-.78 2.05 0 2.83L4 21.41c.39.39.9.59 1.41.59.51 0 1.02-.2 1.41-.59l7.78-7.78 2.81-2.81c.8-.78.8-2.07 0-2.86zM5.41 20L4 18.59l7.72-7.72 1.47 1.35L5.41 20z\"/>\n",
              "  </svg>\n",
              "      </button>\n",
              "      \n",
              "  <style>\n",
              "    .colab-df-container {\n",
              "      display:flex;\n",
              "      flex-wrap:wrap;\n",
              "      gap: 12px;\n",
              "    }\n",
              "\n",
              "    .colab-df-convert {\n",
              "      background-color: #E8F0FE;\n",
              "      border: none;\n",
              "      border-radius: 50%;\n",
              "      cursor: pointer;\n",
              "      display: none;\n",
              "      fill: #1967D2;\n",
              "      height: 32px;\n",
              "      padding: 0 0 0 0;\n",
              "      width: 32px;\n",
              "    }\n",
              "\n",
              "    .colab-df-convert:hover {\n",
              "      background-color: #E2EBFA;\n",
              "      box-shadow: 0px 1px 2px rgba(60, 64, 67, 0.3), 0px 1px 3px 1px rgba(60, 64, 67, 0.15);\n",
              "      fill: #174EA6;\n",
              "    }\n",
              "\n",
              "    [theme=dark] .colab-df-convert {\n",
              "      background-color: #3B4455;\n",
              "      fill: #D2E3FC;\n",
              "    }\n",
              "\n",
              "    [theme=dark] .colab-df-convert:hover {\n",
              "      background-color: #434B5C;\n",
              "      box-shadow: 0px 1px 3px 1px rgba(0, 0, 0, 0.15);\n",
              "      filter: drop-shadow(0px 1px 2px rgba(0, 0, 0, 0.3));\n",
              "      fill: #FFFFFF;\n",
              "    }\n",
              "  </style>\n",
              "\n",
              "      <script>\n",
              "        const buttonEl =\n",
              "          document.querySelector('#df-b11add36-a2d0-4797-8f3c-a77d70b6beac button.colab-df-convert');\n",
              "        buttonEl.style.display =\n",
              "          google.colab.kernel.accessAllowed ? 'block' : 'none';\n",
              "\n",
              "        async function convertToInteractive(key) {\n",
              "          const element = document.querySelector('#df-b11add36-a2d0-4797-8f3c-a77d70b6beac');\n",
              "          const dataTable =\n",
              "            await google.colab.kernel.invokeFunction('convertToInteractive',\n",
              "                                                     [key], {});\n",
              "          if (!dataTable) return;\n",
              "\n",
              "          const docLinkHtml = 'Like what you see? Visit the ' +\n",
              "            '<a target=\"_blank\" href=https://colab.research.google.com/notebooks/data_table.ipynb>data table notebook</a>'\n",
              "            + ' to learn more about interactive tables.';\n",
              "          element.innerHTML = '';\n",
              "          dataTable['output_type'] = 'display_data';\n",
              "          await google.colab.output.renderOutput(dataTable, element);\n",
              "          const docLink = document.createElement('div');\n",
              "          docLink.innerHTML = docLinkHtml;\n",
              "          element.appendChild(docLink);\n",
              "        }\n",
              "      </script>\n",
              "    </div>\n",
              "  </div>\n",
              "  "
            ]
          },
          "metadata": {},
          "execution_count": 19
        }
      ]
    },
    {
      "cell_type": "code",
      "source": [
        "df_copy.isnull().values.any()"
      ],
      "metadata": {
        "colab": {
          "base_uri": "https://localhost:8080/"
        },
        "id": "Y7AZTorFix0D",
        "outputId": "cb050b62-1ab2-49f9-a1c9-c47d55d83d13"
      },
      "execution_count": null,
      "outputs": [
        {
          "output_type": "execute_result",
          "data": {
            "text/plain": [
              "True"
            ]
          },
          "metadata": {},
          "execution_count": 20
        }
      ]
    },
    {
      "cell_type": "markdown",
      "source": [
        "Отже, створили копію датасету, тепер з відсутніми даними. Замінимо їх значення на 0:"
      ],
      "metadata": {
        "id": "8O1XNAarnTUF"
      }
    },
    {
      "cell_type": "code",
      "source": [
        "df_copy.fillna(0, inplace=True)"
      ],
      "metadata": {
        "id": "1nbBQ_jOi3-A"
      },
      "execution_count": null,
      "outputs": []
    },
    {
      "cell_type": "code",
      "source": [
        "df_copy.isnull().values.any()"
      ],
      "metadata": {
        "colab": {
          "base_uri": "https://localhost:8080/"
        },
        "id": "B44h82cii_0R",
        "outputId": "3b3ce803-f3dd-40f1-df49-cdfbd0f39b23"
      },
      "execution_count": null,
      "outputs": [
        {
          "output_type": "execute_result",
          "data": {
            "text/plain": [
              "False"
            ]
          },
          "metadata": {},
          "execution_count": 32
        }
      ]
    },
    {
      "cell_type": "markdown",
      "source": [
        "Об'єкти з NaN в нашій копії датасету тепер **відсутні**."
      ],
      "metadata": {
        "id": "ID2Vnz_bkz4D"
      }
    },
    {
      "cell_type": "code",
      "source": [
        "df_copy.head()"
      ],
      "metadata": {
        "colab": {
          "base_uri": "https://localhost:8080/",
          "height": 531
        },
        "id": "64XTBOovjDqT",
        "outputId": "05590557-d2b8-463c-cd65-8ccaf0479d43"
      },
      "execution_count": null,
      "outputs": [
        {
          "output_type": "execute_result",
          "data": {
            "text/plain": [
              "  legal_entity_edrpou  period_month  period_year  package_id  pay_package  \\\n",
              "0                 ФОП             1         2022           1         0.00   \n",
              "1                 ФОП             2         2022           1     93317.46   \n",
              "2                 ФОП             1         2022           1     73453.57   \n",
              "3            38960413             1         2022           1   3484994.03   \n",
              "4            38960413             2         2022           1   3547373.99   \n",
              "\n",
              "      pay_all contract_number    pay_date  \\\n",
              "0    93196.40               0  2022-01-21   \n",
              "1    93317.46  0000-058P-M000  2022-02-08   \n",
              "2    73453.57  0000-00E6-M000  2022-01-25   \n",
              "3  3484994.03  0000-009P-M000  2022-01-25   \n",
              "4  3547373.99  0000-009P-M000  2022-02-07   \n",
              "\n",
              "                                   legal_entity_name        doc_parent  \\\n",
              "0                       ФОП ПОЙДА СВІТЛАНА БОРИСІВНА  2356206882F22A1A   \n",
              "1                       ФОП ПОЙДА СВІТЛАНА БОРИСІВНА  2356206882F22B1A   \n",
              "2                    ФОП ГЕРАСІЙ ВОЛОДИМИР ДМИТРОВИЧ  2257504615F22A1A   \n",
              "3  КОМУНАЛЬНЕ НЕКОМЕРЦІЙНЕ ПІДПРИЄМСТВО \"ЦЕНТР ПЕ...  0038960413F22A1A   \n",
              "4  КОМУНАЛЬНЕ НЕКОМЕРЦІЙНЕ ПІДПРИЄМСТВО \"ЦЕНТР ПЕ...  0038960413F22B1A   \n",
              "\n",
              "   pay_type  kekp                             referral  \n",
              "0         2  2240  Надання первинної медичної допомоги  \n",
              "1         2  2240  Надання первинної медичної допомоги  \n",
              "2         2  2240  Надання первинної медичної допомоги  \n",
              "3         2  2240  Надання первинної медичної допомоги  \n",
              "4         2  2240  Надання первинної медичної допомоги  "
            ],
            "text/html": [
              "\n",
              "  <div id=\"df-e69c6d0f-f2ce-4d91-8dea-b92602e20185\">\n",
              "    <div class=\"colab-df-container\">\n",
              "      <div>\n",
              "<style scoped>\n",
              "    .dataframe tbody tr th:only-of-type {\n",
              "        vertical-align: middle;\n",
              "    }\n",
              "\n",
              "    .dataframe tbody tr th {\n",
              "        vertical-align: top;\n",
              "    }\n",
              "\n",
              "    .dataframe thead th {\n",
              "        text-align: right;\n",
              "    }\n",
              "</style>\n",
              "<table border=\"1\" class=\"dataframe\">\n",
              "  <thead>\n",
              "    <tr style=\"text-align: right;\">\n",
              "      <th></th>\n",
              "      <th>legal_entity_edrpou</th>\n",
              "      <th>period_month</th>\n",
              "      <th>period_year</th>\n",
              "      <th>package_id</th>\n",
              "      <th>pay_package</th>\n",
              "      <th>pay_all</th>\n",
              "      <th>contract_number</th>\n",
              "      <th>pay_date</th>\n",
              "      <th>legal_entity_name</th>\n",
              "      <th>doc_parent</th>\n",
              "      <th>pay_type</th>\n",
              "      <th>kekp</th>\n",
              "      <th>referral</th>\n",
              "    </tr>\n",
              "  </thead>\n",
              "  <tbody>\n",
              "    <tr>\n",
              "      <th>0</th>\n",
              "      <td>ФОП</td>\n",
              "      <td>1</td>\n",
              "      <td>2022</td>\n",
              "      <td>1</td>\n",
              "      <td>0.00</td>\n",
              "      <td>93196.40</td>\n",
              "      <td>0</td>\n",
              "      <td>2022-01-21</td>\n",
              "      <td>ФОП ПОЙДА СВІТЛАНА БОРИСІВНА</td>\n",
              "      <td>2356206882F22A1A</td>\n",
              "      <td>2</td>\n",
              "      <td>2240</td>\n",
              "      <td>Надання первинної медичної допомоги</td>\n",
              "    </tr>\n",
              "    <tr>\n",
              "      <th>1</th>\n",
              "      <td>ФОП</td>\n",
              "      <td>2</td>\n",
              "      <td>2022</td>\n",
              "      <td>1</td>\n",
              "      <td>93317.46</td>\n",
              "      <td>93317.46</td>\n",
              "      <td>0000-058P-M000</td>\n",
              "      <td>2022-02-08</td>\n",
              "      <td>ФОП ПОЙДА СВІТЛАНА БОРИСІВНА</td>\n",
              "      <td>2356206882F22B1A</td>\n",
              "      <td>2</td>\n",
              "      <td>2240</td>\n",
              "      <td>Надання первинної медичної допомоги</td>\n",
              "    </tr>\n",
              "    <tr>\n",
              "      <th>2</th>\n",
              "      <td>ФОП</td>\n",
              "      <td>1</td>\n",
              "      <td>2022</td>\n",
              "      <td>1</td>\n",
              "      <td>73453.57</td>\n",
              "      <td>73453.57</td>\n",
              "      <td>0000-00E6-M000</td>\n",
              "      <td>2022-01-25</td>\n",
              "      <td>ФОП ГЕРАСІЙ ВОЛОДИМИР ДМИТРОВИЧ</td>\n",
              "      <td>2257504615F22A1A</td>\n",
              "      <td>2</td>\n",
              "      <td>2240</td>\n",
              "      <td>Надання первинної медичної допомоги</td>\n",
              "    </tr>\n",
              "    <tr>\n",
              "      <th>3</th>\n",
              "      <td>38960413</td>\n",
              "      <td>1</td>\n",
              "      <td>2022</td>\n",
              "      <td>1</td>\n",
              "      <td>3484994.03</td>\n",
              "      <td>3484994.03</td>\n",
              "      <td>0000-009P-M000</td>\n",
              "      <td>2022-01-25</td>\n",
              "      <td>КОМУНАЛЬНЕ НЕКОМЕРЦІЙНЕ ПІДПРИЄМСТВО \"ЦЕНТР ПЕ...</td>\n",
              "      <td>0038960413F22A1A</td>\n",
              "      <td>2</td>\n",
              "      <td>2240</td>\n",
              "      <td>Надання первинної медичної допомоги</td>\n",
              "    </tr>\n",
              "    <tr>\n",
              "      <th>4</th>\n",
              "      <td>38960413</td>\n",
              "      <td>2</td>\n",
              "      <td>2022</td>\n",
              "      <td>1</td>\n",
              "      <td>3547373.99</td>\n",
              "      <td>3547373.99</td>\n",
              "      <td>0000-009P-M000</td>\n",
              "      <td>2022-02-07</td>\n",
              "      <td>КОМУНАЛЬНЕ НЕКОМЕРЦІЙНЕ ПІДПРИЄМСТВО \"ЦЕНТР ПЕ...</td>\n",
              "      <td>0038960413F22B1A</td>\n",
              "      <td>2</td>\n",
              "      <td>2240</td>\n",
              "      <td>Надання первинної медичної допомоги</td>\n",
              "    </tr>\n",
              "  </tbody>\n",
              "</table>\n",
              "</div>\n",
              "      <button class=\"colab-df-convert\" onclick=\"convertToInteractive('df-e69c6d0f-f2ce-4d91-8dea-b92602e20185')\"\n",
              "              title=\"Convert this dataframe to an interactive table.\"\n",
              "              style=\"display:none;\">\n",
              "        \n",
              "  <svg xmlns=\"http://www.w3.org/2000/svg\" height=\"24px\"viewBox=\"0 0 24 24\"\n",
              "       width=\"24px\">\n",
              "    <path d=\"M0 0h24v24H0V0z\" fill=\"none\"/>\n",
              "    <path d=\"M18.56 5.44l.94 2.06.94-2.06 2.06-.94-2.06-.94-.94-2.06-.94 2.06-2.06.94zm-11 1L8.5 8.5l.94-2.06 2.06-.94-2.06-.94L8.5 2.5l-.94 2.06-2.06.94zm10 10l.94 2.06.94-2.06 2.06-.94-2.06-.94-.94-2.06-.94 2.06-2.06.94z\"/><path d=\"M17.41 7.96l-1.37-1.37c-.4-.4-.92-.59-1.43-.59-.52 0-1.04.2-1.43.59L10.3 9.45l-7.72 7.72c-.78.78-.78 2.05 0 2.83L4 21.41c.39.39.9.59 1.41.59.51 0 1.02-.2 1.41-.59l7.78-7.78 2.81-2.81c.8-.78.8-2.07 0-2.86zM5.41 20L4 18.59l7.72-7.72 1.47 1.35L5.41 20z\"/>\n",
              "  </svg>\n",
              "      </button>\n",
              "      \n",
              "  <style>\n",
              "    .colab-df-container {\n",
              "      display:flex;\n",
              "      flex-wrap:wrap;\n",
              "      gap: 12px;\n",
              "    }\n",
              "\n",
              "    .colab-df-convert {\n",
              "      background-color: #E8F0FE;\n",
              "      border: none;\n",
              "      border-radius: 50%;\n",
              "      cursor: pointer;\n",
              "      display: none;\n",
              "      fill: #1967D2;\n",
              "      height: 32px;\n",
              "      padding: 0 0 0 0;\n",
              "      width: 32px;\n",
              "    }\n",
              "\n",
              "    .colab-df-convert:hover {\n",
              "      background-color: #E2EBFA;\n",
              "      box-shadow: 0px 1px 2px rgba(60, 64, 67, 0.3), 0px 1px 3px 1px rgba(60, 64, 67, 0.15);\n",
              "      fill: #174EA6;\n",
              "    }\n",
              "\n",
              "    [theme=dark] .colab-df-convert {\n",
              "      background-color: #3B4455;\n",
              "      fill: #D2E3FC;\n",
              "    }\n",
              "\n",
              "    [theme=dark] .colab-df-convert:hover {\n",
              "      background-color: #434B5C;\n",
              "      box-shadow: 0px 1px 3px 1px rgba(0, 0, 0, 0.15);\n",
              "      filter: drop-shadow(0px 1px 2px rgba(0, 0, 0, 0.3));\n",
              "      fill: #FFFFFF;\n",
              "    }\n",
              "  </style>\n",
              "\n",
              "      <script>\n",
              "        const buttonEl =\n",
              "          document.querySelector('#df-e69c6d0f-f2ce-4d91-8dea-b92602e20185 button.colab-df-convert');\n",
              "        buttonEl.style.display =\n",
              "          google.colab.kernel.accessAllowed ? 'block' : 'none';\n",
              "\n",
              "        async function convertToInteractive(key) {\n",
              "          const element = document.querySelector('#df-e69c6d0f-f2ce-4d91-8dea-b92602e20185');\n",
              "          const dataTable =\n",
              "            await google.colab.kernel.invokeFunction('convertToInteractive',\n",
              "                                                     [key], {});\n",
              "          if (!dataTable) return;\n",
              "\n",
              "          const docLinkHtml = 'Like what you see? Visit the ' +\n",
              "            '<a target=\"_blank\" href=https://colab.research.google.com/notebooks/data_table.ipynb>data table notebook</a>'\n",
              "            + ' to learn more about interactive tables.';\n",
              "          element.innerHTML = '';\n",
              "          dataTable['output_type'] = 'display_data';\n",
              "          await google.colab.output.renderOutput(dataTable, element);\n",
              "          const docLink = document.createElement('div');\n",
              "          docLink.innerHTML = docLinkHtml;\n",
              "          element.appendChild(docLink);\n",
              "        }\n",
              "      </script>\n",
              "    </div>\n",
              "  </div>\n",
              "  "
            ]
          },
          "metadata": {},
          "execution_count": 33
        }
      ]
    },
    {
      "cell_type": "markdown",
      "source": [
        "## Виконати сумування декількох стовбців для додавання підсумкового стовбця"
      ],
      "metadata": {
        "id": "nTWsHrjelRfD"
      }
    },
    {
      "cell_type": "markdown",
      "source": [
        "В нашому випадку вже маємо певний підсумковий стовпчик, тому більш доречно виконати віднімання:"
      ],
      "metadata": {
        "id": "eLGZvIXXlXfd"
      }
    },
    {
      "cell_type": "code",
      "source": [
        "df['pay_other'] = df['pay_all'] - df['pay_package']"
      ],
      "metadata": {
        "id": "jFrjmCiCk-rG"
      },
      "execution_count": null,
      "outputs": []
    },
    {
      "cell_type": "code",
      "source": [
        "with_other = df[(df['pay_other'] > 0.0)]"
      ],
      "metadata": {
        "id": "oLEuc0xTlI10"
      },
      "execution_count": null,
      "outputs": []
    },
    {
      "cell_type": "code",
      "source": [
        "with_other.head()"
      ],
      "metadata": {
        "colab": {
          "base_uri": "https://localhost:8080/",
          "height": 531
        },
        "id": "ljRByS7KlLHY",
        "outputId": "ec83401d-2602-4389-bf23-0a068b58baf3"
      },
      "execution_count": null,
      "outputs": [
        {
          "output_type": "execute_result",
          "data": {
            "text/plain": [
              "     legal_entity_edrpou  period_month  period_year  package_id  pay_package  \\\n",
              "4180            00184945             2         2022           4   3605936.51   \n",
              "4181            00184945             2         2022           9    292493.40   \n",
              "4182            00184945             2         2022          26    541000.00   \n",
              "4183            00184945             2         2022          31    482960.06   \n",
              "4184            00184945             2         2022          47    185608.35   \n",
              "\n",
              "          pay_all contract_number    pay_date  \\\n",
              "4180  12748619.87  0026-E122-P000  2022-02-11   \n",
              "4181  12748619.87  0026-E122-P000  2022-02-11   \n",
              "4182  12748619.87  0026-E122-P000  2022-02-11   \n",
              "4183  12748619.87  0026-E122-P000  2022-02-11   \n",
              "4184  12748619.87  0026-E122-P000  2022-02-11   \n",
              "\n",
              "                                      legal_entity_name        doc_parent  \\\n",
              "4180  КОМУНАЛЬНЕ НЕКОМЕРЦІЙНЕ ПІДПРИЄМСТВО \"КИЇВСЬКА...  0000184945S22B1A   \n",
              "4181  КОМУНАЛЬНЕ НЕКОМЕРЦІЙНЕ ПІДПРИЄМСТВО \"КИЇВСЬКА...  0000184945S22B1A   \n",
              "4182  КОМУНАЛЬНЕ НЕКОМЕРЦІЙНЕ ПІДПРИЄМСТВО \"КИЇВСЬКА...  0000184945S22B1A   \n",
              "4183  КОМУНАЛЬНЕ НЕКОМЕРЦІЙНЕ ПІДПРИЄМСТВО \"КИЇВСЬКА...  0000184945S22B1A   \n",
              "4184  КОМУНАЛЬНЕ НЕКОМЕРЦІЙНЕ ПІДПРИЄМСТВО \"КИЇВСЬКА...  0000184945S22B1A   \n",
              "\n",
              "      pay_type  kekp                                           referral  \\\n",
              "4180         2  2240  Надання вторинної,третинної,паліат.мед.доп.,ме...   \n",
              "4181         2  2240  Надання вторинної,третинної,паліат.мед.доп.,ме...   \n",
              "4182         2  2240  Надання вторинної,третинної,паліат.мед.доп.,ме...   \n",
              "4183         2  2240  Надання вторинної,третинної,паліат.мед.доп.,ме...   \n",
              "4184         2  2240  Надання вторинної,третинної,паліат.мед.доп.,ме...   \n",
              "\n",
              "        pay_other  \n",
              "4180   9142683.36  \n",
              "4181  12456126.47  \n",
              "4182  12207619.87  \n",
              "4183  12265659.81  \n",
              "4184  12563011.52  "
            ],
            "text/html": [
              "\n",
              "  <div id=\"df-d1230340-94a2-41fe-bbe7-b9661a473623\">\n",
              "    <div class=\"colab-df-container\">\n",
              "      <div>\n",
              "<style scoped>\n",
              "    .dataframe tbody tr th:only-of-type {\n",
              "        vertical-align: middle;\n",
              "    }\n",
              "\n",
              "    .dataframe tbody tr th {\n",
              "        vertical-align: top;\n",
              "    }\n",
              "\n",
              "    .dataframe thead th {\n",
              "        text-align: right;\n",
              "    }\n",
              "</style>\n",
              "<table border=\"1\" class=\"dataframe\">\n",
              "  <thead>\n",
              "    <tr style=\"text-align: right;\">\n",
              "      <th></th>\n",
              "      <th>legal_entity_edrpou</th>\n",
              "      <th>period_month</th>\n",
              "      <th>period_year</th>\n",
              "      <th>package_id</th>\n",
              "      <th>pay_package</th>\n",
              "      <th>pay_all</th>\n",
              "      <th>contract_number</th>\n",
              "      <th>pay_date</th>\n",
              "      <th>legal_entity_name</th>\n",
              "      <th>doc_parent</th>\n",
              "      <th>pay_type</th>\n",
              "      <th>kekp</th>\n",
              "      <th>referral</th>\n",
              "      <th>pay_other</th>\n",
              "    </tr>\n",
              "  </thead>\n",
              "  <tbody>\n",
              "    <tr>\n",
              "      <th>4180</th>\n",
              "      <td>00184945</td>\n",
              "      <td>2</td>\n",
              "      <td>2022</td>\n",
              "      <td>4</td>\n",
              "      <td>3605936.51</td>\n",
              "      <td>12748619.87</td>\n",
              "      <td>0026-E122-P000</td>\n",
              "      <td>2022-02-11</td>\n",
              "      <td>КОМУНАЛЬНЕ НЕКОМЕРЦІЙНЕ ПІДПРИЄМСТВО \"КИЇВСЬКА...</td>\n",
              "      <td>0000184945S22B1A</td>\n",
              "      <td>2</td>\n",
              "      <td>2240</td>\n",
              "      <td>Надання вторинної,третинної,паліат.мед.доп.,ме...</td>\n",
              "      <td>9142683.36</td>\n",
              "    </tr>\n",
              "    <tr>\n",
              "      <th>4181</th>\n",
              "      <td>00184945</td>\n",
              "      <td>2</td>\n",
              "      <td>2022</td>\n",
              "      <td>9</td>\n",
              "      <td>292493.40</td>\n",
              "      <td>12748619.87</td>\n",
              "      <td>0026-E122-P000</td>\n",
              "      <td>2022-02-11</td>\n",
              "      <td>КОМУНАЛЬНЕ НЕКОМЕРЦІЙНЕ ПІДПРИЄМСТВО \"КИЇВСЬКА...</td>\n",
              "      <td>0000184945S22B1A</td>\n",
              "      <td>2</td>\n",
              "      <td>2240</td>\n",
              "      <td>Надання вторинної,третинної,паліат.мед.доп.,ме...</td>\n",
              "      <td>12456126.47</td>\n",
              "    </tr>\n",
              "    <tr>\n",
              "      <th>4182</th>\n",
              "      <td>00184945</td>\n",
              "      <td>2</td>\n",
              "      <td>2022</td>\n",
              "      <td>26</td>\n",
              "      <td>541000.00</td>\n",
              "      <td>12748619.87</td>\n",
              "      <td>0026-E122-P000</td>\n",
              "      <td>2022-02-11</td>\n",
              "      <td>КОМУНАЛЬНЕ НЕКОМЕРЦІЙНЕ ПІДПРИЄМСТВО \"КИЇВСЬКА...</td>\n",
              "      <td>0000184945S22B1A</td>\n",
              "      <td>2</td>\n",
              "      <td>2240</td>\n",
              "      <td>Надання вторинної,третинної,паліат.мед.доп.,ме...</td>\n",
              "      <td>12207619.87</td>\n",
              "    </tr>\n",
              "    <tr>\n",
              "      <th>4183</th>\n",
              "      <td>00184945</td>\n",
              "      <td>2</td>\n",
              "      <td>2022</td>\n",
              "      <td>31</td>\n",
              "      <td>482960.06</td>\n",
              "      <td>12748619.87</td>\n",
              "      <td>0026-E122-P000</td>\n",
              "      <td>2022-02-11</td>\n",
              "      <td>КОМУНАЛЬНЕ НЕКОМЕРЦІЙНЕ ПІДПРИЄМСТВО \"КИЇВСЬКА...</td>\n",
              "      <td>0000184945S22B1A</td>\n",
              "      <td>2</td>\n",
              "      <td>2240</td>\n",
              "      <td>Надання вторинної,третинної,паліат.мед.доп.,ме...</td>\n",
              "      <td>12265659.81</td>\n",
              "    </tr>\n",
              "    <tr>\n",
              "      <th>4184</th>\n",
              "      <td>00184945</td>\n",
              "      <td>2</td>\n",
              "      <td>2022</td>\n",
              "      <td>47</td>\n",
              "      <td>185608.35</td>\n",
              "      <td>12748619.87</td>\n",
              "      <td>0026-E122-P000</td>\n",
              "      <td>2022-02-11</td>\n",
              "      <td>КОМУНАЛЬНЕ НЕКОМЕРЦІЙНЕ ПІДПРИЄМСТВО \"КИЇВСЬКА...</td>\n",
              "      <td>0000184945S22B1A</td>\n",
              "      <td>2</td>\n",
              "      <td>2240</td>\n",
              "      <td>Надання вторинної,третинної,паліат.мед.доп.,ме...</td>\n",
              "      <td>12563011.52</td>\n",
              "    </tr>\n",
              "  </tbody>\n",
              "</table>\n",
              "</div>\n",
              "      <button class=\"colab-df-convert\" onclick=\"convertToInteractive('df-d1230340-94a2-41fe-bbe7-b9661a473623')\"\n",
              "              title=\"Convert this dataframe to an interactive table.\"\n",
              "              style=\"display:none;\">\n",
              "        \n",
              "  <svg xmlns=\"http://www.w3.org/2000/svg\" height=\"24px\"viewBox=\"0 0 24 24\"\n",
              "       width=\"24px\">\n",
              "    <path d=\"M0 0h24v24H0V0z\" fill=\"none\"/>\n",
              "    <path d=\"M18.56 5.44l.94 2.06.94-2.06 2.06-.94-2.06-.94-.94-2.06-.94 2.06-2.06.94zm-11 1L8.5 8.5l.94-2.06 2.06-.94-2.06-.94L8.5 2.5l-.94 2.06-2.06.94zm10 10l.94 2.06.94-2.06 2.06-.94-2.06-.94-.94-2.06-.94 2.06-2.06.94z\"/><path d=\"M17.41 7.96l-1.37-1.37c-.4-.4-.92-.59-1.43-.59-.52 0-1.04.2-1.43.59L10.3 9.45l-7.72 7.72c-.78.78-.78 2.05 0 2.83L4 21.41c.39.39.9.59 1.41.59.51 0 1.02-.2 1.41-.59l7.78-7.78 2.81-2.81c.8-.78.8-2.07 0-2.86zM5.41 20L4 18.59l7.72-7.72 1.47 1.35L5.41 20z\"/>\n",
              "  </svg>\n",
              "      </button>\n",
              "      \n",
              "  <style>\n",
              "    .colab-df-container {\n",
              "      display:flex;\n",
              "      flex-wrap:wrap;\n",
              "      gap: 12px;\n",
              "    }\n",
              "\n",
              "    .colab-df-convert {\n",
              "      background-color: #E8F0FE;\n",
              "      border: none;\n",
              "      border-radius: 50%;\n",
              "      cursor: pointer;\n",
              "      display: none;\n",
              "      fill: #1967D2;\n",
              "      height: 32px;\n",
              "      padding: 0 0 0 0;\n",
              "      width: 32px;\n",
              "    }\n",
              "\n",
              "    .colab-df-convert:hover {\n",
              "      background-color: #E2EBFA;\n",
              "      box-shadow: 0px 1px 2px rgba(60, 64, 67, 0.3), 0px 1px 3px 1px rgba(60, 64, 67, 0.15);\n",
              "      fill: #174EA6;\n",
              "    }\n",
              "\n",
              "    [theme=dark] .colab-df-convert {\n",
              "      background-color: #3B4455;\n",
              "      fill: #D2E3FC;\n",
              "    }\n",
              "\n",
              "    [theme=dark] .colab-df-convert:hover {\n",
              "      background-color: #434B5C;\n",
              "      box-shadow: 0px 1px 3px 1px rgba(0, 0, 0, 0.15);\n",
              "      filter: drop-shadow(0px 1px 2px rgba(0, 0, 0, 0.3));\n",
              "      fill: #FFFFFF;\n",
              "    }\n",
              "  </style>\n",
              "\n",
              "      <script>\n",
              "        const buttonEl =\n",
              "          document.querySelector('#df-d1230340-94a2-41fe-bbe7-b9661a473623 button.colab-df-convert');\n",
              "        buttonEl.style.display =\n",
              "          google.colab.kernel.accessAllowed ? 'block' : 'none';\n",
              "\n",
              "        async function convertToInteractive(key) {\n",
              "          const element = document.querySelector('#df-d1230340-94a2-41fe-bbe7-b9661a473623');\n",
              "          const dataTable =\n",
              "            await google.colab.kernel.invokeFunction('convertToInteractive',\n",
              "                                                     [key], {});\n",
              "          if (!dataTable) return;\n",
              "\n",
              "          const docLinkHtml = 'Like what you see? Visit the ' +\n",
              "            '<a target=\"_blank\" href=https://colab.research.google.com/notebooks/data_table.ipynb>data table notebook</a>'\n",
              "            + ' to learn more about interactive tables.';\n",
              "          element.innerHTML = '';\n",
              "          dataTable['output_type'] = 'display_data';\n",
              "          await google.colab.output.renderOutput(dataTable, element);\n",
              "          const docLink = document.createElement('div');\n",
              "          docLink.innerHTML = docLinkHtml;\n",
              "          element.appendChild(docLink);\n",
              "        }\n",
              "      </script>\n",
              "    </div>\n",
              "  </div>\n",
              "  "
            ]
          },
          "metadata": {},
          "execution_count": 38
        }
      ]
    },
    {
      "cell_type": "markdown",
      "source": [
        "## За обраними даними зробити проміжні висновки по декількох категоріям.\n"
      ],
      "metadata": {
        "id": "yJFXt2RWmf8D"
      }
    },
    {
      "cell_type": "markdown",
      "source": [
        "Згідно з [описом атрибутів наборів даних](https://data.gov.ua/dataset/25a46db9-2f15-4302-9b59-9bd761c80f46/resource/faac1e9d-185d-4632-a48b-3bd7dfb53056):\n",
        "*  `pay_all` - Оплата по договору за вказаний період, грн\n",
        "* `pay_package` - Сума за пакетом послуг, що оплачена за вказаний період, грн"
      ],
      "metadata": {
        "id": "hZxuFLlLpAKk"
      }
    },
    {
      "cell_type": "code",
      "source": [
        "with_other.shape[0]"
      ],
      "metadata": {
        "colab": {
          "base_uri": "https://localhost:8080/"
        },
        "id": "mGgtSTZnl-H6",
        "outputId": "726d3e37-253b-4f4b-9d45-a8693a0e4ee7"
      },
      "execution_count": null,
      "outputs": [
        {
          "output_type": "execute_result",
          "data": {
            "text/plain": [
              "12196"
            ]
          },
          "metadata": {},
          "execution_count": 40
        }
      ]
    },
    {
      "cell_type": "code",
      "source": [
        "df[(df['pay_other'] == 0)].shape[0]"
      ],
      "metadata": {
        "colab": {
          "base_uri": "https://localhost:8080/"
        },
        "id": "j2qEzzO0mA5S",
        "outputId": "f3aba9c8-b227-4398-8413-f8eff4183588"
      },
      "execution_count": null,
      "outputs": [
        {
          "output_type": "execute_result",
          "data": {
            "text/plain": [
              "4860"
            ]
          },
          "metadata": {},
          "execution_count": 41
        }
      ]
    },
    {
      "cell_type": "markdown",
      "source": [
        "Бачимо, що більшість платежів від НСЗУ були не лише за якимось пакетом послуг."
      ],
      "metadata": {
        "id": "dTQsQTymn7Ev"
      }
    },
    {
      "cell_type": "code",
      "source": [
        "df['pay_all'].sum()"
      ],
      "metadata": {
        "colab": {
          "base_uri": "https://localhost:8080/"
        },
        "id": "ZVQC787_mXwu",
        "outputId": "74da9730-c6b3-4469-e92b-7d76adda98c8"
      },
      "execution_count": null,
      "outputs": [
        {
          "output_type": "execute_result",
          "data": {
            "text/plain": [
              "76782879180.12"
            ]
          },
          "metadata": {},
          "execution_count": 42
        }
      ]
    },
    {
      "cell_type": "code",
      "source": [
        "df['pay_other'].sum()"
      ],
      "metadata": {
        "colab": {
          "base_uri": "https://localhost:8080/"
        },
        "id": "jaRSjTANoMW4",
        "outputId": "ae01634f-21ab-461b-d93c-f127064cef4c"
      },
      "execution_count": null,
      "outputs": [
        {
          "output_type": "execute_result",
          "data": {
            "text/plain": [
              "60711226779.55999"
            ]
          },
          "metadata": {},
          "execution_count": 43
        }
      ]
    },
    {
      "cell_type": "code",
      "source": [
        "df['pay_package'].sum()"
      ],
      "metadata": {
        "colab": {
          "base_uri": "https://localhost:8080/"
        },
        "id": "Qxvn9atooNyJ",
        "outputId": "06927dce-31af-4352-bebb-05c021074e5b"
      },
      "execution_count": null,
      "outputs": [
        {
          "output_type": "execute_result",
          "data": {
            "text/plain": [
              "16071652400.560001"
            ]
          },
          "metadata": {},
          "execution_count": 44
        }
      ]
    },
    {
      "cell_type": "markdown",
      "source": [
        "Платежі за пакетами послуг становлять меншу частину загальних платежів.\n",
        "**Проте в датасеті бачимо по декілька платежів для одних і тих самих надавачів медичних послуг, отже виконаємо групування.**"
      ],
      "metadata": {
        "id": "qsxoIoXCx1iy"
      }
    },
    {
      "cell_type": "code",
      "source": [
        "grouped = df.groupby(['legal_entity_edrpou', 'legal_entity_name'])"
      ],
      "metadata": {
        "id": "I05_I_tOoTgQ"
      },
      "execution_count": null,
      "outputs": []
    },
    {
      "cell_type": "code",
      "source": [
        "other_payments_for_entity = grouped['pay_other'].sum()"
      ],
      "metadata": {
        "id": "Eyl1j16vruLN"
      },
      "execution_count": null,
      "outputs": []
    },
    {
      "cell_type": "code",
      "source": [
        "other_payments_for_entity"
      ],
      "metadata": {
        "colab": {
          "base_uri": "https://localhost:8080/"
        },
        "id": "C6FvkbEhw-jk",
        "outputId": "8d0080ee-bf05-42d0-9d4e-4586cb83db9c"
      },
      "execution_count": null,
      "outputs": [
        {
          "output_type": "execute_result",
          "data": {
            "text/plain": [
              "legal_entity_edrpou  legal_entity_name                                                                                                                                                                         \n",
              "00184945             КОМУНАЛЬНЕ НЕКОМЕРЦІЙНЕ ПІДПРИЄМСТВО \"КИЇВСЬКА МІСЬКА КЛІНІЧНА ЛІКАРНЯ ШВИДКОЇ МЕДИЧНОЇ ДОПОМОГИ\" ВИКОНАВЧОГО ОРГАНУ КИЇВСЬКОЇ МІСЬКОЇ РАДИ (КИЇВСЬКОЇ МІСЬКОЇ ДЕРЖАВНОЇ АДМІНІСТРАЦІЇ)       1.274862e+08\n",
              "00185011             КОМУНАЛЬНЕ НЕКОМЕРЦІЙНЕ ПІДПРИЄМСТВО \"ДИТЯЧА КЛІНІЧНА ЛІКАРНЯ № 5 СВЯТОШИНСЬКОГО РАЙОНУ МІСТА КИЄВА\" ВИКОНАВЧОГО ОРГАНУ КИЇВСЬКОЇ МІСЬКОЇ РАДИ (КИЇВСЬКОЇ МІСЬКОЇ ДЕРЖАВНОЇ АДМІНІСТРАЦІЇ)    1.104498e+06\n",
              "00185028             КОМУНАЛЬНЕ НЕКОМЕРЦІЙНЕ ПІДПРИЄМСТВО \"КИЇВСЬКА МІСЬКА КЛІНІЧНА ЛІКАРНЯ №5\" ВИКОНАВЧОГО ОРГАНУ КИЇВСЬКОЇ МІСЬКОЇ РАДИ (КИЇВСЬКОЇ МІСЬКОЇ ДЕРЖАВНОЇ АДМІНІСТРАЦІЇ)                              1.072854e+08\n",
              "00214534             ПРИВАТНЕ АКЦІОНЕРНЕ ТОВАРИСТВО \"ЗАВОД ПІВДЕНКАБЕЛЬ\"                                                                                                                                           0.000000e+00\n",
              "00440221             КОМУНАЛЬНЕ НЕКОМЕРЦІЙНЕ ПІДПРИЄМСТВО \"МІСЬКА ЛІКАРНЯ №8\" ЗАПОРІЗЬКОЇ МІСЬКОЇ РАДИ                                                                                                             8.100532e+07\n",
              "                                                                                                                                                                                                                       ...     \n",
              "ФОП                  ФОП ЯКОВЛЄВА АЗНІВ НОРАЙРІВНА                                                                                                                                                                 0.000000e+00\n",
              "                     ФОП ЯРЕМА АНТОН МИХАЙЛОВИЧ                                                                                                                                                                    0.000000e+00\n",
              "                     ФОП ЯРЕМА ЛАРИСА МИКОЛАЇВНА                                                                                                                                                                   0.000000e+00\n",
              "                     ФОП ЯЦЕНКО ОКСАНА ВІКТОРІВНА                                                                                                                                                                  0.000000e+00\n",
              "                     ФОП ЯЩИШИН ОКСАНА МИХАЙЛІВНА                                                                                                                                                                  0.000000e+00\n",
              "Name: pay_other, Length: 3221, dtype: float64"
            ]
          },
          "metadata": {},
          "execution_count": 71
        }
      ]
    },
    {
      "cell_type": "code",
      "source": [
        "len(other_payments_for_entity[other_payments_for_entity > 0])"
      ],
      "metadata": {
        "id": "tHimGzq2sY7g",
        "colab": {
          "base_uri": "https://localhost:8080/"
        },
        "outputId": "c19d7b8c-9b4c-4d4e-c2cb-d78faf426e55"
      },
      "execution_count": null,
      "outputs": [
        {
          "output_type": "execute_result",
          "data": {
            "text/plain": [
              "1158"
            ]
          },
          "metadata": {},
          "execution_count": 80
        }
      ]
    },
    {
      "cell_type": "code",
      "source": [
        "len(other_payments_for_entity[other_payments_for_entity == 0])"
      ],
      "metadata": {
        "colab": {
          "base_uri": "https://localhost:8080/"
        },
        "id": "MaVOLSeuyIPf",
        "outputId": "7ac0034b-d893-4079-e4c7-befd5da72511"
      },
      "execution_count": null,
      "outputs": [
        {
          "output_type": "execute_result",
          "data": {
            "text/plain": [
              "2063"
            ]
          },
          "metadata": {},
          "execution_count": 81
        }
      ]
    },
    {
      "cell_type": "markdown",
      "source": [
        "Хоча ці \"інші\" платежі становлять більшість за сумою в гривнях та кількістю платежів, більшість юридичних/фізичних осіб їх не отримували."
      ],
      "metadata": {
        "id": "PBnh5UMqx6ip"
      }
    },
    {
      "cell_type": "code",
      "source": [
        "groupedp = df[df['legal_entity_edrpou'] == 'ФОП'].groupby(['legal_entity_name'])"
      ],
      "metadata": {
        "id": "xghS4_GKypGL"
      },
      "execution_count": null,
      "outputs": []
    },
    {
      "cell_type": "code",
      "source": [
        "other_payments_for_p = groupedp['pay_other'].sum()"
      ],
      "metadata": {
        "id": "-QyrYukyzWQZ"
      },
      "execution_count": null,
      "outputs": []
    },
    {
      "cell_type": "code",
      "source": [
        "other_payments_for_p[other_payments_for_p > 0]"
      ],
      "metadata": {
        "colab": {
          "base_uri": "https://localhost:8080/"
        },
        "id": "vnP36hRzzZoZ",
        "outputId": "196ad46b-e65a-4410-f04d-ba62436186f4"
      },
      "execution_count": null,
      "outputs": [
        {
          "output_type": "execute_result",
          "data": {
            "text/plain": [
              "legal_entity_name\n",
              "ФОП ГОНЧАРУК ВЛАДЛЕН МИКОЛАЙОВИЧ    6181320.0\n",
              "Name: pay_other, dtype: float64"
            ]
          },
          "metadata": {},
          "execution_count": 89
        }
      ]
    },
    {
      "cell_type": "markdown",
      "source": [
        "Лише один ФОП отримав платіж від НСЗУ не за пакетом послуг."
      ],
      "metadata": {
        "id": "wSb-72bN0FFm"
      }
    },
    {
      "cell_type": "code",
      "source": [
        "groupedid = df.groupby('package_id')"
      ],
      "metadata": {
        "id": "Ts7rJTFt0gzi"
      },
      "execution_count": null,
      "outputs": []
    },
    {
      "cell_type": "code",
      "source": [
        "groupedid[['pay_all', 'pay_other']].sum()"
      ],
      "metadata": {
        "colab": {
          "base_uri": "https://localhost:8080/",
          "height": 477
        },
        "id": "okftOaNR0kJ-",
        "outputId": "896b55a7-d6c9-45cf-e38a-1e92fffec959"
      },
      "execution_count": null,
      "outputs": [
        {
          "output_type": "execute_result",
          "data": {
            "text/plain": [
              "                 pay_all     pay_other\n",
              "package_id                            \n",
              "1           4.057835e+09  0.000000e+00\n",
              "2           1.893513e+09  0.000000e+00\n",
              "3           7.558065e+09  5.805010e+09\n",
              "4           8.262511e+09  6.413666e+09\n",
              "9           9.863932e+09  7.730835e+09\n",
              "17          1.892325e+09  1.623022e+09\n",
              "19          1.075788e+09  5.345688e+08\n",
              "23          5.897054e+09  5.731128e+09\n",
              "24          5.128449e+09  4.828958e+09\n",
              "25          1.402868e+09  1.353280e+09\n",
              "26          4.179885e+09  3.863603e+09\n",
              "27          4.290964e+09  4.123560e+09\n",
              "31          6.032838e+09  4.136122e+09\n",
              "34          4.360938e+09  4.301192e+09\n",
              "38          1.329651e+09  1.111428e+09\n",
              "42          3.187236e+09  2.844301e+09\n",
              "47          6.369026e+09  6.310553e+09"
            ],
            "text/html": [
              "\n",
              "  <div id=\"df-6740cd2e-1dd5-40a7-9fa9-bc3779328bb1\">\n",
              "    <div class=\"colab-df-container\">\n",
              "      <div>\n",
              "<style scoped>\n",
              "    .dataframe tbody tr th:only-of-type {\n",
              "        vertical-align: middle;\n",
              "    }\n",
              "\n",
              "    .dataframe tbody tr th {\n",
              "        vertical-align: top;\n",
              "    }\n",
              "\n",
              "    .dataframe thead th {\n",
              "        text-align: right;\n",
              "    }\n",
              "</style>\n",
              "<table border=\"1\" class=\"dataframe\">\n",
              "  <thead>\n",
              "    <tr style=\"text-align: right;\">\n",
              "      <th></th>\n",
              "      <th>pay_all</th>\n",
              "      <th>pay_other</th>\n",
              "    </tr>\n",
              "    <tr>\n",
              "      <th>package_id</th>\n",
              "      <th></th>\n",
              "      <th></th>\n",
              "    </tr>\n",
              "  </thead>\n",
              "  <tbody>\n",
              "    <tr>\n",
              "      <th>1</th>\n",
              "      <td>4.057835e+09</td>\n",
              "      <td>0.000000e+00</td>\n",
              "    </tr>\n",
              "    <tr>\n",
              "      <th>2</th>\n",
              "      <td>1.893513e+09</td>\n",
              "      <td>0.000000e+00</td>\n",
              "    </tr>\n",
              "    <tr>\n",
              "      <th>3</th>\n",
              "      <td>7.558065e+09</td>\n",
              "      <td>5.805010e+09</td>\n",
              "    </tr>\n",
              "    <tr>\n",
              "      <th>4</th>\n",
              "      <td>8.262511e+09</td>\n",
              "      <td>6.413666e+09</td>\n",
              "    </tr>\n",
              "    <tr>\n",
              "      <th>9</th>\n",
              "      <td>9.863932e+09</td>\n",
              "      <td>7.730835e+09</td>\n",
              "    </tr>\n",
              "    <tr>\n",
              "      <th>17</th>\n",
              "      <td>1.892325e+09</td>\n",
              "      <td>1.623022e+09</td>\n",
              "    </tr>\n",
              "    <tr>\n",
              "      <th>19</th>\n",
              "      <td>1.075788e+09</td>\n",
              "      <td>5.345688e+08</td>\n",
              "    </tr>\n",
              "    <tr>\n",
              "      <th>23</th>\n",
              "      <td>5.897054e+09</td>\n",
              "      <td>5.731128e+09</td>\n",
              "    </tr>\n",
              "    <tr>\n",
              "      <th>24</th>\n",
              "      <td>5.128449e+09</td>\n",
              "      <td>4.828958e+09</td>\n",
              "    </tr>\n",
              "    <tr>\n",
              "      <th>25</th>\n",
              "      <td>1.402868e+09</td>\n",
              "      <td>1.353280e+09</td>\n",
              "    </tr>\n",
              "    <tr>\n",
              "      <th>26</th>\n",
              "      <td>4.179885e+09</td>\n",
              "      <td>3.863603e+09</td>\n",
              "    </tr>\n",
              "    <tr>\n",
              "      <th>27</th>\n",
              "      <td>4.290964e+09</td>\n",
              "      <td>4.123560e+09</td>\n",
              "    </tr>\n",
              "    <tr>\n",
              "      <th>31</th>\n",
              "      <td>6.032838e+09</td>\n",
              "      <td>4.136122e+09</td>\n",
              "    </tr>\n",
              "    <tr>\n",
              "      <th>34</th>\n",
              "      <td>4.360938e+09</td>\n",
              "      <td>4.301192e+09</td>\n",
              "    </tr>\n",
              "    <tr>\n",
              "      <th>38</th>\n",
              "      <td>1.329651e+09</td>\n",
              "      <td>1.111428e+09</td>\n",
              "    </tr>\n",
              "    <tr>\n",
              "      <th>42</th>\n",
              "      <td>3.187236e+09</td>\n",
              "      <td>2.844301e+09</td>\n",
              "    </tr>\n",
              "    <tr>\n",
              "      <th>47</th>\n",
              "      <td>6.369026e+09</td>\n",
              "      <td>6.310553e+09</td>\n",
              "    </tr>\n",
              "  </tbody>\n",
              "</table>\n",
              "</div>\n",
              "      <button class=\"colab-df-convert\" onclick=\"convertToInteractive('df-6740cd2e-1dd5-40a7-9fa9-bc3779328bb1')\"\n",
              "              title=\"Convert this dataframe to an interactive table.\"\n",
              "              style=\"display:none;\">\n",
              "        \n",
              "  <svg xmlns=\"http://www.w3.org/2000/svg\" height=\"24px\"viewBox=\"0 0 24 24\"\n",
              "       width=\"24px\">\n",
              "    <path d=\"M0 0h24v24H0V0z\" fill=\"none\"/>\n",
              "    <path d=\"M18.56 5.44l.94 2.06.94-2.06 2.06-.94-2.06-.94-.94-2.06-.94 2.06-2.06.94zm-11 1L8.5 8.5l.94-2.06 2.06-.94-2.06-.94L8.5 2.5l-.94 2.06-2.06.94zm10 10l.94 2.06.94-2.06 2.06-.94-2.06-.94-.94-2.06-.94 2.06-2.06.94z\"/><path d=\"M17.41 7.96l-1.37-1.37c-.4-.4-.92-.59-1.43-.59-.52 0-1.04.2-1.43.59L10.3 9.45l-7.72 7.72c-.78.78-.78 2.05 0 2.83L4 21.41c.39.39.9.59 1.41.59.51 0 1.02-.2 1.41-.59l7.78-7.78 2.81-2.81c.8-.78.8-2.07 0-2.86zM5.41 20L4 18.59l7.72-7.72 1.47 1.35L5.41 20z\"/>\n",
              "  </svg>\n",
              "      </button>\n",
              "      \n",
              "  <style>\n",
              "    .colab-df-container {\n",
              "      display:flex;\n",
              "      flex-wrap:wrap;\n",
              "      gap: 12px;\n",
              "    }\n",
              "\n",
              "    .colab-df-convert {\n",
              "      background-color: #E8F0FE;\n",
              "      border: none;\n",
              "      border-radius: 50%;\n",
              "      cursor: pointer;\n",
              "      display: none;\n",
              "      fill: #1967D2;\n",
              "      height: 32px;\n",
              "      padding: 0 0 0 0;\n",
              "      width: 32px;\n",
              "    }\n",
              "\n",
              "    .colab-df-convert:hover {\n",
              "      background-color: #E2EBFA;\n",
              "      box-shadow: 0px 1px 2px rgba(60, 64, 67, 0.3), 0px 1px 3px 1px rgba(60, 64, 67, 0.15);\n",
              "      fill: #174EA6;\n",
              "    }\n",
              "\n",
              "    [theme=dark] .colab-df-convert {\n",
              "      background-color: #3B4455;\n",
              "      fill: #D2E3FC;\n",
              "    }\n",
              "\n",
              "    [theme=dark] .colab-df-convert:hover {\n",
              "      background-color: #434B5C;\n",
              "      box-shadow: 0px 1px 3px 1px rgba(0, 0, 0, 0.15);\n",
              "      filter: drop-shadow(0px 1px 2px rgba(0, 0, 0, 0.3));\n",
              "      fill: #FFFFFF;\n",
              "    }\n",
              "  </style>\n",
              "\n",
              "      <script>\n",
              "        const buttonEl =\n",
              "          document.querySelector('#df-6740cd2e-1dd5-40a7-9fa9-bc3779328bb1 button.colab-df-convert');\n",
              "        buttonEl.style.display =\n",
              "          google.colab.kernel.accessAllowed ? 'block' : 'none';\n",
              "\n",
              "        async function convertToInteractive(key) {\n",
              "          const element = document.querySelector('#df-6740cd2e-1dd5-40a7-9fa9-bc3779328bb1');\n",
              "          const dataTable =\n",
              "            await google.colab.kernel.invokeFunction('convertToInteractive',\n",
              "                                                     [key], {});\n",
              "          if (!dataTable) return;\n",
              "\n",
              "          const docLinkHtml = 'Like what you see? Visit the ' +\n",
              "            '<a target=\"_blank\" href=https://colab.research.google.com/notebooks/data_table.ipynb>data table notebook</a>'\n",
              "            + ' to learn more about interactive tables.';\n",
              "          element.innerHTML = '';\n",
              "          dataTable['output_type'] = 'display_data';\n",
              "          await google.colab.output.renderOutput(dataTable, element);\n",
              "          const docLink = document.createElement('div');\n",
              "          docLink.innerHTML = docLinkHtml;\n",
              "          element.appendChild(docLink);\n",
              "        }\n",
              "      </script>\n",
              "    </div>\n",
              "  </div>\n",
              "  "
            ]
          },
          "metadata": {},
          "execution_count": 91
        }
      ]
    },
    {
      "cell_type": "code",
      "source": [
        "groupedid[['pay_all', 'pay_other']].sum().idxmax()"
      ],
      "metadata": {
        "colab": {
          "base_uri": "https://localhost:8080/"
        },
        "id": "D9DSoCXa2WWj",
        "outputId": "4743fbe3-fba2-485b-c02b-71774081d1ad"
      },
      "execution_count": null,
      "outputs": [
        {
          "output_type": "execute_result",
          "data": {
            "text/plain": [
              "pay_all      9\n",
              "pay_other    9\n",
              "dtype: int64"
            ]
          },
          "metadata": {},
          "execution_count": 94
        }
      ]
    },
    {
      "cell_type": "markdown",
      "source": [
        "Бачимо, що найбільше фінансування отримують за пакетом ID 9, як і власне пакетними, так і \"іншими\" платежами.\n",
        "\n",
        "На жаль, не зовсім зрозуміло, чому відповідають різні номери пакетів послуг. За [вимогами програми медичних послуг 2022 року](https://contracting.nszu.gov.ua/vimogi-pmg-2022) їх має бути 37, а не 47. Це може свідчити про недостатню прозорість наданих даних."
      ],
      "metadata": {
        "id": "aF2C275K05k5"
      }
    }
  ]
}
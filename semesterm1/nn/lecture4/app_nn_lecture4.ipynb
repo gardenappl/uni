{
  "nbformat": 4,
  "nbformat_minor": 0,
  "metadata": {
    "colab": {
      "provenance": [],
      "collapsed_sections": []
    },
    "kernelspec": {
      "name": "python3",
      "display_name": "Python 3"
    },
    "language_info": {
      "name": "python"
    }
  },
  "cells": [
    {
      "cell_type": "markdown",
      "source": [
        "# Багатошаровий персептрон"
      ],
      "metadata": {
        "id": "2neID-3Ka5JG"
      }
    },
    {
      "cell_type": "code",
      "source": [
        "from keras.utils.vis_utils import plot_model\n",
        "from keras.models import Model\n",
        "from keras.layers import Input\n",
        "from keras.layers import Dense"
      ],
      "metadata": {
        "id": "anC1_3Sqa61k"
      },
      "execution_count": null,
      "outputs": []
    },
    {
      "cell_type": "code",
      "source": [
        "visible = Input(shape=(10,))\n",
        "hidden1 = Dense(10, activation='relu')(visible)\n",
        "hidden2 = Dense(20, activation='relu')(hidden1)\n",
        "hidden3 = Dense(10, activation='relu')(hidden2)\n",
        "output = Dense(1, activation='sigmoid')(hidden3)\n",
        "model = Model(inputs=visible, outputs=output)"
      ],
      "metadata": {
        "id": "Schuju9Ra8vv"
      },
      "execution_count": null,
      "outputs": []
    },
    {
      "cell_type": "code",
      "execution_count": null,
      "metadata": {
        "colab": {
          "base_uri": "https://localhost:8080/"
        },
        "id": "U1HYxg_HZjLM",
        "outputId": "bd7cd56e-6fbc-49d5-d068-063f46d73fba"
      },
      "outputs": [
        {
          "output_type": "stream",
          "name": "stdout",
          "text": [
            "Model: \"model\"\n",
            "_________________________________________________________________\n",
            " Layer (type)                Output Shape              Param #   \n",
            "=================================================================\n",
            " input_1 (InputLayer)        [(None, 10)]              0         \n",
            "                                                                 \n",
            " dense_3 (Dense)             (None, 10)                110       \n",
            "                                                                 \n",
            " dense_4 (Dense)             (None, 20)                220       \n",
            "                                                                 \n",
            " dense_5 (Dense)             (None, 10)                210       \n",
            "                                                                 \n",
            " dense_6 (Dense)             (None, 1)                 11        \n",
            "                                                                 \n",
            "=================================================================\n",
            "Total params: 551\n",
            "Trainable params: 551\n",
            "Non-trainable params: 0\n",
            "_________________________________________________________________\n"
          ]
        }
      ],
      "source": [
        "model.summary()"
      ]
    },
    {
      "cell_type": "code",
      "source": [
        "plot_model(model)"
      ],
      "metadata": {
        "colab": {
          "base_uri": "https://localhost:8080/",
          "height": 466
        },
        "id": "uvItZU2tbdtk",
        "outputId": "19f02181-3dc8-41cc-a0fd-40ac4bbe6f43"
      },
      "execution_count": null,
      "outputs": [
        {
          "output_type": "execute_result",
          "data": {
            "image/png": "[encoded data removed]",
            "text/plain": [
              "<IPython.core.display.Image object>"
            ]
          },
          "metadata": {},
          "execution_count": 44
        }
      ]
    },
    {
      "cell_type": "markdown",
      "source": [
        "## Задача класифікації одягу на датасеті Fashion MNIST."
      ],
      "metadata": {
        "id": "26X4sKvbbqVp"
      }
    },
    {
      "cell_type": "code",
      "source": [
        "import numpy as np\n",
        "import tensorflow as tf\n",
        "import keras\n",
        "import keras.models as M\n",
        "import keras.layers as L\n",
        "import keras.backend as K\n",
        "print(\"Keras\", keras.__version__)"
      ],
      "metadata": {
        "colab": {
          "base_uri": "https://localhost:8080/"
        },
        "id": "Lo02YndgbeA6",
        "outputId": "d7cf78f3-0bc0-4672-f9c0-80f07bf450df"
      },
      "execution_count": null,
      "outputs": [
        {
          "output_type": "stream",
          "name": "stdout",
          "text": [
            "Keras 2.9.0\n"
          ]
        }
      ]
    },
    {
      "cell_type": "code",
      "source": [
        "(x_train, y_train), (x_val, y_val) = tf.keras.datasets.fashion_mnist.load_data()"
      ],
      "metadata": {
        "id": "spc22KBRcJZq"
      },
      "execution_count": null,
      "outputs": []
    },
    {
      "cell_type": "code",
      "source": [
        "y_train_oh = tf.keras.utils.to_categorical(y_train, 10)\n",
        "y_val_oh = tf.keras.utils.to_categorical(y_val, 10)"
      ],
      "metadata": {
        "id": "cBt_MeZWcNY8"
      },
      "execution_count": null,
      "outputs": []
    },
    {
      "cell_type": "code",
      "source": [
        "K.clear_session()\n",
        "model = M.Sequential()\n",
        "model.add(L.Dense(28*28, activation='elu'))\n",
        "model.add(L.Dense(128, activation='elu'))\n",
        "model.add(L.Dense(10, activation='softmax'))"
      ],
      "metadata": {
        "id": "OSozW1qVcwFx"
      },
      "execution_count": null,
      "outputs": []
    },
    {
      "cell_type": "code",
      "source": [
        "model.compile(\n",
        "    loss='categorical_crossentropy', # мінімізуємо перехресну ентропію\n",
        "    optimizer='adam', # adaptive moment estimation\n",
        "    metrics=['accuracy'] # виводимо відсоток правильних відповідей\n",
        ")"
      ],
      "metadata": {
        "id": "-xAprsm0dPPw"
      },
      "execution_count": null,
      "outputs": []
    },
    {
      "cell_type": "markdown",
      "source": [
        "Центруємо і нормуємо вхідні дані, так, щоб значення змінювалися\n",
        "від -0.5 до +0.5."
      ],
      "metadata": {
        "id": "8bWLBbQWdWdM"
      }
    },
    {
      "cell_type": "code",
      "source": [
        "x_train_float = x_train.astype(float) / 255 - 0.5\n",
        "x_val_float = x_val.astype(float) / 255 - 0.5"
      ],
      "metadata": {
        "id": "bhldE7ITdPoT"
      },
      "execution_count": null,
      "outputs": []
    },
    {
      "cell_type": "code",
      "source": [
        "results = model.fit(\n",
        "    x_train_float.reshape(-1, 28*28),\n",
        "    y_train_oh,\n",
        "    batch_size=64,\n",
        "    epochs=20,\n",
        "    validation_data=(x_val_float.reshape(-1, 28*28), y_val_oh)\n",
        ")"
      ],
      "metadata": {
        "colab": {
          "base_uri": "https://localhost:8080/"
        },
        "id": "rJWurG-kdXWb",
        "outputId": "bcef458a-0eb9-4d28-8f7f-46829a810fc3"
      },
      "execution_count": null,
      "outputs": [
        {
          "output_type": "stream",
          "name": "stdout",
          "text": [
            "Epoch 1/20\n",
            "938/938 [==============================] - 11s 12ms/step - loss: 0.4874 - accuracy: 0.8227 - val_loss: 0.4367 - val_accuracy: 0.8410\n",
            "Epoch 2/20\n",
            "938/938 [==============================] - 10s 11ms/step - loss: 0.3781 - accuracy: 0.8606 - val_loss: 0.4238 - val_accuracy: 0.8468\n",
            "Epoch 3/20\n",
            "938/938 [==============================] - 10s 11ms/step - loss: 0.3401 - accuracy: 0.8742 - val_loss: 0.4077 - val_accuracy: 0.8610\n",
            "Epoch 4/20\n",
            "938/938 [==============================] - 10s 11ms/step - loss: 0.3148 - accuracy: 0.8828 - val_loss: 0.3658 - val_accuracy: 0.8703\n",
            "Epoch 5/20\n",
            "938/938 [==============================] - 10s 11ms/step - loss: 0.2968 - accuracy: 0.8891 - val_loss: 0.3571 - val_accuracy: 0.8740\n",
            "Epoch 6/20\n",
            "938/938 [==============================] - 10s 11ms/step - loss: 0.2822 - accuracy: 0.8946 - val_loss: 0.3653 - val_accuracy: 0.8678\n",
            "Epoch 7/20\n",
            "938/938 [==============================] - 10s 11ms/step - loss: 0.2652 - accuracy: 0.9001 - val_loss: 0.3543 - val_accuracy: 0.8744\n",
            "Epoch 8/20\n",
            "938/938 [==============================] - 12s 13ms/step - loss: 0.2542 - accuracy: 0.9042 - val_loss: 0.3623 - val_accuracy: 0.8744\n",
            "Epoch 9/20\n",
            "938/938 [==============================] - 10s 11ms/step - loss: 0.2452 - accuracy: 0.9089 - val_loss: 0.3339 - val_accuracy: 0.8850\n",
            "Epoch 10/20\n",
            "938/938 [==============================] - 10s 11ms/step - loss: 0.2308 - accuracy: 0.9121 - val_loss: 0.3461 - val_accuracy: 0.8839\n",
            "Epoch 11/20\n",
            "938/938 [==============================] - 11s 11ms/step - loss: 0.2209 - accuracy: 0.9159 - val_loss: 0.3832 - val_accuracy: 0.8763\n",
            "Epoch 12/20\n",
            "938/938 [==============================] - 10s 11ms/step - loss: 0.2113 - accuracy: 0.9208 - val_loss: 0.3698 - val_accuracy: 0.8871\n",
            "Epoch 13/20\n",
            "938/938 [==============================] - 10s 11ms/step - loss: 0.2011 - accuracy: 0.9231 - val_loss: 0.3793 - val_accuracy: 0.8849\n",
            "Epoch 14/20\n",
            "938/938 [==============================] - 10s 11ms/step - loss: 0.1943 - accuracy: 0.9259 - val_loss: 0.3854 - val_accuracy: 0.8832\n",
            "Epoch 15/20\n",
            "938/938 [==============================] - 10s 11ms/step - loss: 0.1852 - accuracy: 0.9300 - val_loss: 0.4041 - val_accuracy: 0.8794\n",
            "Epoch 16/20\n",
            "938/938 [==============================] - 10s 11ms/step - loss: 0.1781 - accuracy: 0.9324 - val_loss: 0.3503 - val_accuracy: 0.8940\n",
            "Epoch 17/20\n",
            "938/938 [==============================] - 10s 11ms/step - loss: 0.1688 - accuracy: 0.9355 - val_loss: 0.3851 - val_accuracy: 0.8916\n",
            "Epoch 18/20\n",
            "938/938 [==============================] - 10s 11ms/step - loss: 0.1625 - accuracy: 0.9385 - val_loss: 0.3978 - val_accuracy: 0.8833\n",
            "Epoch 19/20\n",
            "938/938 [==============================] - 10s 11ms/step - loss: 0.1572 - accuracy: 0.9399 - val_loss: 0.3851 - val_accuracy: 0.8899\n",
            "Epoch 20/20\n",
            "938/938 [==============================] - 10s 10ms/step - loss: 0.1510 - accuracy: 0.9419 - val_loss: 0.3988 - val_accuracy: 0.8915\n"
          ]
        }
      ]
    },
    {
      "cell_type": "markdown",
      "source": [
        "Збільшивши кількість епох до 20, `val_accuracy` (точність на валідаційних даних) збільшилася незначно в порівнянні з прикладом (89.15% замість 88.57%). Можна було спробувати змінити інші гіперпараметри."
      ],
      "metadata": {
        "id": "6umATjYzkzsx"
      }
    }
  ]
}
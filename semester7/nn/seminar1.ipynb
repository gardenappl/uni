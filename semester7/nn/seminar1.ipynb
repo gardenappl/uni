{
  "nbformat": 4,
  "nbformat_minor": 0,
  "metadata": {
    "colab": {
      "name": "nn-seminar1.ipynb",
      "provenance": []
    },
    "kernelspec": {
      "name": "python3",
      "display_name": "Python 3"
    },
    "language_info": {
      "name": "python"
    }
  },
  "cells": [
    {
      "cell_type": "code",
      "metadata": {
        "id": "Y8fNzFmDooFK"
      },
      "source": [
        "import numpy as np\n",
        "import pandas as pd\n",
        "\n",
        "np.set_printoptions(precision=2)"
      ],
      "execution_count": 2,
      "outputs": []
    },
    {
      "cell_type": "code",
      "metadata": {
        "id": "_A1wBwPhowv_"
      },
      "source": [
        "data = pd.read_csv(\"https://raw.githubusercontent.com/gardenappl/uni/main/semester7/nn/seminar1.csv\")"
      ],
      "execution_count": 3,
      "outputs": []
    },
    {
      "cell_type": "code",
      "metadata": {
        "colab": {
          "base_uri": "https://localhost:8080/",
          "height": 328
        },
        "id": "pXJQXPEspSfd",
        "outputId": "16dc0875-beaa-44aa-b447-3df0f3dffc63"
      },
      "source": [
        "data.head()"
      ],
      "execution_count": 4,
      "outputs": [
        {
          "output_type": "execute_result",
          "data": {
            "text/html": [
              "<div>\n",
              "<style scoped>\n",
              "    .dataframe tbody tr th:only-of-type {\n",
              "        vertical-align: middle;\n",
              "    }\n",
              "\n",
              "    .dataframe tbody tr th {\n",
              "        vertical-align: top;\n",
              "    }\n",
              "\n",
              "    .dataframe thead th {\n",
              "        text-align: right;\n",
              "    }\n",
              "</style>\n",
              "<table border=\"1\" class=\"dataframe\">\n",
              "  <thead>\n",
              "    <tr style=\"text-align: right;\">\n",
              "      <th></th>\n",
              "      <th>age</th>\n",
              "      <th>workclass</th>\n",
              "      <th>fnlwgt</th>\n",
              "      <th>education</th>\n",
              "      <th>education-num</th>\n",
              "      <th>marital-status</th>\n",
              "      <th>occupation</th>\n",
              "      <th>relationship</th>\n",
              "      <th>race</th>\n",
              "      <th>sex</th>\n",
              "      <th>capital-gain</th>\n",
              "      <th>capital-loss</th>\n",
              "      <th>hours-per-week</th>\n",
              "      <th>native-country</th>\n",
              "      <th>salary</th>\n",
              "    </tr>\n",
              "  </thead>\n",
              "  <tbody>\n",
              "    <tr>\n",
              "      <th>0</th>\n",
              "      <td>39</td>\n",
              "      <td>State-gov</td>\n",
              "      <td>77516</td>\n",
              "      <td>Bachelors</td>\n",
              "      <td>13</td>\n",
              "      <td>Never-married</td>\n",
              "      <td>Adm-clerical</td>\n",
              "      <td>Not-in-family</td>\n",
              "      <td>White</td>\n",
              "      <td>Male</td>\n",
              "      <td>2174</td>\n",
              "      <td>0</td>\n",
              "      <td>40</td>\n",
              "      <td>United-States</td>\n",
              "      <td>&lt;=50K</td>\n",
              "    </tr>\n",
              "    <tr>\n",
              "      <th>1</th>\n",
              "      <td>50</td>\n",
              "      <td>Self-emp-not-inc</td>\n",
              "      <td>83311</td>\n",
              "      <td>Bachelors</td>\n",
              "      <td>13</td>\n",
              "      <td>Married-civ-spouse</td>\n",
              "      <td>Exec-managerial</td>\n",
              "      <td>Husband</td>\n",
              "      <td>White</td>\n",
              "      <td>Male</td>\n",
              "      <td>0</td>\n",
              "      <td>0</td>\n",
              "      <td>13</td>\n",
              "      <td>United-States</td>\n",
              "      <td>&lt;=50K</td>\n",
              "    </tr>\n",
              "    <tr>\n",
              "      <th>2</th>\n",
              "      <td>38</td>\n",
              "      <td>Private</td>\n",
              "      <td>215646</td>\n",
              "      <td>HS-grad</td>\n",
              "      <td>9</td>\n",
              "      <td>Divorced</td>\n",
              "      <td>Handlers-cleaners</td>\n",
              "      <td>Not-in-family</td>\n",
              "      <td>White</td>\n",
              "      <td>Male</td>\n",
              "      <td>0</td>\n",
              "      <td>0</td>\n",
              "      <td>40</td>\n",
              "      <td>United-States</td>\n",
              "      <td>&lt;=50K</td>\n",
              "    </tr>\n",
              "    <tr>\n",
              "      <th>3</th>\n",
              "      <td>53</td>\n",
              "      <td>Private</td>\n",
              "      <td>234721</td>\n",
              "      <td>11th</td>\n",
              "      <td>7</td>\n",
              "      <td>Married-civ-spouse</td>\n",
              "      <td>Handlers-cleaners</td>\n",
              "      <td>Husband</td>\n",
              "      <td>Black</td>\n",
              "      <td>Male</td>\n",
              "      <td>0</td>\n",
              "      <td>0</td>\n",
              "      <td>40</td>\n",
              "      <td>United-States</td>\n",
              "      <td>&lt;=50K</td>\n",
              "    </tr>\n",
              "    <tr>\n",
              "      <th>4</th>\n",
              "      <td>28</td>\n",
              "      <td>Private</td>\n",
              "      <td>338409</td>\n",
              "      <td>Bachelors</td>\n",
              "      <td>13</td>\n",
              "      <td>Married-civ-spouse</td>\n",
              "      <td>Prof-specialty</td>\n",
              "      <td>Wife</td>\n",
              "      <td>Black</td>\n",
              "      <td>Female</td>\n",
              "      <td>0</td>\n",
              "      <td>0</td>\n",
              "      <td>40</td>\n",
              "      <td>Cuba</td>\n",
              "      <td>&lt;=50K</td>\n",
              "    </tr>\n",
              "  </tbody>\n",
              "</table>\n",
              "</div>"
            ],
            "text/plain": [
              "   age         workclass  fnlwgt  ... hours-per-week  native-country salary\n",
              "0   39         State-gov   77516  ...             40   United-States  <=50K\n",
              "1   50  Self-emp-not-inc   83311  ...             13   United-States  <=50K\n",
              "2   38           Private  215646  ...             40   United-States  <=50K\n",
              "3   53           Private  234721  ...             40   United-States  <=50K\n",
              "4   28           Private  338409  ...             40            Cuba  <=50K\n",
              "\n",
              "[5 rows x 15 columns]"
            ]
          },
          "metadata": {},
          "execution_count": 4
        }
      ]
    },
    {
      "cell_type": "markdown",
      "metadata": {
        "id": "m_sdoYDipLz5"
      },
      "source": [
        "Скільки чоловіків та жінок (ознака sex) представлено в цьому наборі даних?"
      ]
    },
    {
      "cell_type": "code",
      "metadata": {
        "colab": {
          "base_uri": "https://localhost:8080/"
        },
        "id": "oH-Uf1cepG46",
        "outputId": "75711f33-51fa-487f-c322-db5afc8102fe"
      },
      "source": [
        "data[data['sex'] == 'Male'].shape[0]"
      ],
      "execution_count": 16,
      "outputs": [
        {
          "output_type": "execute_result",
          "data": {
            "text/plain": [
              "21790"
            ]
          },
          "metadata": {},
          "execution_count": 16
        }
      ]
    },
    {
      "cell_type": "code",
      "metadata": {
        "colab": {
          "base_uri": "https://localhost:8080/"
        },
        "id": "qORcJ6Gqpaac",
        "outputId": "d09836c0-0959-483b-a7c7-c1c4dab36ca5"
      },
      "source": [
        "data[data['sex'] == 'Female'].shape[0]"
      ],
      "execution_count": 17,
      "outputs": [
        {
          "output_type": "execute_result",
          "data": {
            "text/plain": [
              "10771"
            ]
          },
          "metadata": {},
          "execution_count": 17
        }
      ]
    },
    {
      "cell_type": "markdown",
      "metadata": {
        "id": "6le6-az-qObf"
      },
      "source": [
        "Який середній вік жінок (ознака age)?"
      ]
    },
    {
      "cell_type": "code",
      "metadata": {
        "colab": {
          "base_uri": "https://localhost:8080/"
        },
        "id": "kia6j9-LqLff",
        "outputId": "97d05e39-9a96-4475-ece6-5e0bc9217d07"
      },
      "source": [
        "data[data['sex'] == 'Female']['age'].mean()"
      ],
      "execution_count": 19,
      "outputs": [
        {
          "output_type": "execute_result",
          "data": {
            "text/plain": [
              "36.85823043357163"
            ]
          },
          "metadata": {},
          "execution_count": 19
        }
      ]
    },
    {
      "cell_type": "markdown",
      "metadata": {
        "id": "rDBvO76-qYwm"
      },
      "source": [
        "Яка частка громадян Німеччини (ознака native-country)?"
      ]
    },
    {
      "cell_type": "code",
      "metadata": {
        "colab": {
          "base_uri": "https://localhost:8080/"
        },
        "id": "FZA_I3hYqUPU",
        "outputId": "ecab0b1e-13f0-4154-fb81-5943ff48f046"
      },
      "source": [
        "(data['native-country'] == 'Germany').mean()"
      ],
      "execution_count": 22,
      "outputs": [
        {
          "output_type": "execute_result",
          "data": {
            "text/plain": [
              "0.004207487485028101"
            ]
          },
          "metadata": {},
          "execution_count": 22
        }
      ]
    },
    {
      "cell_type": "markdown",
      "metadata": {
        "id": "skeRTrMTr3AM"
      },
      "source": [
        "Які середні значення та середньоквадратичні відхилення віку тих, хто отримує більше 50К в\n",
        "рік (ознака salary) та менше або рівно 50К в рік?"
      ]
    },
    {
      "cell_type": "code",
      "metadata": {
        "colab": {
          "base_uri": "https://localhost:8080/"
        },
        "id": "2MEbZeHxqwat",
        "outputId": "f5ed6169-edd2-4355-e498-a5084e7ea50b"
      },
      "source": [
        "data[data['salary'] == \">50K\"]['age'].mean(), \\\n",
        "data[data['salary'] == \">50K\"]['age'].std()"
      ],
      "execution_count": 29,
      "outputs": [
        {
          "output_type": "execute_result",
          "data": {
            "text/plain": [
              "(44.24984058155847, 10.51902771985177)"
            ]
          },
          "metadata": {},
          "execution_count": 29
        }
      ]
    },
    {
      "cell_type": "code",
      "metadata": {
        "colab": {
          "base_uri": "https://localhost:8080/"
        },
        "id": "TTrht4oxr-KB",
        "outputId": "3fb9fecd-00f9-41b2-f20e-d27edc52baf1"
      },
      "source": [
        "data[data['salary'] == \"<=50K\"]['age'].mean(), \\\n",
        "data[data['salary'] == \"<=50K\"]['age'].std()"
      ],
      "execution_count": 30,
      "outputs": [
        {
          "output_type": "execute_result",
          "data": {
            "text/plain": [
              "(36.78373786407767, 14.020088490824813)"
            ]
          },
          "metadata": {},
          "execution_count": 30
        }
      ]
    },
    {
      "cell_type": "markdown",
      "metadata": {
        "id": "H0vgI8oJs250"
      },
      "source": [
        "Чи правда, що люди, які отримують більше 50К, мають як мінімум вищу освіту (ознака\n",
        "education: Bachelors, Prof-school, Assoc-acdm, Assoc-voc, Masters, Doctorate)?"
      ]
    },
    {
      "cell_type": "code",
      "metadata": {
        "colab": {
          "base_uri": "https://localhost:8080/"
        },
        "id": "GD9pCuQJvb2V",
        "outputId": "b264cc7d-ed5b-4ce4-acc7-55b6acf324bc"
      },
      "source": [
        "data[(data['salary'] == \">50K\")]['education']"
      ],
      "execution_count": 51,
      "outputs": [
        {
          "output_type": "execute_result",
          "data": {
            "text/plain": [
              "7             HS-grad\n",
              "8             Masters\n",
              "9           Bachelors\n",
              "10       Some-college\n",
              "11          Bachelors\n",
              "             ...     \n",
              "32539       Doctorate\n",
              "32545      Assoc-acdm\n",
              "32554         Masters\n",
              "32557         HS-grad\n",
              "32560         HS-grad\n",
              "Name: education, Length: 7841, dtype: object"
            ]
          },
          "metadata": {},
          "execution_count": 51
        }
      ]
    },
    {
      "cell_type": "code",
      "metadata": {
        "colab": {
          "base_uri": "https://localhost:8080/"
        },
        "id": "FJjfZkZds_KK",
        "outputId": "f3642cdd-1e3a-4667-9fce-dc9c78bd7c97"
      },
      "source": [
        "data[(data['salary'] == \">50K\")]['education'].isin(['Bachelors', 'Prof-school', 'Assoc-acdm', 'Assoc-voc', 'Masters', 'Doctorate']).all()"
      ],
      "execution_count": 52,
      "outputs": [
        {
          "output_type": "execute_result",
          "data": {
            "text/plain": [
              "False"
            ]
          },
          "metadata": {},
          "execution_count": 52
        }
      ]
    },
    {
      "cell_type": "markdown",
      "metadata": {
        "id": "PO0sHnZgvimk"
      },
      "source": [
        "Виведіть статистику віку для кожної раси (ознака race) і статі. Використовуйте groupby та\n",
        "describe. Знайдіть максимальний вік чоловіків раси Amer-Indian-Eskimo."
      ]
    },
    {
      "cell_type": "code",
      "metadata": {
        "colab": {
          "base_uri": "https://localhost:8080/"
        },
        "id": "7syvrMtLvw5x",
        "outputId": "492b2e1a-ac0c-4b9a-d67b-26677ad4c629"
      },
      "source": [
        "for race_sex, sub_df in data.groupby(['race', 'sex']):\n",
        "  print(race_sex)\n",
        "  print(sub_df['age'].describe())\n",
        "  print()"
      ],
      "execution_count": 60,
      "outputs": [
        {
          "output_type": "stream",
          "name": "stdout",
          "text": [
            "('Amer-Indian-Eskimo', 'Female')\n",
            "count    119.000000\n",
            "mean      37.117647\n",
            "std       13.114991\n",
            "min       17.000000\n",
            "25%       27.000000\n",
            "50%       36.000000\n",
            "75%       46.000000\n",
            "max       80.000000\n",
            "Name: age, dtype: float64\n",
            "\n",
            "('Amer-Indian-Eskimo', 'Male')\n",
            "count    192.000000\n",
            "mean      37.208333\n",
            "std       12.049563\n",
            "min       17.000000\n",
            "25%       28.000000\n",
            "50%       35.000000\n",
            "75%       45.000000\n",
            "max       82.000000\n",
            "Name: age, dtype: float64\n",
            "\n",
            "('Asian-Pac-Islander', 'Female')\n",
            "count    346.000000\n",
            "mean      35.089595\n",
            "std       12.300845\n",
            "min       17.000000\n",
            "25%       25.000000\n",
            "50%       33.000000\n",
            "75%       43.750000\n",
            "max       75.000000\n",
            "Name: age, dtype: float64\n",
            "\n",
            "('Asian-Pac-Islander', 'Male')\n",
            "count    693.000000\n",
            "mean      39.073593\n",
            "std       12.883944\n",
            "min       18.000000\n",
            "25%       29.000000\n",
            "50%       37.000000\n",
            "75%       46.000000\n",
            "max       90.000000\n",
            "Name: age, dtype: float64\n",
            "\n",
            "('Black', 'Female')\n",
            "count    1555.000000\n",
            "mean       37.854019\n",
            "std        12.637197\n",
            "min        17.000000\n",
            "25%        28.000000\n",
            "50%        37.000000\n",
            "75%        46.000000\n",
            "max        90.000000\n",
            "Name: age, dtype: float64\n",
            "\n",
            "('Black', 'Male')\n",
            "count    1569.000000\n",
            "mean       37.682600\n",
            "std        12.882612\n",
            "min        17.000000\n",
            "25%        27.000000\n",
            "50%        36.000000\n",
            "75%        46.000000\n",
            "max        90.000000\n",
            "Name: age, dtype: float64\n",
            "\n",
            "('Other', 'Female')\n",
            "count    109.000000\n",
            "mean      31.678899\n",
            "std       11.631599\n",
            "min       17.000000\n",
            "25%       23.000000\n",
            "50%       29.000000\n",
            "75%       39.000000\n",
            "max       74.000000\n",
            "Name: age, dtype: float64\n",
            "\n",
            "('Other', 'Male')\n",
            "count    162.000000\n",
            "mean      34.654321\n",
            "std       11.355531\n",
            "min       17.000000\n",
            "25%       26.000000\n",
            "50%       32.000000\n",
            "75%       42.000000\n",
            "max       77.000000\n",
            "Name: age, dtype: float64\n",
            "\n",
            "('White', 'Female')\n",
            "count    8642.000000\n",
            "mean       36.811618\n",
            "std        14.329093\n",
            "min        17.000000\n",
            "25%        25.000000\n",
            "50%        35.000000\n",
            "75%        46.000000\n",
            "max        90.000000\n",
            "Name: age, dtype: float64\n",
            "\n",
            "('White', 'Male')\n",
            "count    19174.000000\n",
            "mean        39.652498\n",
            "std         13.436029\n",
            "min         17.000000\n",
            "25%         29.000000\n",
            "50%         38.000000\n",
            "75%         49.000000\n",
            "max         90.000000\n",
            "Name: age, dtype: float64\n",
            "\n"
          ]
        }
      ]
    },
    {
      "cell_type": "code",
      "metadata": {
        "colab": {
          "base_uri": "https://localhost:8080/"
        },
        "id": "QoHMJjwO1URv",
        "outputId": "385d9198-5d73-41fa-b7c6-f8ec88d880a9"
      },
      "source": [
        "data[(data['race'] == \"Amer-Indian-Eskimo\") & (data['sex'] == \"Male\")]['age'].max()"
      ],
      "execution_count": 104,
      "outputs": [
        {
          "output_type": "execute_result",
          "data": {
            "text/plain": [
              "82"
            ]
          },
          "metadata": {},
          "execution_count": 104
        }
      ]
    },
    {
      "cell_type": "markdown",
      "metadata": {
        "id": "3iAuaNpcwi3A"
      },
      "source": [
        "Серед кого більша частка з високою зарплатнею (>50K): серед одружених або неодружених\n",
        "чоловіків (ознака marital-status)? Одруженими вважаємо тих, у кого marital-status починається\n",
        "з Married (Married-civ-spouse, Married-spouse-absent, Married-AF-spouse), інших вважаємо\n",
        "неодруженими."
      ]
    },
    {
      "cell_type": "code",
      "metadata": {
        "colab": {
          "base_uri": "https://localhost:8080/"
        },
        "id": "gHnSSeXswAfM",
        "outputId": "9c8d11fe-0a85-47b2-fbef-b9fd876aec5e"
      },
      "source": [
        "(data[(data['marital-status'].str.startswith(\"Married\")) & (data['sex'] == 'Male')]['salary'] == \">50K\").mean()"
      ],
      "execution_count": 93,
      "outputs": [
        {
          "output_type": "execute_result",
          "data": {
            "text/plain": [
              "0.4405139945351156"
            ]
          },
          "metadata": {},
          "execution_count": 93
        }
      ]
    },
    {
      "cell_type": "code",
      "metadata": {
        "colab": {
          "base_uri": "https://localhost:8080/"
        },
        "id": "3MZYiBLIzRk2",
        "outputId": "9f90f299-e505-46d6-a53f-10d85c73be14"
      },
      "source": [
        "(data[~(data['marital-status'].str.startswith(\"Married\")) & (data['sex'] == 'Male')]['salary'] == \">50K\").mean()"
      ],
      "execution_count": 92,
      "outputs": [
        {
          "output_type": "execute_result",
          "data": {
            "text/plain": [
              "0.08449509031397745"
            ]
          },
          "metadata": {},
          "execution_count": 92
        }
      ]
    },
    {
      "cell_type": "markdown",
      "metadata": {
        "id": "xHza4hUDyzq-"
      },
      "source": [
        "Яку максимальну кількість годин людина працює на тиждень (ознака hours-per-week)?\n",
        "Скільки людей працюють таку кількість годин і який серед них відсоток заробляють багато?"
      ]
    },
    {
      "cell_type": "code",
      "metadata": {
        "id": "js5gxpCKwqPl"
      },
      "source": [
        "max_hours = data['hours-per-week'].max()"
      ],
      "execution_count": 86,
      "outputs": []
    },
    {
      "cell_type": "code",
      "metadata": {
        "colab": {
          "base_uri": "https://localhost:8080/"
        },
        "id": "WpoDqMBazEaE",
        "outputId": "3c13a4f2-4ffa-414f-826f-2fc67251b429"
      },
      "source": [
        "max_hours"
      ],
      "execution_count": 87,
      "outputs": [
        {
          "output_type": "execute_result",
          "data": {
            "text/plain": [
              "99"
            ]
          },
          "metadata": {},
          "execution_count": 87
        }
      ]
    },
    {
      "cell_type": "code",
      "metadata": {
        "colab": {
          "base_uri": "https://localhost:8080/"
        },
        "id": "VcCQLXVuywwA",
        "outputId": "3e372d7a-278c-4bae-de63-ed91d5249f1d"
      },
      "source": [
        "data[data['hours-per-week'] == max_hours].shape[0]"
      ],
      "execution_count": 90,
      "outputs": [
        {
          "output_type": "execute_result",
          "data": {
            "text/plain": [
              "85"
            ]
          },
          "metadata": {},
          "execution_count": 90
        }
      ]
    },
    {
      "cell_type": "code",
      "metadata": {
        "colab": {
          "base_uri": "https://localhost:8080/"
        },
        "id": "5ABA3OCNzH6u",
        "outputId": "4017931b-a823-4b44-8f0a-f730e43ba08a"
      },
      "source": [
        "(data[data['hours-per-week'] == max_hours]['salary'] == \">50K\").mean()"
      ],
      "execution_count": 94,
      "outputs": [
        {
          "output_type": "execute_result",
          "data": {
            "text/plain": [
              "0.29411764705882354"
            ]
          },
          "metadata": {},
          "execution_count": 94
        }
      ]
    },
    {
      "cell_type": "markdown",
      "metadata": {
        "id": "9jcYFoiTzg5K"
      },
      "source": [
        "Порахуйте середній час роботи (ознака hours-per-week) тих, хто заробляє мало і багато для\n",
        "кожної країни (ознака native-country)."
      ]
    },
    {
      "cell_type": "code",
      "metadata": {
        "colab": {
          "base_uri": "https://localhost:8080/"
        },
        "id": "qk4mJxAjzbfS",
        "outputId": "a0e7af3b-f27d-4387-8ed7-3687cd1dd0e7"
      },
      "source": [
        "for (country, salary), subdf in data.groupby(['native-country', 'salary']):\n",
        "  print(f\"{country} and {salary}: {subdf['hours-per-week'].mean()}\")"
      ],
      "execution_count": 102,
      "outputs": [
        {
          "output_type": "stream",
          "name": "stdout",
          "text": [
            "? and <=50K: 40.16475972540046\n",
            "? and >50K: 45.54794520547945\n",
            "Cambodia and <=50K: 41.416666666666664\n",
            "Cambodia and >50K: 40.0\n",
            "Canada and <=50K: 37.91463414634146\n",
            "Canada and >50K: 45.64102564102564\n",
            "China and <=50K: 37.38181818181818\n",
            "China and >50K: 38.9\n",
            "Columbia and <=50K: 38.68421052631579\n",
            "Columbia and >50K: 50.0\n",
            "Cuba and <=50K: 37.98571428571429\n",
            "Cuba and >50K: 42.44\n",
            "Dominican-Republic and <=50K: 42.338235294117645\n",
            "Dominican-Republic and >50K: 47.0\n",
            "Ecuador and <=50K: 38.041666666666664\n",
            "Ecuador and >50K: 48.75\n",
            "El-Salvador and <=50K: 36.03092783505155\n",
            "El-Salvador and >50K: 45.0\n",
            "England and <=50K: 40.483333333333334\n",
            "England and >50K: 44.53333333333333\n",
            "France and <=50K: 41.05882352941177\n",
            "France and >50K: 50.75\n",
            "Germany and <=50K: 39.13978494623656\n",
            "Germany and >50K: 44.97727272727273\n",
            "Greece and <=50K: 41.80952380952381\n",
            "Greece and >50K: 50.625\n",
            "Guatemala and <=50K: 39.36065573770492\n",
            "Guatemala and >50K: 36.666666666666664\n",
            "Haiti and <=50K: 36.325\n",
            "Haiti and >50K: 42.75\n",
            "Holand-Netherlands and <=50K: 40.0\n",
            "Honduras and <=50K: 34.333333333333336\n",
            "Honduras and >50K: 60.0\n",
            "Hong and <=50K: 39.142857142857146\n",
            "Hong and >50K: 45.0\n",
            "Hungary and <=50K: 31.3\n",
            "Hungary and >50K: 50.0\n",
            "India and <=50K: 38.233333333333334\n",
            "India and >50K: 46.475\n",
            "Iran and <=50K: 41.44\n",
            "Iran and >50K: 47.5\n",
            "Ireland and <=50K: 40.94736842105263\n",
            "Ireland and >50K: 48.0\n",
            "Italy and <=50K: 39.625\n",
            "Italy and >50K: 45.4\n",
            "Jamaica and <=50K: 38.23943661971831\n",
            "Jamaica and >50K: 41.1\n",
            "Japan and <=50K: 41.0\n",
            "Japan and >50K: 47.958333333333336\n",
            "Laos and <=50K: 40.375\n",
            "Laos and >50K: 40.0\n",
            "Mexico and <=50K: 40.00327868852459\n",
            "Mexico and >50K: 46.57575757575758\n",
            "Nicaragua and <=50K: 36.09375\n",
            "Nicaragua and >50K: 37.5\n",
            "Outlying-US(Guam-USVI-etc) and <=50K: 41.857142857142854\n",
            "Peru and <=50K: 35.06896551724138\n",
            "Peru and >50K: 40.0\n",
            "Philippines and <=50K: 38.065693430656935\n",
            "Philippines and >50K: 43.032786885245905\n",
            "Poland and <=50K: 38.166666666666664\n",
            "Poland and >50K: 39.0\n",
            "Portugal and <=50K: 41.93939393939394\n",
            "Portugal and >50K: 41.5\n",
            "Puerto-Rico and <=50K: 38.470588235294116\n",
            "Puerto-Rico and >50K: 39.416666666666664\n",
            "Scotland and <=50K: 39.44444444444444\n",
            "Scotland and >50K: 46.666666666666664\n",
            "South and <=50K: 40.15625\n",
            "South and >50K: 51.4375\n",
            "Taiwan and <=50K: 33.774193548387096\n",
            "Taiwan and >50K: 46.8\n",
            "Thailand and <=50K: 42.86666666666667\n",
            "Thailand and >50K: 58.333333333333336\n",
            "Trinadad&Tobago and <=50K: 37.05882352941177\n",
            "Trinadad&Tobago and >50K: 40.0\n",
            "United-States and <=50K: 38.79912723305605\n",
            "United-States and >50K: 45.50536884674383\n",
            "Vietnam and <=50K: 37.193548387096776\n",
            "Vietnam and >50K: 39.2\n",
            "Yugoslavia and <=50K: 41.6\n",
            "Yugoslavia and >50K: 49.5\n"
          ]
        }
      ]
    },
    {
      "cell_type": "code",
      "metadata": {
        "id": "XV_3qQx20BFC"
      },
      "source": [
        ""
      ],
      "execution_count": null,
      "outputs": []
    }
  ]
}
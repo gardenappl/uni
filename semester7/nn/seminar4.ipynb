{
  "nbformat": 4,
  "nbformat_minor": 0,
  "metadata": {
    "colab": {
      "name": "nn-seminar4.ipynb",
      "provenance": []
    },
    "kernelspec": {
      "name": "python3",
      "display_name": "Python 3"
    },
    "language_info": {
      "name": "python"
    }
  },
  "cells": [
    {
      "cell_type": "markdown",
      "metadata": {
        "id": "6rqSTOHXHN3f"
      },
      "source": [
        "**Припустимо, що у вас є багатошаровий перцептрон, що складається з одного вхідного\n",
        "шару з 10 нейронами, за яким є ще один прихований шар з 50 нейронами і один\n",
        "вихідний шар з 3 нейронами. Всі штучні нейрони застосовують функцію активації\n",
        "ReLU.**"
      ]
    },
    {
      "cell_type": "markdown",
      "metadata": {
        "id": "zb2BtRd7HRFJ"
      },
      "source": [
        "**Яка форма вхідної матриці X?**"
      ]
    },
    {
      "cell_type": "markdown",
      "metadata": {
        "id": "IXsJSggJHb7Y"
      },
      "source": [
        "Вектор довжиною 10"
      ]
    },
    {
      "cell_type": "markdown",
      "metadata": {
        "id": "mQp04yxxHfWJ"
      },
      "source": [
        "**Що можна сказати про форму вектора ваг\n",
        "W_h\n",
        "прихованого шару?**"
      ]
    },
    {
      "cell_type": "markdown",
      "metadata": {
        "id": "jtp9PeSkHi1a"
      },
      "source": [
        "50x10"
      ]
    },
    {
      "cell_type": "markdown",
      "metadata": {
        "id": "OHmxOwWAIiUN"
      },
      "source": [
        "**... і формі його вектора зсувів b_h?**"
      ]
    },
    {
      "cell_type": "markdown",
      "metadata": {
        "id": "CfyDpkoFJQ4P"
      },
      "source": [
        "50x1"
      ]
    },
    {
      "cell_type": "markdown",
      "metadata": {
        "id": "7Xa9teL-JYQt"
      },
      "source": [
        "**Яка форма вектора ваг\n",
        "W_0\n",
        "вихідного шару?**"
      ]
    },
    {
      "cell_type": "markdown",
      "metadata": {
        "id": "p0ru5I09JbSZ"
      },
      "source": [
        "3x50"
      ]
    },
    {
      "cell_type": "markdown",
      "metadata": {
        "id": "S4uD-_XDKH2N"
      },
      "source": [
        "**... і форма його вектора зсувів\n",
        "b_0?**"
      ]
    },
    {
      "cell_type": "markdown",
      "metadata": {
        "id": "h_tYE2tXKLej"
      },
      "source": [
        "3x1"
      ]
    },
    {
      "cell_type": "markdown",
      "metadata": {
        "id": "2ULcukW5Ka4W"
      },
      "source": [
        "**Яка форма вихідної матриці\n",
        "Y\n",
        "мережі?**"
      ]
    },
    {
      "cell_type": "markdown",
      "metadata": {
        "id": "NkXHnMsZKfRC"
      },
      "source": [
        "3x1"
      ]
    },
    {
      "cell_type": "markdown",
      "metadata": {
        "id": "JSCoCgQiKuR1"
      },
      "source": [
        "**Напишіть рівняння, яке обчислює вихідну матрицю Y мережі як функцію від X , W_h, b_H, W_0 та b_0.**"
      ]
    },
    {
      "cell_type": "markdown",
      "metadata": {
        "id": "NKgmQDSmLUXD"
      },
      "source": [
        "$Y=f(W_0 * f(W_h * X + b_h) + b_0)$\n",
        "\n",
        "$Y=max(0, W_0 * max(0, W_h * X + b_h) + b_0)$"
      ]
    },
    {
      "cell_type": "code",
      "metadata": {
        "id": "Kgv5FBnSG_0K"
      },
      "source": [
        "import keras\n",
        "from keras.datasets import mnist\n",
        "import keras.models as M\n",
        "import keras.layers as L\n",
        "import keras.backend as K"
      ],
      "execution_count": null,
      "outputs": []
    },
    {
      "cell_type": "code",
      "metadata": {
        "id": "2yMY37J1Ots1"
      },
      "source": [
        "from sklearn.metrics import accuracy_score\n",
        "(x_train, y_train), (x_val, y_val) = keras.datasets.fashion_mnist.load_data()\n",
        "y_train_oh = tf.keras.utils.to_categorical(y_train, 10)\n",
        "y_val_oh = tf.keras.utils.to_categorical(y_val, 10)"
      ],
      "execution_count": null,
      "outputs": []
    },
    {
      "cell_type": "code",
      "metadata": {
        "colab": {
          "base_uri": "https://localhost:8080/"
        },
        "id": "wSqtfDCXHGyd",
        "outputId": "03eca84e-e23c-4889-da96-56d758cca177"
      },
      "source": [
        "x_train_float = x_train.astype(np.float) / 255 - 0.5\n",
        "x_val_float = x_val.astype(np.float) / 255 - 0.5\n",
        "\n",
        "results = []\n",
        "\n",
        "for func in ['linear', 'elu', 'softmax', 'sigmoid']:\n",
        "  print(\"Activation function: \", func)\n",
        "\n",
        "  K.clear_session()\n",
        "  model = M.Sequential()\n",
        "  model.add(L.Dense(28*28, activation=func))\n",
        "  model.add(L.Dense(128, activation=func))\n",
        "  model.add(L.Dense(10, activation=func))\n",
        "\n",
        "  model.compile(\n",
        "    loss='categorical_crossentropy',\n",
        "    optimizer='adam',\n",
        "    metrics=['accuracy']\n",
        "  )\n",
        "  results.append(model.fit(\n",
        "    x_train_float.reshape(-1, 28*28),\n",
        "    y_train_oh,\n",
        "    batch_size=64,\n",
        "    epochs=5,\n",
        "    validation_data=(x_val_float.reshape(-1, 28*28), y_val_oh)\n",
        "  ))\n"
      ],
      "execution_count": null,
      "outputs": [
        {
          "output_type": "stream",
          "name": "stdout",
          "text": [
            "Activation function:  linear\n",
            "Epoch 1/5\n",
            "938/938 [==============================] - 8s 8ms/step - loss: 11.0475 - accuracy: 0.1055 - val_loss: 9.4453 - val_accuracy: 0.1217\n",
            "Epoch 2/5\n",
            "938/938 [==============================] - 7s 8ms/step - loss: 8.1973 - accuracy: 0.1129 - val_loss: 9.5572 - val_accuracy: 0.1057\n",
            "Epoch 3/5\n",
            "938/938 [==============================] - 7s 7ms/step - loss: 8.3661 - accuracy: 0.1016 - val_loss: 6.6620 - val_accuracy: 0.0921\n",
            "Epoch 4/5\n",
            "938/938 [==============================] - 7s 7ms/step - loss: 7.8657 - accuracy: 0.1005 - val_loss: 7.9785 - val_accuracy: 0.1007\n",
            "Epoch 5/5\n",
            "938/938 [==============================] - 7s 7ms/step - loss: 7.6715 - accuracy: 0.1011 - val_loss: 8.0423 - val_accuracy: 0.1014\n",
            "Activation function:  elu\n",
            "Epoch 1/5\n",
            "938/938 [==============================] - 8s 8ms/step - loss: 5.7588 - accuracy: 0.3928 - val_loss: 5.1672 - val_accuracy: 0.4576\n",
            "Epoch 2/5\n",
            "938/938 [==============================] - 7s 8ms/step - loss: 5.3347 - accuracy: 0.4263 - val_loss: 5.3504 - val_accuracy: 0.4200\n",
            "Epoch 3/5\n",
            "938/938 [==============================] - 7s 8ms/step - loss: 5.4800 - accuracy: 0.4814 - val_loss: 5.2033 - val_accuracy: 0.4894\n",
            "Epoch 4/5\n",
            "938/938 [==============================] - 7s 8ms/step - loss: 6.7485 - accuracy: 0.3982 - val_loss: 5.4944 - val_accuracy: 0.4812\n",
            "Epoch 5/5\n",
            "938/938 [==============================] - 7s 8ms/step - loss: 6.1509 - accuracy: 0.4765 - val_loss: 6.4234 - val_accuracy: 0.4174\n",
            "Activation function:  softmax\n",
            "Epoch 1/5\n",
            "938/938 [==============================] - 8s 8ms/step - loss: 2.0814 - accuracy: 0.4494 - val_loss: 1.6249 - val_accuracy: 0.5627\n",
            "Epoch 2/5\n",
            "938/938 [==============================] - 7s 8ms/step - loss: 1.2294 - accuracy: 0.5702 - val_loss: 1.0245 - val_accuracy: 0.5743\n",
            "Epoch 3/5\n",
            "938/938 [==============================] - 7s 8ms/step - loss: 0.9285 - accuracy: 0.5840 - val_loss: 0.9022 - val_accuracy: 0.5903\n",
            "Epoch 4/5\n",
            "938/938 [==============================] - 7s 8ms/step - loss: 0.8609 - accuracy: 0.5993 - val_loss: 0.8603 - val_accuracy: 0.6075\n",
            "Epoch 5/5\n",
            "938/938 [==============================] - 7s 8ms/step - loss: 0.8263 - accuracy: 0.6187 - val_loss: 0.8272 - val_accuracy: 0.6363\n",
            "Activation function:  sigmoid\n",
            "Epoch 1/5\n",
            "938/938 [==============================] - 7s 8ms/step - loss: 0.5629 - accuracy: 0.8034 - val_loss: 0.4654 - val_accuracy: 0.8306\n",
            "Epoch 2/5\n",
            "938/938 [==============================] - 7s 8ms/step - loss: 0.3975 - accuracy: 0.8564 - val_loss: 0.3982 - val_accuracy: 0.8557\n",
            "Epoch 3/5\n",
            "938/938 [==============================] - 7s 8ms/step - loss: 0.3563 - accuracy: 0.8704 - val_loss: 0.3763 - val_accuracy: 0.8644\n",
            "Epoch 4/5\n",
            "938/938 [==============================] - 7s 8ms/step - loss: 0.3267 - accuracy: 0.8801 - val_loss: 0.3665 - val_accuracy: 0.8675\n",
            "Epoch 5/5\n",
            "938/938 [==============================] - 7s 8ms/step - loss: 0.3025 - accuracy: 0.8889 - val_loss: 0.3664 - val_accuracy: 0.8641\n"
          ]
        }
      ]
    },
    {
      "cell_type": "markdown",
      "metadata": {
        "id": "1FJB_ilzU2Hq"
      },
      "source": [
        "Нейронна мережа з лінійною функцією активації має найгіршу точність класифікації (приблизно 10%)."
      ]
    },
    {
      "cell_type": "markdown",
      "metadata": {
        "id": "pFXhkdXuVblo"
      },
      "source": [
        "**Для двошарової нейронної мережі з фіксованою функцією активації\n",
        "sigmoid\n",
        "побудуйте\n",
        "графік залежності часу навчання нейронної мережі і точності класифікації від\n",
        "кількості нейронів в прихованому шарі мережі.**"
      ]
    },
    {
      "cell_type": "code",
      "metadata": {
        "colab": {
          "base_uri": "https://localhost:8080/"
        },
        "id": "l3iVoGnES1vb",
        "outputId": "86fc937c-8a3e-43bf-a11a-c173787eac91"
      },
      "source": [
        "# https://stackoverflow.com/a/57182112/5701177\n",
        "\n",
        "from timeit import default_timer as timer\n",
        "\n",
        "class TimingCallback(keras.callbacks.Callback):\n",
        "    def __init__(self, logs={}):\n",
        "        self.logs=[]\n",
        "    def on_epoch_begin(self, epoch, logs={}):\n",
        "        self.starttime = timer()\n",
        "    def on_epoch_end(self, epoch, logs={}):\n",
        "        self.logs.append(timer()-self.starttime)\n",
        "\n",
        "\n",
        "\n",
        "\n",
        "\n",
        "results = []\n",
        "callbacks = []\n",
        "\n",
        "for hidden_n in [8, 16, 32, 64, 128, 256, 512]:\n",
        "  print(\"Neurons: \", hidden_n)\n",
        "\n",
        "  K.clear_session()\n",
        "  model = M.Sequential()\n",
        "  model.add(L.Dense(28*28, activation='sigmoid'))\n",
        "  model.add(L.Dense(hidden_n, activation='sigmoid'))\n",
        "  model.add(L.Dense(10, activation='sigmoid'))\n",
        "\n",
        "  model.compile(\n",
        "    loss='categorical_crossentropy',\n",
        "    optimizer='adam',\n",
        "    metrics=['accuracy']\n",
        "  )\n",
        "  callback = TimingCallback()\n",
        "  callbacks.append(callback)\n",
        "\n",
        "  results.append(model.fit(\n",
        "    x_train_float.reshape(-1, 28*28),\n",
        "    y_train_oh,\n",
        "    batch_size=64,\n",
        "    epochs=5,\n",
        "    validation_data=(x_val_float.reshape(-1, 28*28), y_val_oh),\n",
        "    callbacks=[callback]\n",
        "  ))"
      ],
      "execution_count": null,
      "outputs": [
        {
          "output_type": "stream",
          "name": "stdout",
          "text": [
            "Neurons:  8\n",
            "Epoch 1/5\n",
            "938/938 [==============================] - 7s 7ms/step - loss: 1.1952 - accuracy: 0.6978 - val_loss: 0.8235 - val_accuracy: 0.7539\n",
            "Epoch 2/5\n",
            "938/938 [==============================] - 7s 7ms/step - loss: 0.6819 - accuracy: 0.7937 - val_loss: 0.6209 - val_accuracy: 0.8033\n",
            "Epoch 3/5\n",
            "938/938 [==============================] - 7s 7ms/step - loss: 0.5424 - accuracy: 0.8305 - val_loss: 0.5304 - val_accuracy: 0.8288\n",
            "Epoch 4/5\n",
            "938/938 [==============================] - 7s 7ms/step - loss: 0.4625 - accuracy: 0.8570 - val_loss: 0.4785 - val_accuracy: 0.8419\n",
            "Epoch 5/5\n",
            "938/938 [==============================] - 7s 7ms/step - loss: 0.3974 - accuracy: 0.8720 - val_loss: 0.4230 - val_accuracy: 0.8578\n",
            "Neurons:  16\n",
            "Epoch 1/5\n",
            "938/938 [==============================] - 7s 7ms/step - loss: 0.8720 - accuracy: 0.7781 - val_loss: 0.5722 - val_accuracy: 0.8228\n",
            "Epoch 2/5\n",
            "938/938 [==============================] - 7s 7ms/step - loss: 0.4731 - accuracy: 0.8481 - val_loss: 0.4726 - val_accuracy: 0.8409\n",
            "Epoch 3/5\n",
            "938/938 [==============================] - 7s 7ms/step - loss: 0.3966 - accuracy: 0.8656 - val_loss: 0.4251 - val_accuracy: 0.8493\n",
            "Epoch 4/5\n",
            "938/938 [==============================] - 7s 7ms/step - loss: 0.3589 - accuracy: 0.8759 - val_loss: 0.3899 - val_accuracy: 0.8620\n",
            "Epoch 5/5\n",
            "938/938 [==============================] - 7s 7ms/step - loss: 0.3328 - accuracy: 0.8847 - val_loss: 0.3713 - val_accuracy: 0.8715\n",
            "Neurons:  32\n",
            "Epoch 1/5\n",
            "938/938 [==============================] - 7s 7ms/step - loss: 0.6900 - accuracy: 0.7894 - val_loss: 0.4798 - val_accuracy: 0.8304\n",
            "Epoch 2/5\n",
            "938/938 [==============================] - 7s 8ms/step - loss: 0.4225 - accuracy: 0.8516 - val_loss: 0.4225 - val_accuracy: 0.8490\n",
            "Epoch 3/5\n",
            "938/938 [==============================] - 7s 8ms/step - loss: 0.3698 - accuracy: 0.8679 - val_loss: 0.3970 - val_accuracy: 0.8603\n",
            "Epoch 4/5\n",
            "938/938 [==============================] - 7s 8ms/step - loss: 0.3391 - accuracy: 0.8775 - val_loss: 0.3892 - val_accuracy: 0.8588\n",
            "Epoch 5/5\n",
            "938/938 [==============================] - 7s 8ms/step - loss: 0.3168 - accuracy: 0.8865 - val_loss: 0.3518 - val_accuracy: 0.8740\n",
            "Neurons:  64\n",
            "Epoch 1/5\n",
            "938/938 [==============================] - 8s 8ms/step - loss: 0.5983 - accuracy: 0.7976 - val_loss: 0.4812 - val_accuracy: 0.8266\n",
            "Epoch 2/5\n",
            "938/938 [==============================] - 7s 8ms/step - loss: 0.4054 - accuracy: 0.8541 - val_loss: 0.4310 - val_accuracy: 0.8405\n",
            "Epoch 3/5\n",
            "938/938 [==============================] - 7s 8ms/step - loss: 0.3607 - accuracy: 0.8695 - val_loss: 0.3960 - val_accuracy: 0.8527\n",
            "Epoch 4/5\n",
            "938/938 [==============================] - 7s 8ms/step - loss: 0.3323 - accuracy: 0.8788 - val_loss: 0.3588 - val_accuracy: 0.8720\n",
            "Epoch 5/5\n",
            "938/938 [==============================] - 7s 7ms/step - loss: 0.3109 - accuracy: 0.8860 - val_loss: 0.3523 - val_accuracy: 0.8735\n",
            "Neurons:  128\n",
            "Epoch 1/5\n",
            "938/938 [==============================] - 8s 8ms/step - loss: 0.5770 - accuracy: 0.7986 - val_loss: 0.4541 - val_accuracy: 0.8377\n",
            "Epoch 2/5\n",
            "938/938 [==============================] - 7s 8ms/step - loss: 0.4000 - accuracy: 0.8552 - val_loss: 0.4366 - val_accuracy: 0.8441\n",
            "Epoch 3/5\n",
            "938/938 [==============================] - 8s 8ms/step - loss: 0.3583 - accuracy: 0.8688 - val_loss: 0.3756 - val_accuracy: 0.8635\n",
            "Epoch 4/5\n",
            "938/938 [==============================] - 8s 8ms/step - loss: 0.3291 - accuracy: 0.8796 - val_loss: 0.3586 - val_accuracy: 0.8713\n",
            "Epoch 5/5\n",
            "938/938 [==============================] - 8s 8ms/step - loss: 0.3074 - accuracy: 0.8868 - val_loss: 0.3414 - val_accuracy: 0.8777\n",
            "Neurons:  256\n",
            "Epoch 1/5\n",
            "938/938 [==============================] - 10s 10ms/step - loss: 0.5637 - accuracy: 0.7976 - val_loss: 0.4775 - val_accuracy: 0.8286\n",
            "Epoch 2/5\n",
            "938/938 [==============================] - 10s 10ms/step - loss: 0.3979 - accuracy: 0.8556 - val_loss: 0.4172 - val_accuracy: 0.8463\n",
            "Epoch 3/5\n",
            "938/938 [==============================] - 9s 10ms/step - loss: 0.3542 - accuracy: 0.8709 - val_loss: 0.3748 - val_accuracy: 0.8646\n",
            "Epoch 4/5\n",
            "938/938 [==============================] - 9s 10ms/step - loss: 0.3279 - accuracy: 0.8788 - val_loss: 0.3765 - val_accuracy: 0.8616\n",
            "Epoch 5/5\n",
            "938/938 [==============================] - 9s 10ms/step - loss: 0.3028 - accuracy: 0.8893 - val_loss: 0.3498 - val_accuracy: 0.8721\n",
            "Neurons:  512\n",
            "Epoch 1/5\n",
            "938/938 [==============================] - 14s 14ms/step - loss: 0.5577 - accuracy: 0.7990 - val_loss: 0.4431 - val_accuracy: 0.8427\n",
            "Epoch 2/5\n",
            "938/938 [==============================] - 13s 14ms/step - loss: 0.4007 - accuracy: 0.8550 - val_loss: 0.4099 - val_accuracy: 0.8513\n",
            "Epoch 3/5\n",
            "938/938 [==============================] - 13s 14ms/step - loss: 0.3536 - accuracy: 0.8709 - val_loss: 0.3787 - val_accuracy: 0.8629\n",
            "Epoch 4/5\n",
            "938/938 [==============================] - 13s 14ms/step - loss: 0.3253 - accuracy: 0.8802 - val_loss: 0.3592 - val_accuracy: 0.8723\n",
            "Epoch 5/5\n",
            "938/938 [==============================] - 13s 14ms/step - loss: 0.3014 - accuracy: 0.8873 - val_loss: 0.3412 - val_accuracy: 0.8775\n"
          ]
        }
      ]
    },
    {
      "cell_type": "code",
      "metadata": {
        "id": "n6SovWNcaHVI"
      },
      "source": [
        "import matplotlib.pyplot as plt"
      ],
      "execution_count": null,
      "outputs": []
    },
    {
      "cell_type": "code",
      "metadata": {
        "colab": {
          "base_uri": "https://localhost:8080/",
          "height": 408
        },
        "id": "LtRVeRzyXIaM",
        "outputId": "83f5d762-e897-4247-d3d3-48b5aa17cddc"
      },
      "source": [
        "hidden_ns = [8, 16, 32, 64, 128, 256, 512]\n",
        "\n",
        "for r in results:\n",
        "  print(max(r.history['val_accuracy']))\n",
        "\n",
        "plt.ylim([0.8, 0.9])\n",
        "plt.plot(hidden_ns, [max(r.history['val_accuracy']) for r in results])"
      ],
      "execution_count": null,
      "outputs": [
        {
          "output_type": "stream",
          "name": "stdout",
          "text": [
            "0.8578000068664551\n",
            "0.8715000152587891\n",
            "0.8740000128746033\n",
            "0.8734999895095825\n",
            "0.8776999711990356\n",
            "0.8720999956130981\n",
            "0.8774999976158142\n"
          ]
        },
        {
          "output_type": "execute_result",
          "data": {
            "text/plain": [
              "[<matplotlib.lines.Line2D at 0x7f59b8bf1b50>]"
            ]
          },
          "metadata": {},
          "execution_count": 63
        },
        {
          "output_type": "display_data",
          "data": {
            "image/png": "[encoded data removed]",
            "text/plain": [
              "<Figure size 432x288 with 1 Axes>"
            ]
          },
          "metadata": {
            "needs_background": "light"
          }
        }
      ]
    },
    {
      "cell_type": "code",
      "metadata": {
        "colab": {
          "base_uri": "https://localhost:8080/",
          "height": 406
        },
        "id": "1Csr0vQdYjTg",
        "outputId": "72a7f927-1457-4ed2-f9e0-227dfb56c09f"
      },
      "source": [
        "for cb in callbacks:\n",
        "  print(sum(cb.logs))\n",
        "\n",
        "plt.plot(hidden_ns, [sum(cb.logs) for cb in callbacks])"
      ],
      "execution_count": null,
      "outputs": [
        {
          "output_type": "stream",
          "name": "stdout",
          "text": [
            "30.926429841000754\n",
            "32.33221839699945\n",
            "33.09969862899925\n",
            "36.26492964499903\n",
            "37.94362811999963\n",
            "45.99535296399972\n",
            "68.5120346620015\n"
          ]
        },
        {
          "output_type": "execute_result",
          "data": {
            "text/plain": [
              "[<matplotlib.lines.Line2D at 0x7f59af471450>]"
            ]
          },
          "metadata": {},
          "execution_count": 47
        },
        {
          "output_type": "display_data",
          "data": {
            "image/png": "[encoded data removed]",
            "text/plain": [
              "<Figure size 432x288 with 1 Axes>"
            ]
          },
          "metadata": {
            "needs_background": "light"
          }
        }
      ]
    },
    {
      "cell_type": "markdown",
      "metadata": {
        "id": "URxVB7WcdVkm"
      },
      "source": [
        "Бачимо, що час навчання лінійно зростає, але в нашому випадку зміна кількості нейронів у межах від 16 до 512 не дуже впливає на точність класифікації. 8 нейронів, можливо, недостатньо."
      ]
    },
    {
      "cell_type": "markdown",
      "metadata": {
        "id": "ajE2-A-jdq1z"
      },
      "source": [
        "**Побудуйте графік залежності часу навчання нейронної мережі і точності класифікації\n",
        "від кількості прихованих шарів (всі приховані шари однакового розміру) для\n",
        "багатошарової нейронної мережі з фіксованою функцією активації `'tanh'`**"
      ]
    },
    {
      "cell_type": "code",
      "metadata": {
        "colab": {
          "base_uri": "https://localhost:8080/"
        },
        "id": "v91F3cb3ZSKt",
        "outputId": "2d8e887b-2a9a-4e27-f1b6-eca07dcb660f"
      },
      "source": [
        "results = []\n",
        "callbacks = []\n",
        "\n",
        "for layers in [1, 2, 3, 4, 5]:\n",
        "\n",
        "  #\n",
        "  # hidden_n variable left here by accident, it is not used!\n",
        "  #\n",
        "  print(\"Neurons: \", hidden_n)\n",
        "\n",
        "  K.clear_session()\n",
        "  model = M.Sequential()\n",
        "  model.add(L.Dense(28*28, activation='tanh'))\n",
        "  for i in range(layers):\n",
        "    print(\"Adding layer \", i)\n",
        "    model.add(L.Dense(128, activation='tanh'))\n",
        "  model.add(L.Dense(10, activation='tanh'))\n",
        "\n",
        "  model.compile(\n",
        "    loss='categorical_crossentropy',\n",
        "    optimizer='adam',\n",
        "    metrics=['accuracy']\n",
        "  )\n",
        "\n",
        "  callback = TimingCallback()\n",
        "  callbacks.append(callback)\n",
        "\n",
        "  results.append(model.fit(\n",
        "    x_train_float.reshape(-1, 28*28),\n",
        "    y_train_oh,\n",
        "    batch_size=64,\n",
        "    epochs=5,\n",
        "    validation_data=(x_val_float.reshape(-1, 28*28), y_val_oh),\n",
        "    callbacks=[callback]\n",
        "  ))"
      ],
      "execution_count": null,
      "outputs": [
        {
          "output_type": "stream",
          "name": "stdout",
          "text": [
            "Neurons:  512\n",
            "Adding layer  0\n",
            "Epoch 1/5\n",
            "938/938 [==============================] - 9s 9ms/step - loss: 4.9122 - accuracy: 0.1012 - val_loss: 3.6126 - val_accuracy: 0.0975\n",
            "Epoch 2/5\n",
            "938/938 [==============================] - 8s 9ms/step - loss: 3.6390 - accuracy: 0.0984 - val_loss: 3.5702 - val_accuracy: 0.0984\n",
            "Epoch 3/5\n",
            "938/938 [==============================] - 8s 8ms/step - loss: 5.3184 - accuracy: 0.0967 - val_loss: 8.5361 - val_accuracy: 0.0904\n",
            "Epoch 4/5\n",
            "938/938 [==============================] - 8s 8ms/step - loss: 8.6756 - accuracy: 0.0927 - val_loss: 8.5687 - val_accuracy: 0.0962\n",
            "Epoch 5/5\n",
            "938/938 [==============================] - 8s 9ms/step - loss: 8.4191 - accuracy: 0.0948 - val_loss: 8.0527 - val_accuracy: 0.0893\n",
            "Neurons:  512\n",
            "Adding layer  0\n",
            "Adding layer  1\n",
            "Epoch 1/5\n",
            "938/938 [==============================] - 9s 9ms/step - loss: 7.9946 - accuracy: 0.0996 - val_loss: 8.0591 - val_accuracy: 0.0997\n",
            "Epoch 2/5\n",
            "938/938 [==============================] - 8s 9ms/step - loss: 8.0593 - accuracy: 0.0997 - val_loss: 8.0591 - val_accuracy: 0.0997\n",
            "Epoch 3/5\n",
            "938/938 [==============================] - 8s 9ms/step - loss: 8.0593 - accuracy: 0.0997 - val_loss: 8.0591 - val_accuracy: 0.0997\n",
            "Epoch 4/5\n",
            "938/938 [==============================] - 8s 9ms/step - loss: 8.0593 - accuracy: 0.0997 - val_loss: 8.0591 - val_accuracy: 0.0997\n",
            "Epoch 5/5\n",
            "938/938 [==============================] - 8s 9ms/step - loss: 8.0593 - accuracy: 0.0997 - val_loss: 8.0591 - val_accuracy: 0.0997\n",
            "Neurons:  512\n",
            "Adding layer  0\n",
            "Adding layer  1\n",
            "Adding layer  2\n",
            "Epoch 1/5\n",
            "938/938 [==============================] - 10s 10ms/step - loss: 7.3773 - accuracy: 0.1058 - val_loss: 8.0590 - val_accuracy: 0.1000\n",
            "Epoch 2/5\n",
            "938/938 [==============================] - 9s 10ms/step - loss: 8.0610 - accuracy: 0.1001 - val_loss: 8.0738 - val_accuracy: 0.1009\n",
            "Epoch 3/5\n",
            "938/938 [==============================] - 9s 10ms/step - loss: 8.0564 - accuracy: 0.1029 - val_loss: 8.0607 - val_accuracy: 0.1000\n",
            "Epoch 4/5\n",
            "938/938 [==============================] - 9s 9ms/step - loss: 8.0593 - accuracy: 0.1000 - val_loss: 8.0607 - val_accuracy: 0.1000\n",
            "Epoch 5/5\n",
            "938/938 [==============================] - 9s 10ms/step - loss: 8.0593 - accuracy: 0.1000 - val_loss: 8.0607 - val_accuracy: 0.1000\n",
            "Neurons:  512\n",
            "Adding layer  0\n",
            "Adding layer  1\n",
            "Adding layer  2\n",
            "Adding layer  3\n",
            "Epoch 1/5\n",
            "938/938 [==============================] - 10s 10ms/step - loss: 8.0060 - accuracy: 0.1005 - val_loss: 8.0607 - val_accuracy: 0.1001\n",
            "Epoch 2/5\n",
            "938/938 [==============================] - 9s 10ms/step - loss: 8.0639 - accuracy: 0.1001 - val_loss: 8.0624 - val_accuracy: 0.1002\n",
            "Epoch 3/5\n",
            "938/938 [==============================] - 9s 10ms/step - loss: 8.0545 - accuracy: 0.0990 - val_loss: 8.0590 - val_accuracy: 0.1000\n",
            "Epoch 4/5\n",
            "938/938 [==============================] - 9s 10ms/step - loss: 8.0590 - accuracy: 0.1000 - val_loss: 8.0590 - val_accuracy: 0.1000\n",
            "Epoch 5/5\n",
            "938/938 [==============================] - 9s 10ms/step - loss: 8.0590 - accuracy: 0.1000 - val_loss: 8.0590 - val_accuracy: 0.1000\n",
            "Neurons:  512\n",
            "Adding layer  0\n",
            "Adding layer  1\n",
            "Adding layer  2\n",
            "Adding layer  3\n",
            "Adding layer  4\n",
            "Epoch 1/5\n",
            "938/938 [==============================] - 10s 10ms/step - loss: 8.1972 - accuracy: 0.1043 - val_loss: 8.3025 - val_accuracy: 0.0999\n",
            "Epoch 2/5\n",
            "938/938 [==============================] - 9s 10ms/step - loss: 8.1430 - accuracy: 0.0998 - val_loss: 8.0607 - val_accuracy: 0.0999\n",
            "Epoch 3/5\n",
            "938/938 [==============================] - 9s 10ms/step - loss: 8.0867 - accuracy: 0.1001 - val_loss: 8.2267 - val_accuracy: 0.1002\n",
            "Epoch 4/5\n",
            "938/938 [==============================] - 9s 10ms/step - loss: nan - accuracy: 0.0998 - val_loss: nan - val_accuracy: 0.1000\n",
            "Epoch 5/5\n",
            "938/938 [==============================] - 9s 10ms/step - loss: nan - accuracy: 0.1000 - val_loss: nan - val_accuracy: 0.1000\n"
          ]
        }
      ]
    },
    {
      "cell_type": "code",
      "metadata": {
        "colab": {
          "base_uri": "https://localhost:8080/"
        },
        "id": "U76qatQiebNw",
        "outputId": "23298732-d6ca-429c-d69c-e9851867fd6b"
      },
      "source": [
        "# Try one more time, with 20 hidden layers\n",
        "\n",
        "print(\"Neurons: \", 20)\n",
        "\n",
        "K.clear_session()\n",
        "model = M.Sequential()\n",
        "model.add(L.Dense(28*28, activation='tanh'))\n",
        "for i in range(20):\n",
        "  print(\"Adding layer \", i)\n",
        "  model.add(L.Dense(128, activation='tanh'))\n",
        "model.add(L.Dense(10, activation='tanh'))\n",
        "\n",
        "model.compile(\n",
        "  loss='categorical_crossentropy',\n",
        "  optimizer='adam',\n",
        "  metrics=['accuracy']\n",
        ")\n",
        "\n",
        "callback = TimingCallback()\n",
        "callbacks.append(callback)\n",
        "\n",
        "results.append(model.fit(\n",
        "  x_train_float.reshape(-1, 28*28),\n",
        "  y_train_oh,\n",
        "  batch_size=64,\n",
        "  epochs=5,\n",
        "  validation_data=(x_val_float.reshape(-1, 28*28), y_val_oh),\n",
        "  callbacks=[callback]\n",
        "))"
      ],
      "execution_count": null,
      "outputs": [
        {
          "output_type": "stream",
          "name": "stdout",
          "text": [
            "Neurons:  20\n",
            "Adding layer  0\n",
            "Adding layer  1\n",
            "Adding layer  2\n",
            "Adding layer  3\n",
            "Adding layer  4\n",
            "Adding layer  5\n",
            "Adding layer  6\n",
            "Adding layer  7\n",
            "Adding layer  8\n",
            "Adding layer  9\n",
            "Adding layer  10\n",
            "Adding layer  11\n",
            "Adding layer  12\n",
            "Adding layer  13\n",
            "Adding layer  14\n",
            "Adding layer  15\n",
            "Adding layer  16\n",
            "Adding layer  17\n",
            "Adding layer  18\n",
            "Adding layer  19\n",
            "Epoch 1/5\n",
            "938/938 [==============================] - 15s 15ms/step - loss: 8.0289 - accuracy: 0.1013 - val_loss: 8.0590 - val_accuracy: 0.1000\n",
            "Epoch 2/5\n",
            "938/938 [==============================] - 14s 15ms/step - loss: 8.0590 - accuracy: 0.1000 - val_loss: 8.0590 - val_accuracy: 0.1000\n",
            "Epoch 3/5\n",
            "938/938 [==============================] - 14s 15ms/step - loss: 8.0590 - accuracy: 0.1000 - val_loss: 8.0590 - val_accuracy: 0.1000\n",
            "Epoch 4/5\n",
            "938/938 [==============================] - 14s 15ms/step - loss: 8.0590 - accuracy: 0.1000 - val_loss: 8.0590 - val_accuracy: 0.1000\n",
            "Epoch 5/5\n",
            "938/938 [==============================] - 14s 15ms/step - loss: 8.0590 - accuracy: 0.1000 - val_loss: 8.0590 - val_accuracy: 0.1000\n"
          ]
        }
      ]
    },
    {
      "cell_type": "code",
      "metadata": {
        "colab": {
          "base_uri": "https://localhost:8080/",
          "height": 286
        },
        "id": "AYKj6eiWg4wO",
        "outputId": "40ed81de-1c83-4f89-d0da-04548a17abf6"
      },
      "source": [
        "layer_counts = [1, 2, 3, 4, 5, 20]\n",
        "\n",
        "plt.ylim([0, 0.2])\n",
        "plt.plot(layer_counts, [max(r.history['val_accuracy']) for r in results])"
      ],
      "execution_count": null,
      "outputs": [
        {
          "output_type": "execute_result",
          "data": {
            "text/plain": [
              "[<matplotlib.lines.Line2D at 0x7f59b851a650>]"
            ]
          },
          "metadata": {},
          "execution_count": 57
        },
        {
          "output_type": "display_data",
          "data": {
            "image/png": "[encoded data removed]",
            "text/plain": [
              "<Figure size 432x288 with 1 Axes>"
            ]
          },
          "metadata": {
            "needs_background": "light"
          }
        }
      ]
    },
    {
      "cell_type": "code",
      "metadata": {
        "colab": {
          "base_uri": "https://localhost:8080/",
          "height": 282
        },
        "id": "Ey4uwX1Uhl0Y",
        "outputId": "46738eb7-9ecc-4cc8-8876-616b72d0b79c"
      },
      "source": [
        "plt.plot(layer_counts, [sum(cb.logs) for cb in callbacks])"
      ],
      "execution_count": null,
      "outputs": [
        {
          "output_type": "execute_result",
          "data": {
            "text/plain": [
              "[<matplotlib.lines.Line2D at 0x7f59b82aa9d0>]"
            ]
          },
          "metadata": {},
          "execution_count": 58
        },
        {
          "output_type": "display_data",
          "data": {
            "image/png": "[encoded data removed]",
            "text/plain": [
              "<Figure size 432x288 with 1 Axes>"
            ]
          },
          "metadata": {
            "needs_background": "light"
          }
        }
      ]
    },
    {
      "cell_type": "markdown",
      "metadata": {
        "id": "Y9HiirVxkN85"
      },
      "source": [
        "Знову бачимо, що час навчання зростає, але впливу на точність класифікації немає (не більше 10%). Можливо, функція активації `tanh` просто погано підходить для таких задач."
      ]
    },
    {
      "cell_type": "code",
      "metadata": {
        "id": "nkbdDPcXkepO"
      },
      "source": [
        ""
      ],
      "execution_count": null,
      "outputs": []
    }
  ]
}
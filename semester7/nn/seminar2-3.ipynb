{
  "nbformat": 4,
  "nbformat_minor": 0,
  "metadata": {
    "colab": {
      "name": "seminar2.ipynb",
      "provenance": [],
      "collapsed_sections": []
    },
    "kernelspec": {
      "name": "python3",
      "display_name": "Python 3"
    },
    "language_info": {
      "name": "python"
    }
  },
  "cells": [
    {
      "cell_type": "markdown",
      "metadata": {
        "id": "ogcDZhsIwXUu"
      },
      "source": [
        "##Підготовчий етап\n",
        "Імпортуйте необхідні бібліотеки."
      ]
    },
    {
      "cell_type": "code",
      "metadata": {
        "id": "GLjRfi9Es2dI"
      },
      "source": [
        "import seaborn as sns\n",
        "import matplotlib.pyplot as plt\n",
        "import pandas as pd"
      ],
      "execution_count": 2,
      "outputs": []
    },
    {
      "cell_type": "markdown",
      "metadata": {
        "id": "oK5A_L5QwqCd"
      },
      "source": [
        "Завантажимо надані у файли з вихідними даними. Ознайомтеся з ними."
      ]
    },
    {
      "cell_type": "code",
      "metadata": {
        "id": "-KEllYpFvqNw"
      },
      "source": [
        "df = pd.read_csv('https://github.com/gardenappl/uni/blob/main/semester7/nn/howpop_train.csv?raw=true')"
      ],
      "execution_count": 3,
      "outputs": []
    },
    {
      "cell_type": "code",
      "metadata": {
        "colab": {
          "base_uri": "https://localhost:8080/"
        },
        "id": "RgslXExjwS4c",
        "outputId": "03dc9dcc-f520-4c30-ffdd-762470da715b"
      },
      "source": [
        "df.info()"
      ],
      "execution_count": 4,
      "outputs": [
        {
          "output_type": "stream",
          "name": "stdout",
          "text": [
            "<class 'pandas.core.frame.DataFrame'>\n",
            "RangeIndex: 134137 entries, 0 to 134136\n",
            "Data columns (total 17 columns):\n",
            " #   Column            Non-Null Count   Dtype  \n",
            "---  ------            --------------   -----  \n",
            " 0   url               134137 non-null  object \n",
            " 1   domain            134137 non-null  object \n",
            " 2   post_id           134137 non-null  int64  \n",
            " 3   published         134137 non-null  object \n",
            " 4   author            97657 non-null   object \n",
            " 5   flow              97048 non-null   object \n",
            " 6   polling           134137 non-null  bool   \n",
            " 7   content_len       134137 non-null  int64  \n",
            " 8   title             134137 non-null  object \n",
            " 9   comments          134137 non-null  int64  \n",
            " 10  favs              134137 non-null  int64  \n",
            " 11  views             134137 non-null  int64  \n",
            " 12  votes_plus        133566 non-null  float64\n",
            " 13  votes_minus       133566 non-null  float64\n",
            " 14  views_lognorm     134137 non-null  float64\n",
            " 15  favs_lognorm      134137 non-null  float64\n",
            " 16  comments_lognorm  134137 non-null  float64\n",
            "dtypes: bool(1), float64(5), int64(5), object(6)\n",
            "memory usage: 16.5+ MB\n"
          ]
        }
      ]
    },
    {
      "cell_type": "markdown",
      "metadata": {
        "id": "N1nWm0E_xaea"
      },
      "source": [
        "Виведіть дані так як показано на зображенні."
      ]
    },
    {
      "cell_type": "code",
      "metadata": {
        "colab": {
          "base_uri": "https://localhost:8080/",
          "height": 635
        },
        "id": "tBM8doonw4vK",
        "outputId": "aee0946f-4f6d-424a-d2a5-838f5e5e133c"
      },
      "source": [
        "df.head().transpose()"
      ],
      "execution_count": 5,
      "outputs": [
        {
          "output_type": "execute_result",
          "data": {
            "text/html": [
              "<div>\n",
              "<style scoped>\n",
              "    .dataframe tbody tr th:only-of-type {\n",
              "        vertical-align: middle;\n",
              "    }\n",
              "\n",
              "    .dataframe tbody tr th {\n",
              "        vertical-align: top;\n",
              "    }\n",
              "\n",
              "    .dataframe thead th {\n",
              "        text-align: right;\n",
              "    }\n",
              "</style>\n",
              "<table border=\"1\" class=\"dataframe\">\n",
              "  <thead>\n",
              "    <tr style=\"text-align: right;\">\n",
              "      <th></th>\n",
              "      <th>0</th>\n",
              "      <th>1</th>\n",
              "      <th>2</th>\n",
              "      <th>3</th>\n",
              "      <th>4</th>\n",
              "    </tr>\n",
              "  </thead>\n",
              "  <tbody>\n",
              "    <tr>\n",
              "      <th>url</th>\n",
              "      <td>https://habrahabr.ru/post/18284/</td>\n",
              "      <td>https://habrahabr.ru/post/18285/</td>\n",
              "      <td>https://habrahabr.ru/post/18286/</td>\n",
              "      <td>https://habrahabr.ru/post/18291/</td>\n",
              "      <td>https://geektimes.ru/post/18294/</td>\n",
              "    </tr>\n",
              "    <tr>\n",
              "      <th>domain</th>\n",
              "      <td>habrahabr.ru</td>\n",
              "      <td>habrahabr.ru</td>\n",
              "      <td>habrahabr.ru</td>\n",
              "      <td>habrahabr.ru</td>\n",
              "      <td>geektimes.ru</td>\n",
              "    </tr>\n",
              "    <tr>\n",
              "      <th>post_id</th>\n",
              "      <td>18284</td>\n",
              "      <td>18285</td>\n",
              "      <td>18286</td>\n",
              "      <td>18291</td>\n",
              "      <td>18294</td>\n",
              "    </tr>\n",
              "    <tr>\n",
              "      <th>published</th>\n",
              "      <td>2008-01-01 18:19:00</td>\n",
              "      <td>2008-01-01 18:30:00</td>\n",
              "      <td>2008-01-01 18:34:00</td>\n",
              "      <td>2008-01-02 01:32:00</td>\n",
              "      <td>2008-01-02 14:34:00</td>\n",
              "    </tr>\n",
              "    <tr>\n",
              "      <th>author</th>\n",
              "      <td>@Tapac</td>\n",
              "      <td>@DezmASter</td>\n",
              "      <td>@DezmASter</td>\n",
              "      <td>@Taoorus</td>\n",
              "      <td>@dennydo</td>\n",
              "    </tr>\n",
              "    <tr>\n",
              "      <th>flow</th>\n",
              "      <td>develop</td>\n",
              "      <td>design</td>\n",
              "      <td>design</td>\n",
              "      <td>design</td>\n",
              "      <td>NaN</td>\n",
              "    </tr>\n",
              "    <tr>\n",
              "      <th>polling</th>\n",
              "      <td>False</td>\n",
              "      <td>False</td>\n",
              "      <td>False</td>\n",
              "      <td>False</td>\n",
              "      <td>False</td>\n",
              "    </tr>\n",
              "    <tr>\n",
              "      <th>content_len</th>\n",
              "      <td>4305</td>\n",
              "      <td>7344</td>\n",
              "      <td>8431</td>\n",
              "      <td>5662</td>\n",
              "      <td>3706</td>\n",
              "    </tr>\n",
              "    <tr>\n",
              "      <th>title</th>\n",
              "      <td>Новогодний подарок блоггерам — WordPress 2.3.2</td>\n",
              "      <td>Сумасшедшие яйца, или сервис для отслеживания ...</td>\n",
              "      <td>Сумасшедшие яйца, или сервис для отслеживания ...</td>\n",
              "      <td>Сглаживание шрифтов, и субпиксельная отрисовка</td>\n",
              "      <td>Почему мне не нравится iPhone</td>\n",
              "    </tr>\n",
              "    <tr>\n",
              "      <th>comments</th>\n",
              "      <td>0</td>\n",
              "      <td>1</td>\n",
              "      <td>47</td>\n",
              "      <td>102</td>\n",
              "      <td>230</td>\n",
              "    </tr>\n",
              "    <tr>\n",
              "      <th>favs</th>\n",
              "      <td>0</td>\n",
              "      <td>1</td>\n",
              "      <td>72</td>\n",
              "      <td>36</td>\n",
              "      <td>6</td>\n",
              "    </tr>\n",
              "    <tr>\n",
              "      <th>views</th>\n",
              "      <td>236</td>\n",
              "      <td>353</td>\n",
              "      <td>1200</td>\n",
              "      <td>5700</td>\n",
              "      <td>1400</td>\n",
              "    </tr>\n",
              "    <tr>\n",
              "      <th>votes_plus</th>\n",
              "      <td>0</td>\n",
              "      <td>1</td>\n",
              "      <td>45</td>\n",
              "      <td>72</td>\n",
              "      <td>73</td>\n",
              "    </tr>\n",
              "    <tr>\n",
              "      <th>votes_minus</th>\n",
              "      <td>0</td>\n",
              "      <td>0</td>\n",
              "      <td>5</td>\n",
              "      <td>3</td>\n",
              "      <td>15</td>\n",
              "    </tr>\n",
              "    <tr>\n",
              "      <th>views_lognorm</th>\n",
              "      <td>-0.792687</td>\n",
              "      <td>-0.485214</td>\n",
              "      <td>0.44609</td>\n",
              "      <td>1.62747</td>\n",
              "      <td>1.3624</td>\n",
              "    </tr>\n",
              "    <tr>\n",
              "      <th>favs_lognorm</th>\n",
              "      <td>-1.34407</td>\n",
              "      <td>-0.831946</td>\n",
              "      <td>1.79402</td>\n",
              "      <td>1.30005</td>\n",
              "      <td>0.961094</td>\n",
              "    </tr>\n",
              "    <tr>\n",
              "      <th>comments_lognorm</th>\n",
              "      <td>-2.43687</td>\n",
              "      <td>-1.87319</td>\n",
              "      <td>0.574656</td>\n",
              "      <td>1.16738</td>\n",
              "      <td>2.02036</td>\n",
              "    </tr>\n",
              "  </tbody>\n",
              "</table>\n",
              "</div>"
            ],
            "text/plain": [
              "                                                               0  ...                                 4\n",
              "url                             https://habrahabr.ru/post/18284/  ...  https://geektimes.ru/post/18294/\n",
              "domain                                              habrahabr.ru  ...                      geektimes.ru\n",
              "post_id                                                    18284  ...                             18294\n",
              "published                                    2008-01-01 18:19:00  ...               2008-01-02 14:34:00\n",
              "author                                                    @Tapac  ...                          @dennydo\n",
              "flow                                                     develop  ...                               NaN\n",
              "polling                                                    False  ...                             False\n",
              "content_len                                                 4305  ...                              3706\n",
              "title             Новогодний подарок блоггерам — WordPress 2.3.2  ...     Почему мне не нравится iPhone\n",
              "comments                                                       0  ...                               230\n",
              "favs                                                           0  ...                                 6\n",
              "views                                                        236  ...                              1400\n",
              "votes_plus                                                     0  ...                                73\n",
              "votes_minus                                                    0  ...                                15\n",
              "views_lognorm                                          -0.792687  ...                            1.3624\n",
              "favs_lognorm                                            -1.34407  ...                          0.961094\n",
              "comments_lognorm                                        -2.43687  ...                           2.02036\n",
              "\n",
              "[17 rows x 5 columns]"
            ]
          },
          "metadata": {},
          "execution_count": 5
        }
      ]
    },
    {
      "cell_type": "markdown",
      "metadata": {
        "id": "4MfN18aSxwjC"
      },
      "source": [
        "Видаліть данні, що завершуються на _lognom"
      ]
    },
    {
      "cell_type": "code",
      "metadata": {
        "id": "i5bfiASIxDBU"
      },
      "source": [
        "for i in df:\n",
        "  if (i.endswith('_lognorm')):\n",
        "    df.pop(i)"
      ],
      "execution_count": 6,
      "outputs": []
    },
    {
      "cell_type": "markdown",
      "metadata": {
        "id": "r6EAjaieyagh"
      },
      "source": [
        "Застосуйте для виводу статистичної інформації функцію\n",
        "DataFrame.describe()"
      ]
    },
    {
      "cell_type": "code",
      "metadata": {
        "colab": {
          "base_uri": "https://localhost:8080/",
          "height": 300
        },
        "id": "K8vdtIzhx2on",
        "outputId": "66440aa3-58f4-47c2-9828-3bee038151cf"
      },
      "source": [
        "df.describe()"
      ],
      "execution_count": 7,
      "outputs": [
        {
          "output_type": "execute_result",
          "data": {
            "text/html": [
              "<div>\n",
              "<style scoped>\n",
              "    .dataframe tbody tr th:only-of-type {\n",
              "        vertical-align: middle;\n",
              "    }\n",
              "\n",
              "    .dataframe tbody tr th {\n",
              "        vertical-align: top;\n",
              "    }\n",
              "\n",
              "    .dataframe thead th {\n",
              "        text-align: right;\n",
              "    }\n",
              "</style>\n",
              "<table border=\"1\" class=\"dataframe\">\n",
              "  <thead>\n",
              "    <tr style=\"text-align: right;\">\n",
              "      <th></th>\n",
              "      <th>post_id</th>\n",
              "      <th>content_len</th>\n",
              "      <th>comments</th>\n",
              "      <th>favs</th>\n",
              "      <th>views</th>\n",
              "      <th>votes_plus</th>\n",
              "      <th>votes_minus</th>\n",
              "    </tr>\n",
              "  </thead>\n",
              "  <tbody>\n",
              "    <tr>\n",
              "      <th>count</th>\n",
              "      <td>134137.000000</td>\n",
              "      <td>134137.000000</td>\n",
              "      <td>134137.000000</td>\n",
              "      <td>134137.000000</td>\n",
              "      <td>1.341370e+05</td>\n",
              "      <td>133566.000000</td>\n",
              "      <td>133566.000000</td>\n",
              "    </tr>\n",
              "    <tr>\n",
              "      <th>mean</th>\n",
              "      <td>181307.054265</td>\n",
              "      <td>7516.929699</td>\n",
              "      <td>39.625994</td>\n",
              "      <td>71.999866</td>\n",
              "      <td>1.663101e+04</td>\n",
              "      <td>35.536888</td>\n",
              "      <td>8.050035</td>\n",
              "    </tr>\n",
              "    <tr>\n",
              "      <th>std</th>\n",
              "      <td>81766.350702</td>\n",
              "      <td>8724.771640</td>\n",
              "      <td>62.398958</td>\n",
              "      <td>145.854135</td>\n",
              "      <td>3.147982e+04</td>\n",
              "      <td>42.461073</td>\n",
              "      <td>11.398282</td>\n",
              "    </tr>\n",
              "    <tr>\n",
              "      <th>min</th>\n",
              "      <td>18284.000000</td>\n",
              "      <td>1.000000</td>\n",
              "      <td>0.000000</td>\n",
              "      <td>0.000000</td>\n",
              "      <td>3.000000e+00</td>\n",
              "      <td>0.000000</td>\n",
              "      <td>0.000000</td>\n",
              "    </tr>\n",
              "    <tr>\n",
              "      <th>25%</th>\n",
              "      <td>115565.000000</td>\n",
              "      <td>2179.000000</td>\n",
              "      <td>7.000000</td>\n",
              "      <td>8.000000</td>\n",
              "      <td>2.100000e+03</td>\n",
              "      <td>11.000000</td>\n",
              "      <td>2.000000</td>\n",
              "    </tr>\n",
              "    <tr>\n",
              "      <th>50%</th>\n",
              "      <td>182666.000000</td>\n",
              "      <td>4949.000000</td>\n",
              "      <td>19.000000</td>\n",
              "      <td>27.000000</td>\n",
              "      <td>7.600000e+03</td>\n",
              "      <td>22.000000</td>\n",
              "      <td>5.000000</td>\n",
              "    </tr>\n",
              "    <tr>\n",
              "      <th>75%</th>\n",
              "      <td>257401.000000</td>\n",
              "      <td>9858.000000</td>\n",
              "      <td>48.000000</td>\n",
              "      <td>78.000000</td>\n",
              "      <td>1.870000e+04</td>\n",
              "      <td>45.000000</td>\n",
              "      <td>10.000000</td>\n",
              "    </tr>\n",
              "    <tr>\n",
              "      <th>max</th>\n",
              "      <td>314088.000000</td>\n",
              "      <td>352471.000000</td>\n",
              "      <td>2266.000000</td>\n",
              "      <td>8718.000000</td>\n",
              "      <td>1.730000e+06</td>\n",
              "      <td>1466.000000</td>\n",
              "      <td>445.000000</td>\n",
              "    </tr>\n",
              "  </tbody>\n",
              "</table>\n",
              "</div>"
            ],
            "text/plain": [
              "             post_id    content_len  ...     votes_plus    votes_minus\n",
              "count  134137.000000  134137.000000  ...  133566.000000  133566.000000\n",
              "mean   181307.054265    7516.929699  ...      35.536888       8.050035\n",
              "std     81766.350702    8724.771640  ...      42.461073      11.398282\n",
              "min     18284.000000       1.000000  ...       0.000000       0.000000\n",
              "25%    115565.000000    2179.000000  ...      11.000000       2.000000\n",
              "50%    182666.000000    4949.000000  ...      22.000000       5.000000\n",
              "75%    257401.000000    9858.000000  ...      45.000000      10.000000\n",
              "max    314088.000000  352471.000000  ...    1466.000000     445.000000\n",
              "\n",
              "[8 rows x 7 columns]"
            ]
          },
          "metadata": {},
          "execution_count": 7
        }
      ]
    },
    {
      "cell_type": "markdown",
      "metadata": {
        "id": "bq3BXskiyz8i"
      },
      "source": [
        "Стовпець published (час публікації) містить рядки. Щоб ми могли працювати\n",
        "з цими даними як з датою/ часом публікації, перетворіть їх до типу datetime:"
      ]
    },
    {
      "cell_type": "code",
      "metadata": {
        "id": "0Sxy5zCOyYF2"
      },
      "source": [
        "df['published'] = df.published.astype('datetime64')"
      ],
      "execution_count": 8,
      "outputs": []
    },
    {
      "cell_type": "markdown",
      "metadata": {
        "id": "oS9_RN-EzidZ"
      },
      "source": [
        "Створіть кілька стовпців на основі даних про час публікації:"
      ]
    },
    {
      "cell_type": "code",
      "metadata": {
        "id": "sg-JNeU9yyNw"
      },
      "source": [
        "df['year'] = [d.year for d in df.published]\n",
        "df['month'] = [d.month for d in df.published]\n",
        "df['dayofweek'] = [d.isoweekday() for d in df.published]\n",
        "df['hour'] = [d.hour for d in df.published]"
      ],
      "execution_count": 9,
      "outputs": []
    },
    {
      "cell_type": "markdown",
      "metadata": {
        "id": "dvwe7Vps0Mcp"
      },
      "source": [
        "# Завдання"
      ]
    },
    {
      "cell_type": "code",
      "metadata": {
        "colab": {
          "base_uri": "https://localhost:8080/",
          "height": 521
        },
        "id": "YTG-4tuKzxFM",
        "outputId": "cc834a96-faf9-4557-9968-49d3a60f6f38"
      },
      "source": [
        "df.head()"
      ],
      "execution_count": 10,
      "outputs": [
        {
          "output_type": "execute_result",
          "data": {
            "text/html": [
              "<div>\n",
              "<style scoped>\n",
              "    .dataframe tbody tr th:only-of-type {\n",
              "        vertical-align: middle;\n",
              "    }\n",
              "\n",
              "    .dataframe tbody tr th {\n",
              "        vertical-align: top;\n",
              "    }\n",
              "\n",
              "    .dataframe thead th {\n",
              "        text-align: right;\n",
              "    }\n",
              "</style>\n",
              "<table border=\"1\" class=\"dataframe\">\n",
              "  <thead>\n",
              "    <tr style=\"text-align: right;\">\n",
              "      <th></th>\n",
              "      <th>url</th>\n",
              "      <th>domain</th>\n",
              "      <th>post_id</th>\n",
              "      <th>published</th>\n",
              "      <th>author</th>\n",
              "      <th>flow</th>\n",
              "      <th>polling</th>\n",
              "      <th>content_len</th>\n",
              "      <th>title</th>\n",
              "      <th>comments</th>\n",
              "      <th>favs</th>\n",
              "      <th>views</th>\n",
              "      <th>votes_plus</th>\n",
              "      <th>votes_minus</th>\n",
              "      <th>year</th>\n",
              "      <th>month</th>\n",
              "      <th>dayofweek</th>\n",
              "      <th>hour</th>\n",
              "    </tr>\n",
              "  </thead>\n",
              "  <tbody>\n",
              "    <tr>\n",
              "      <th>0</th>\n",
              "      <td>https://habrahabr.ru/post/18284/</td>\n",
              "      <td>habrahabr.ru</td>\n",
              "      <td>18284</td>\n",
              "      <td>2008-01-01 18:19:00</td>\n",
              "      <td>@Tapac</td>\n",
              "      <td>develop</td>\n",
              "      <td>False</td>\n",
              "      <td>4305</td>\n",
              "      <td>Новогодний подарок блоггерам — WordPress 2.3.2</td>\n",
              "      <td>0</td>\n",
              "      <td>0</td>\n",
              "      <td>236</td>\n",
              "      <td>0.0</td>\n",
              "      <td>0.0</td>\n",
              "      <td>2008</td>\n",
              "      <td>1</td>\n",
              "      <td>2</td>\n",
              "      <td>18</td>\n",
              "    </tr>\n",
              "    <tr>\n",
              "      <th>1</th>\n",
              "      <td>https://habrahabr.ru/post/18285/</td>\n",
              "      <td>habrahabr.ru</td>\n",
              "      <td>18285</td>\n",
              "      <td>2008-01-01 18:30:00</td>\n",
              "      <td>@DezmASter</td>\n",
              "      <td>design</td>\n",
              "      <td>False</td>\n",
              "      <td>7344</td>\n",
              "      <td>Сумасшедшие яйца, или сервис для отслеживания ...</td>\n",
              "      <td>1</td>\n",
              "      <td>1</td>\n",
              "      <td>353</td>\n",
              "      <td>1.0</td>\n",
              "      <td>0.0</td>\n",
              "      <td>2008</td>\n",
              "      <td>1</td>\n",
              "      <td>2</td>\n",
              "      <td>18</td>\n",
              "    </tr>\n",
              "    <tr>\n",
              "      <th>2</th>\n",
              "      <td>https://habrahabr.ru/post/18286/</td>\n",
              "      <td>habrahabr.ru</td>\n",
              "      <td>18286</td>\n",
              "      <td>2008-01-01 18:34:00</td>\n",
              "      <td>@DezmASter</td>\n",
              "      <td>design</td>\n",
              "      <td>False</td>\n",
              "      <td>8431</td>\n",
              "      <td>Сумасшедшие яйца, или сервис для отслеживания ...</td>\n",
              "      <td>47</td>\n",
              "      <td>72</td>\n",
              "      <td>1200</td>\n",
              "      <td>45.0</td>\n",
              "      <td>5.0</td>\n",
              "      <td>2008</td>\n",
              "      <td>1</td>\n",
              "      <td>2</td>\n",
              "      <td>18</td>\n",
              "    </tr>\n",
              "    <tr>\n",
              "      <th>3</th>\n",
              "      <td>https://habrahabr.ru/post/18291/</td>\n",
              "      <td>habrahabr.ru</td>\n",
              "      <td>18291</td>\n",
              "      <td>2008-01-02 01:32:00</td>\n",
              "      <td>@Taoorus</td>\n",
              "      <td>design</td>\n",
              "      <td>False</td>\n",
              "      <td>5662</td>\n",
              "      <td>Сглаживание шрифтов, и субпиксельная отрисовка</td>\n",
              "      <td>102</td>\n",
              "      <td>36</td>\n",
              "      <td>5700</td>\n",
              "      <td>72.0</td>\n",
              "      <td>3.0</td>\n",
              "      <td>2008</td>\n",
              "      <td>1</td>\n",
              "      <td>3</td>\n",
              "      <td>1</td>\n",
              "    </tr>\n",
              "    <tr>\n",
              "      <th>4</th>\n",
              "      <td>https://geektimes.ru/post/18294/</td>\n",
              "      <td>geektimes.ru</td>\n",
              "      <td>18294</td>\n",
              "      <td>2008-01-02 14:34:00</td>\n",
              "      <td>@dennydo</td>\n",
              "      <td>NaN</td>\n",
              "      <td>False</td>\n",
              "      <td>3706</td>\n",
              "      <td>Почему мне не нравится iPhone</td>\n",
              "      <td>230</td>\n",
              "      <td>6</td>\n",
              "      <td>1400</td>\n",
              "      <td>73.0</td>\n",
              "      <td>15.0</td>\n",
              "      <td>2008</td>\n",
              "      <td>1</td>\n",
              "      <td>3</td>\n",
              "      <td>14</td>\n",
              "    </tr>\n",
              "  </tbody>\n",
              "</table>\n",
              "</div>"
            ],
            "text/plain": [
              "                                url        domain  ...  dayofweek hour\n",
              "0  https://habrahabr.ru/post/18284/  habrahabr.ru  ...          2   18\n",
              "1  https://habrahabr.ru/post/18285/  habrahabr.ru  ...          2   18\n",
              "2  https://habrahabr.ru/post/18286/  habrahabr.ru  ...          2   18\n",
              "3  https://habrahabr.ru/post/18291/  habrahabr.ru  ...          3    1\n",
              "4  https://geektimes.ru/post/18294/  geektimes.ru  ...          3   14\n",
              "\n",
              "[5 rows x 18 columns]"
            ]
          },
          "metadata": {},
          "execution_count": 10
        }
      ]
    },
    {
      "cell_type": "code",
      "metadata": {
        "id": "yN10C8v93etU"
      },
      "source": [
        "from pylab import rcParams\n",
        "rcParams['figure.figsize'] = [10, 10]"
      ],
      "execution_count": 12,
      "outputs": []
    },
    {
      "cell_type": "markdown",
      "metadata": {
        "id": "1oyCztcC0S1A"
      },
      "source": [
        "В якому році та місяці було найбільше публікацій?\n",
        "* Березень 2016\n",
        "* Березень 2015\n",
        "* Квітень 2015\n",
        "* Квітень 2016"
      ]
    },
    {
      "cell_type": "code",
      "metadata": {
        "colab": {
          "base_uri": "https://localhost:8080/",
          "height": 623
        },
        "id": "7q7uhfUNzyjo",
        "outputId": "4e1bf50d-f7b1-403e-a3fd-496f24220daf"
      },
      "source": [
        "df[(df['year'] >= 2015) & df['month'].between(3, 4)].groupby(['year', 'month'])['post_id'].count().plot()"
      ],
      "execution_count": 13,
      "outputs": [
        {
          "output_type": "execute_result",
          "data": {
            "text/plain": [
              "<matplotlib.axes._subplots.AxesSubplot at 0x7fb0801f8e90>"
            ]
          },
          "metadata": {},
          "execution_count": 13
        },
        {
          "output_type": "display_data",
          "data": {
            "image/png": "[encoded data removed]",
            "text/plain": [
              "<Figure size 720x720 with 1 Axes>"
            ]
          },
          "metadata": {
            "needs_background": "light"
          }
        }
      ]
    },
    {
      "cell_type": "markdown",
      "metadata": {
        "id": "C44EzkDo7pUI"
      },
      "source": [
        "**Найбільше публікацій у березні 2015.**\n",
        "\n",
        "Проаналізуйте публікації в місяці з попереднього питання. Оберіть один або кілька\n",
        "варіантів.\n",
        "\n",
        "* Один або кілька днів сильно виділяються із загальної картини\n",
        "* На Хабрі (habrahabr.ru) завжди більше статей, ніж на Гіктаймсі (geektimes.ru)\n",
        "* По суботах на Гіктаймсі та Хабрі публікують приблизно однакове число статей"
      ]
    },
    {
      "cell_type": "code",
      "metadata": {
        "id": "1XU3il3k0aHx"
      },
      "source": [
        "count_by_day_site = df[(df['year'] == 2015) & (df['month'] == 3)].groupby(['dayofweek', 'domain'])['post_id'].count()"
      ],
      "execution_count": 14,
      "outputs": []
    },
    {
      "cell_type": "code",
      "metadata": {
        "colab": {
          "base_uri": "https://localhost:8080/",
          "height": 386
        },
        "id": "fM8-4KvJ878r",
        "outputId": "a9526413-a525-445c-9543-1cb39af71582"
      },
      "source": [
        "sns.relplot(data=count_by_day_site, x=\"dayofweek\", y=count_by_day_site, hue=\"domain\")"
      ],
      "execution_count": 15,
      "outputs": [
        {
          "output_type": "execute_result",
          "data": {
            "text/plain": [
              "<seaborn.axisgrid.FacetGrid at 0x7fb082ced850>"
            ]
          },
          "metadata": {},
          "execution_count": 15
        },
        {
          "output_type": "display_data",
          "data": {
            "image/png": "[encoded data removed]",
            "text/plain": [
              "<Figure size 461.875x360 with 1 Axes>"
            ]
          },
          "metadata": {
            "needs_background": "light"
          }
        }
      ]
    },
    {
      "cell_type": "markdown",
      "metadata": {
        "id": "39TSHZ0lGFoI"
      },
      "source": [
        "* **Субота і неділя виділяються**\n",
        "* **На Хабрі завжди більше, можливо за вийнятком суботи**\n",
        "* **В суботу і там, і там приблизно однаково**\n"
      ]
    },
    {
      "cell_type": "markdown",
      "metadata": {
        "id": "p1inAbzTHs-B"
      },
      "source": [
        "Коли найкраще опублікувати статтю? Оберіть один або кілька варіантів.\n",
        "\n",
        "* Найбільше переглядів набирають статті, опубліковані о 12 годині дня\n",
        "* В опублікованих о 10 ранку постів найбільше коментарів\n",
        "* Найбільше переглядів набирають статті, опубліковані о 6 годині ранку\n",
        "* Максимальна кількість коментарів на Гіктаймсі набрала стаття, опублікована о 9\n",
        "годині вечора\n",
        "* На Хабрі денні статті коментують частіше, ніж вечірні"
      ]
    },
    {
      "cell_type": "code",
      "metadata": {
        "id": "t1lryM6DCder"
      },
      "source": [
        "views_by_hour = df.groupby(['hour', 'domain'])['views'].sum()"
      ],
      "execution_count": 16,
      "outputs": []
    },
    {
      "cell_type": "code",
      "metadata": {
        "colab": {
          "base_uri": "https://localhost:8080/",
          "height": 386
        },
        "id": "tVKpevtdHxew",
        "outputId": "fd0ad233-0b2c-4afa-efc8-726c8b4ac99f"
      },
      "source": [
        "sns.relplot(data=views_by_hour, x='hour', y=views_by_hour, hue='domain')"
      ],
      "execution_count": 17,
      "outputs": [
        {
          "output_type": "execute_result",
          "data": {
            "text/plain": [
              "<seaborn.axisgrid.FacetGrid at 0x7fb082f55ad0>"
            ]
          },
          "metadata": {},
          "execution_count": 17
        },
        {
          "output_type": "display_data",
          "data": {
            "image/png": "[encoded data removed]",
            "text/plain": [
              "<Figure size 461.875x360 with 1 Axes>"
            ]
          },
          "metadata": {
            "needs_background": "light"
          }
        }
      ]
    },
    {
      "cell_type": "markdown",
      "metadata": {
        "id": "rNy05_cCJxnO"
      },
      "source": [
        "* **Найбільше переглядів набирають статті, опубліковані о 12 годині дня**"
      ]
    },
    {
      "cell_type": "code",
      "metadata": {
        "id": "SvkqM7LzIOjR"
      },
      "source": [
        "comments_by_hour = df.groupby(['hour', 'domain'])['comments'].sum()"
      ],
      "execution_count": 18,
      "outputs": []
    },
    {
      "cell_type": "code",
      "metadata": {
        "colab": {
          "base_uri": "https://localhost:8080/",
          "height": 386
        },
        "id": "lpYIoPhFJ8Dl",
        "outputId": "cfc33cfe-86cc-445d-aee2-51261e298f92"
      },
      "source": [
        "sns.relplot(data=comments_by_hour, x='hour', y=comments_by_hour, hue='domain')"
      ],
      "execution_count": 19,
      "outputs": [
        {
          "output_type": "execute_result",
          "data": {
            "text/plain": [
              "<seaborn.axisgrid.FacetGrid at 0x7fb082e50390>"
            ]
          },
          "metadata": {},
          "execution_count": 19
        },
        {
          "output_type": "display_data",
          "data": {
            "image/png": "[encoded data removed]",
            "text/plain": [
              "<Figure size 461.875x360 with 1 Axes>"
            ]
          },
          "metadata": {
            "needs_background": "light"
          }
        }
      ]
    },
    {
      "cell_type": "markdown",
      "metadata": {
        "id": "rMXC-vlRKL_r"
      },
      "source": [
        "* **На Хабрі денні статті коментують частіше, ніж вечірні**"
      ]
    },
    {
      "cell_type": "code",
      "metadata": {
        "id": "_D_GjFHnKALm"
      },
      "source": [
        "max_comments_by_hour = df.groupby(['hour', 'domain'])['comments'].max()"
      ],
      "execution_count": 20,
      "outputs": []
    },
    {
      "cell_type": "code",
      "metadata": {
        "colab": {
          "base_uri": "https://localhost:8080/",
          "height": 386
        },
        "id": "l43F74iRKSio",
        "outputId": "55f71984-cb74-477c-e105-e3a6e17b4aed"
      },
      "source": [
        "sns.relplot(data=max_comments_by_hour, x='hour', y=max_comments_by_hour, hue='domain')"
      ],
      "execution_count": 21,
      "outputs": [
        {
          "output_type": "execute_result",
          "data": {
            "text/plain": [
              "<seaborn.axisgrid.FacetGrid at 0x7fb082dbc890>"
            ]
          },
          "metadata": {},
          "execution_count": 21
        },
        {
          "output_type": "display_data",
          "data": {
            "image/png": "[encoded data removed]",
            "text/plain": [
              "<Figure size 461.875x360 with 1 Axes>"
            ]
          },
          "metadata": {
            "needs_background": "light"
          }
        }
      ]
    },
    {
      "cell_type": "markdown",
      "metadata": {
        "id": "jV1n8rkQKtKl"
      },
      "source": [
        "Кого з топ-20 авторів найчастіше мінусують?"
      ]
    },
    {
      "cell_type": "code",
      "metadata": {
        "colab": {
          "base_uri": "https://localhost:8080/",
          "height": 606
        },
        "id": "B18AiVu-KVHY",
        "outputId": "da7dcf2b-94d6-44bd-9b7b-e01274433193"
      },
      "source": [
        "authors = ['@Mordatyj', '@Mithgol', '@alizar', '@ilya42']\n",
        "minus_by_author = df[df['author'].isin(authors)].groupby('author')['votes_minus'].sum().plot()"
      ],
      "execution_count": 22,
      "outputs": [
        {
          "output_type": "display_data",
          "data": {
            "image/png": "[encoded data removed]",
            "text/plain": [
              "<Figure size 720x720 with 1 Axes>"
            ]
          },
          "metadata": {
            "needs_background": "light"
          }
        }
      ]
    },
    {
      "cell_type": "markdown",
      "metadata": {
        "id": "cFhA5xXvMo5H"
      },
      "source": [
        "**Найчастіше мінусують @alizar**\n",
        "\n",
        "Порівняйте суботи і понеділки. Чи правда, що по суботах автори пишуть в основному\n",
        "вдень, а по понеділках – в основному ввечері?"
      ]
    },
    {
      "cell_type": "code",
      "metadata": {
        "id": "zAyar0xcMdVY"
      },
      "source": [
        "count_by_day_hour = df[df['dayofweek'].isin([1, 6])].groupby(['hour', 'dayofweek'])['post_id'].count()"
      ],
      "execution_count": 23,
      "outputs": []
    },
    {
      "cell_type": "code",
      "metadata": {
        "colab": {
          "base_uri": "https://localhost:8080/",
          "height": 386
        },
        "id": "qOY4lfmIOWmO",
        "outputId": "0610aa7c-5ffa-496b-adfc-7ca9c1036768"
      },
      "source": [
        "sns.relplot(data=count_by_day_hour, x='hour', y=count_by_day_hour, hue='dayofweek')"
      ],
      "execution_count": 24,
      "outputs": [
        {
          "output_type": "execute_result",
          "data": {
            "text/plain": [
              "<seaborn.axisgrid.FacetGrid at 0x7fb0817dd250>"
            ]
          },
          "metadata": {},
          "execution_count": 24
        },
        {
          "output_type": "display_data",
          "data": {
            "image/png": "[encoded data removed]",
            "text/plain": [
              "<Figure size 422x360 with 1 Axes>"
            ]
          },
          "metadata": {
            "needs_background": "light"
          }
        }
      ]
    },
    {
      "cell_type": "markdown",
      "metadata": {
        "id": "N8nIU838O-fr"
      },
      "source": [
        "**В понеділок пишуть в основному вдень. У суботу пишуть як і вдень, так і ввечері**"
      ]
    }
  ]
}